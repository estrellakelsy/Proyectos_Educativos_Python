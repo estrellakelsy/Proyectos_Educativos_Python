{
 "cells": [
  {
   "cell_type": "markdown",
   "id": "edb6055a",
   "metadata": {},
   "source": [
    "# Ejercicio 01\n",
    "## Introduce lo siguiente en Python, asignando a cada uno un nombre único de variable:\n",
    "a) 4\n",
    "b) 3.1415\n",
    "c) 1.0\n",
    "d) 2+4j\n",
    "e) 'Hello'\n",
    "f) 'World'"
   ]
  },
  {
   "cell_type": "code",
   "execution_count": 2,
   "id": "e2e13b33",
   "metadata": {},
   "outputs": [],
   "source": [
    "# a)\n",
    "numero_entero = 4\n",
    "# b)\n",
    "valor_pi = 3.14\n",
    "# c)\n",
    "numero_decimal = 1.0\n",
    "# d)\n",
    "num_complejos = 2 + 4j\n",
    "# e)\n",
    "Cadena_texto1 ='hello'\n",
    "# f)\n",
    "Cadena_texto2 = 'world'"
   ]
  },
  {
   "cell_type": "markdown",
   "id": "6d426353",
   "metadata": {},
   "source": [
    "# Ejercicio 02 \n",
    "## ¿De qué tipo es cada una de las variables creadas? Use la función oportuna para consultarlo"
   ]
  },
  {
   "cell_type": "code",
   "execution_count": 3,
   "id": "d628813f",
   "metadata": {},
   "outputs": [
    {
     "name": "stdout",
     "output_type": "stream",
     "text": [
      "<class 'int'>\n",
      "<class 'float'>\n",
      "<class 'float'>\n",
      "(2+4j) <class 'complex'>\n",
      "hello <class 'str'>\n",
      "world <class 'str'>\n"
     ]
    }
   ],
   "source": [
    "print(type(numero_entero))\n",
    "print(type(valor_pi))\n",
    "print(type(numero_decimal))\n",
    "print(num_complejos, type(num_complejos))\n",
    "print(Cadena_texto1, type(Cadena_texto1))\n",
    "print(Cadena_texto2, type(Cadena_texto2))"
   ]
  },
  {
   "cell_type": "markdown",
   "id": "65e21780",
   "metadata": {},
   "source": [
    "# Ejercicio 03\n",
    "## ¿Cuál de esos 6 tipos se pueden ...? (haga la comprobación por pares)\n",
    "a) Sumar\n",
    "b) Restar\n",
    "c) Multiplicar\n",
    "d) Dividir"
   ]
  },
  {
   "cell_type": "code",
   "execution_count": 2,
   "id": "20c6f624",
   "metadata": {},
   "outputs": [
    {
     "name": "stdout",
     "output_type": "stream",
     "text": [
      "(8, 0, 16, 1.0)\n",
      "(13.14, -16.86, 15.700000000000001, 0.785)\n",
      "(11.0, 0.0, 20.0, 1.0)\n",
      "((4+4j), (-4+4j), (8+16j), (1+2j))\n",
      "helloworld\n",
      "hellohellohello\n"
     ]
    }
   ],
   "source": [
    "numero_entero = (4+4),(4-4),(4*4),(4/4)\n",
    "print(numero_entero)\n",
    "\n",
    "valor_pi = (3.14+10),(3.14-20),(3.14*5),(3.14/4)\n",
    "print(valor_pi)\n",
    "\n",
    "numero_decimal = (1.0+10),(1.0-1),(1.0*20),(1.0/1)\n",
    "print(numero_decimal)\n",
    "\n",
    "num_complejos = ((2 + 4j) + 2),((2 + 4j)-6),((2 + 4j)*4),((2 + 4j)/2)\n",
    "print(num_complejos)\n",
    "\n",
    "Cadena_texto1 ='hello'\n",
    "Cadena_texto2 = 'world'\n",
    "print (Cadena_texto1 + Cadena_texto2)\n",
    "print (Cadena_texto1 * 3)"
   ]
  },
  {
   "cell_type": "markdown",
   "id": "cef286d8",
   "metadata": {},
   "source": [
    "# Ejercicio 04 \n",
    "## Si no se produce ningún error, ¿Cuáles son los tipos de salida una vez hecha la operación?"
   ]
  },
  {
   "cell_type": "code",
   "execution_count": 54,
   "id": "ae45b678",
   "metadata": {},
   "outputs": [
    {
     "name": "stdout",
     "output_type": "stream",
     "text": [
      "NUMERO ENTERO 4: suma 8 Resta 0 Multiplicacion 16 Division 1.0\n",
      "VALOR DE PI: suma 13.14 Resta -16.86 Multiplicacion 15.700000000000001 Division 0.785\n",
      "NUMERO DECIMAL: suma 11.0 Resta 0.0 Multiplicacion 20.0 Division 1.0\n",
      "NUMEROS COMPLEJOS: suma (4+4j) Restar (-4+4j) Multiplicacion (8+16j) Dividir (1+2j)\n",
      "CADENA DE TEXTO: suma hello world\n",
      "CADENA DE TEXTO: multiplicacion worldworldworld\n"
     ]
    }
   ],
   "source": [
    "#Operaciones aritmeticas con los tipos de datos\n",
    "print('NUMERO ENTERO 4:', 'suma',(4+4),'Resta',(4-4),'Multiplicacion',(4*4),'Division',(4/4))\n",
    "print('VALOR DE PI:', 'suma',(valor_pi + 10),'Resta',(valor_pi - 20),'Multiplicacion',(valor_pi * 5),'Division',(valor_pi/4))\n",
    "print('NUMERO DECIMAL:', 'suma',(numero_decimal+10),'Resta',(numero_decimal-1),'Multiplicacion',(numero_decimal*20),'Division',(numero_decimal/1))\n",
    "print('NUMEROS COMPLEJOS:', 'suma',(num_complejos + 2), 'Restar',(num_complejos - 6), 'Multiplicacion',(num_complejos * 4), 'Dividir',(num_complejos / 2))\n",
    "print('CADENA DE TEXTO:', 'suma',(Cadena_texto1 + \" \" + Cadena_texto2))#suma ambos textos\n",
    "print('CADENA DE TEXTO:', 'multiplicacion',(Cadena_texto2 * 3)) #Repite 3 veces el texto world\n",
    "\n",
    "#Cadena_texto1 / 2  ---esto genera error porque texto no puede dividirse con un valor int\n",
    "#Cadena_texto1 / Cadena_texto2 ---No se puede divir entre 2 textos, genera error\n",
    "#Cadena_texto2 - 2 --Genera error porque son datos diferentes str y int\n",
    "##Cadena_texto2 - Cadena_texto1 ---No se puede restar entre 2 textos, genera error"
   ]
  },
  {
   "cell_type": "markdown",
   "id": "13c30b58",
   "metadata": {},
   "source": [
    "# Ejercicio 05\n",
    "## Cree la variable ex = ‘‘Python is an interesting and useful language fornumerical computing!’’. Usando slicing extraiga las siguientes cadenas:\n",
    "a) Python\n",
    "b) !\n",
    "c) computing\n",
    "d) in\n",
    "e) !gnitupmoc laciremun rof egaugnal lufesu dna gnitseretni na si nohtyP\n",
    "f) nohtyP\n",
    "g) Pto sa neetn n sfllnug o ueia optn!"
   ]
  },
  {
   "cell_type": "code",
   "execution_count": 24,
   "id": "fe3e1361",
   "metadata": {},
   "outputs": [
    {
     "data": {
      "text/plain": [
       "'Python'"
      ]
     },
     "execution_count": 24,
     "metadata": {},
     "output_type": "execute_result"
    }
   ],
   "source": [
    "# a)\n",
    "ex = 'Python is an interesting and useful language fornumerical computing!'\n",
    "ex[0:6]"
   ]
  },
  {
   "cell_type": "code",
   "execution_count": 25,
   "id": "0c35abbc",
   "metadata": {},
   "outputs": [
    {
     "data": {
      "text/plain": [
       "'!'"
      ]
     },
     "execution_count": 25,
     "metadata": {},
     "output_type": "execute_result"
    }
   ],
   "source": [
    "# b)\n",
    "ex[-1]"
   ]
  },
  {
   "cell_type": "code",
   "execution_count": 26,
   "id": "49b880c5",
   "metadata": {},
   "outputs": [
    {
     "data": {
      "text/plain": [
       "'computing!'"
      ]
     },
     "execution_count": 26,
     "metadata": {},
     "output_type": "execute_result"
    }
   ],
   "source": [
    "# c)\n",
    "ex[-10:68]"
   ]
  },
  {
   "cell_type": "code",
   "execution_count": 27,
   "id": "c8a254aa",
   "metadata": {},
   "outputs": [
    {
     "data": {
      "text/plain": [
       "'in'"
      ]
     },
     "execution_count": 27,
     "metadata": {},
     "output_type": "execute_result"
    }
   ],
   "source": [
    "# d)\n",
    "ex[64:66]"
   ]
  },
  {
   "cell_type": "code",
   "execution_count": 29,
   "id": "014241aa",
   "metadata": {},
   "outputs": [
    {
     "data": {
      "text/plain": [
       "'!gnitupmoc laciremunrof egaugnal lufesu dna gnitseretni na si nohtyP'"
      ]
     },
     "execution_count": 29,
     "metadata": {},
     "output_type": "execute_result"
    }
   ],
   "source": [
    "# e)\n",
    "ex[::-1]"
   ]
  },
  {
   "cell_type": "code",
   "execution_count": 30,
   "id": "8ea08b5b",
   "metadata": {},
   "outputs": [
    {
     "data": {
      "text/plain": [
       "'nohtyP'"
      ]
     },
     "execution_count": 30,
     "metadata": {},
     "output_type": "execute_result"
    }
   ],
   "source": [
    "# f)\n",
    "ex[5::-1]"
   ]
  },
  {
   "cell_type": "code",
   "execution_count": 31,
   "id": "fd3bdb1b",
   "metadata": {},
   "outputs": [
    {
     "data": {
      "text/plain": [
       "'Pto sa neetn n sfllnug onmrclcmuig'"
      ]
     },
     "execution_count": 31,
     "metadata": {},
     "output_type": "execute_result"
    }
   ],
   "source": [
    "# g)\n",
    "ex[0:68:2]\n",
    "#ex[47::2]"
   ]
  },
  {
   "cell_type": "markdown",
   "id": "60cb8c22",
   "metadata": {},
   "source": [
    "# Ejercicio 06 \n",
    "## ¿Son válidos los siguientes identificadores? Si es negativo, decir por qué.\n",
    "a) Identificador    \n",
    "b) Indicedos    \n",
    "c) Dos palabras (NO validos, porque hay un espacion entre las 2 palabras)\n",
    "d) --           (NO validos, porque -- es un caracter especial)\n",
    "e) 12horas      (NO validos, porque una laviable en python no puede iniciar con numeros)\n",
    "f) hora12       \n",
    "g) desviación   \n",
    "h) año          \n",
    "i) from         (NO validos, porque es una palabra reservada de python)\n",
    "j) var!         (NO validos, porque contiene un signo de exclamacion)\n",
    "k) ’var’        (NO validos, porque contiene comillas simples)\n",
    "l) import_from   \n",
    "n) UnaVariable   \n",
    "ñ) a(b)        (NO validos, porque contiene caracteres especiales() )\n",
    "o) ̃12           (NO validos, porque es un numero entero)\n",
    "p) uno.dos     (NO validos, porque contiene . )\n",
    "q) x           \n",
    "r) área)       (NO validos, porque contiene caracteres especiales())\n",
    "s) area-rect   (NO validos, porque contiene - , es incorrecto )\n",
    "t) x__1        \n",
    "u) __1       "
   ]
  },
  {
   "cell_type": "code",
   "execution_count": null,
   "id": "43b8e39d",
   "metadata": {},
   "outputs": [],
   "source": []
  },
  {
   "cell_type": "markdown",
   "id": "6aa5b51d",
   "metadata": {},
   "source": [
    "# Ejercicio 07 \n",
    "## ¿Qué resultados se obtendrán al evaluar las siguientes expresiones Python? Calcula a mano el valor resultante de cada expresión y comprueba, con la ayuda del ordenador, si tu resultado es correcto.\n",
    "a) 2 + 3 + 1 + 2\n",
    "b) (2 + 3) * 1 + 2\n",
    "c) 2 + 3 * 1 + 2\n",
    "d) (2 + 3) * (1 +2)\n",
    "e) +—6\n",
    "f) -+-+6"
   ]
  },
  {
   "cell_type": "code",
   "execution_count": 114,
   "id": "0ea9378b",
   "metadata": {},
   "outputs": [
    {
     "name": "stdout",
     "output_type": "stream",
     "text": [
      "resultado de a es 8\n",
      "resultado de b es 7\n",
      "resultado de c es 7\n",
      "resultado de d es 15\n",
      "resultado de f es 6\n"
     ]
    }
   ],
   "source": [
    "a = int(2 + 3 + 1 + 2)   #Resultados coninciden \n",
    "print ('resultado de a es',a)\n",
    "b = int((2 + 3) * 1 + 2)  #Resultados coninciden \n",
    "print ('resultado de b es',b)\n",
    "c = int(2 + 3 * 1 + 2)    #Resultados coninciden \n",
    "print('resultado de c es', c)\n",
    "d = int((2 + 3) * (1 +2))  #Resultados coninciden \n",
    "print('resultado de d es', d)\n",
    "#e = (+ — 6)  #error en resultados \n",
    "#print(e)    \n",
    "f = (-+-+6)   #Resultados coninciden \n",
    "print( 'resultado de f es', f)"
   ]
  },
  {
   "cell_type": "markdown",
   "id": "26a8b975",
   "metadata": {},
   "source": [
    "# Ejercicio 08\n",
    "## Traduce las siguientes expresiones matemáticas a Python\n",
    "a) 2+3(3∗(6/2))\n",
    "b) 4+6/2+3\n",
    "c) (4/2)**5\n",
    "d) (4/2)**5+1\n",
    "e) −3**2\n",
    "f) -(3)**2"
   ]
  },
  {
   "cell_type": "code",
   "execution_count": 115,
   "id": "c4f13580",
   "metadata": {},
   "outputs": [
    {
     "name": "stdout",
     "output_type": "stream",
     "text": [
      "resultado de a es 29\n",
      "resultado de b es 10\n",
      "resultado de c es 32\n",
      "resultado de d es 64\n",
      "resultado de e es -9\n",
      "resultado de f es -9\n"
     ]
    }
   ],
   "source": [
    "import math\n",
    "a = int(2+3*(3*(6/2)))\n",
    "print('resultado de a es',a)\n",
    "b = int(4+6/2+3)\n",
    "print('resultado de b es',b)\n",
    "c = int((4/2)**(5))\n",
    "print('resultado de c es',c)\n",
    "d = int((4/2)**(5+1))\n",
    "print('resultado de d es',d)\n",
    "e = int(-3**2)\n",
    "print('resultado de e es',e)\n",
    "f = int(-(3)**2)\n",
    "print('resultado de f es',f)"
   ]
  },
  {
   "cell_type": "markdown",
   "id": "2c857b2a",
   "metadata": {},
   "source": [
    "# Ejercicio 09 \n",
    "## ¿Qué tipo de dato se obtiene tras evaluar las siguientes expresiones?\n",
    "a) 1 / 2 / 4\n",
    "b) 1/ 2 / 4.0\n",
    "c) 1 / 2.0 / 4.0\n",
    "d) 1 / 2.0 / 4\n",
    "e) 1.0 / 2 / 4\n",
    "f) 2 ** .5\n",
    "g) 40 ** (1/2)\n",
    "h) 40 ** (1/2) + (1/2)\n",
    "i) 4.0 ** (1.0/2) + 1 / 2.0\n",
    "j) 3e3/10\n",
    "k) 10/5e-3\n",
    "l) 10/5e-3+1\n",
    "m) 3/2+1"
   ]
  },
  {
   "cell_type": "code",
   "execution_count": 121,
   "id": "ce7e61cc",
   "metadata": {},
   "outputs": [
    {
     "name": "stdout",
     "output_type": "stream",
     "text": [
      "resultado de a es tipo <class 'float'> = 0.125\n",
      "resultado de b es tipo <class 'float'> = 0.125\n",
      "resultado de c es tipo <class 'float'> = 0.125\n",
      "resultado de d es tipo <class 'float'> = 0.125\n",
      "resultado de e es tipo <class 'float'> = 0.125\n",
      "resultado de f es tipo <class 'float'> = 1.4142135623730951\n",
      "resultado de g es tipo <class 'float'> = 6.324555320336759\n",
      "resultado de h es tipo <class 'float'> = 6.824555320336759\n",
      "resultado de i es tipo <class 'float'> = 2.5\n",
      "resultado de j es tipo <class 'float'> = 300.0\n",
      "resultado de k es tipo <class 'float'> = 2000.0\n",
      "resultado de l es tipo <class 'float'> = 2001.0\n",
      "resultado de m es tipo <class 'float'> = 2.5\n"
     ]
    }
   ],
   "source": [
    "a = (1 / 2 / 4)\n",
    "print('resultado de a es tipo',type(a),'=', (a)) \n",
    "b = (1.0 / 2 / 4)\n",
    "print('resultado de b es tipo',type(b),'=', (b))\n",
    "c = (1 / 2.0 / 4.0)\n",
    "print('resultado de c es tipo',type(c),'=', (c))\n",
    "d = (1 / 2.0 / 4)\n",
    "print('resultado de d es tipo',type(d),'=', (d))\n",
    "e = (1.0 / 2 / 4)\n",
    "print('resultado de e es tipo',type(e),'=', (e))\n",
    "f = (2 ** .5)\n",
    "print('resultado de f es tipo',type(f),'=', (f))\n",
    "g = (40 ** (1/2))\n",
    "print('resultado de g es tipo',type(g),'=', (g))\n",
    "h = (40 ** (1/2) + (1/2))\n",
    "print('resultado de h es tipo',type(h),'=', (h))\n",
    "i = (4.0 ** (1.0/2) + 1 / 2.0)\n",
    "print('resultado de i es tipo',type(i),'=', (i))\n",
    "j = (3e3/10)\n",
    "print('resultado de j es tipo',type(j),'=', (j))\n",
    "k = (10/5e-3)\n",
    "print('resultado de k es tipo',type(k),'=', (k))\n",
    "l = (10/5e-3+1)\n",
    "print('resultado de l es tipo',type(l),'=', (l))\n",
    "m = (3/2+1)\n",
    "print('resultado de m es tipo',type(m),'=', (m))"
   ]
  },
  {
   "cell_type": "markdown",
   "id": "160926e9",
   "metadata": {},
   "source": [
    "# Ejercicio 10 \n",
    "## ¿Qué resultados se obtienen al evaluar estas expresiones?\n",
    "a) True==True! =False  # Se obtiene ERROR invalid syntax\n",
    "b) (1<2<3) and (4<5)   #Se obtiene TRUE\n",
    "c) 1<2<4<3<54          #Se obtiene  FALSE\n",
    "d) (1<2<4)and(3<5      #Se obtiene ERROR unexpected EOF while parsing"
   ]
  },
  {
   "cell_type": "code",
   "execution_count": 128,
   "id": "0da12c17",
   "metadata": {},
   "outputs": [
    {
     "data": {
      "text/plain": [
       "False"
      ]
     },
     "execution_count": 128,
     "metadata": {},
     "output_type": "execute_result"
    }
   ],
   "source": [
    "#a)\n",
    "True == True! = False\n",
    "\n",
    "#b)\n",
    "(1<2<3) and (4<5)\n",
    "\n",
    "#c)\n",
    "1<2<4<3<54\n",
    "\n",
    "#d)\n",
    "(1<2<4)and(3<5"
   ]
  },
  {
   "cell_type": "markdown",
   "id": "0d604c07",
   "metadata": {},
   "source": [
    "# Ejercicio 11\n",
    "## Qué resulta de ejecutar las siguientes líneas:\n",
    "x=10\n",
    "x=x*10\n",
    "x"
   ]
  },
  {
   "cell_type": "code",
   "execution_count": 129,
   "id": "2105b5c2",
   "metadata": {},
   "outputs": [
    {
     "data": {
      "text/plain": [
       "100"
      ]
     },
     "execution_count": 129,
     "metadata": {},
     "output_type": "execute_result"
    }
   ],
   "source": [
    "x=10\n",
    "x=x*10\n",
    "x\n",
    "# se obtiene el valor de X"
   ]
  },
  {
   "cell_type": "markdown",
   "id": "7e4b4fda",
   "metadata": {},
   "source": [
    "# Ejercicio 12 \n",
    "## Evalúa el siguiente polinomio:\n",
    "Utilice variables para evitar teclear varias veces el valor de x\n",
    "X = 1.1\n",
    "X**4 + X**3 + 2X**2 -X "
   ]
  },
  {
   "cell_type": "code",
   "execution_count": 134,
   "id": "eed1cb46",
   "metadata": {},
   "outputs": [
    {
     "data": {
      "text/plain": [
       "4.115100000000002"
      ]
     },
     "execution_count": 134,
     "metadata": {},
     "output_type": "execute_result"
    }
   ],
   "source": [
    "X = 1.1\n",
    "g = lambda x : X**4 + X**3 + 2*X**2 -X \n",
    "g(1.1)\n",
    "#Se obtiene como resultado 4.115100000000002"
   ]
  },
  {
   "cell_type": "markdown",
   "id": "064ab422",
   "metadata": {},
   "source": [
    "# Ejercicio 13 \n",
    "## Evalúa el siguiente polinomio: x\n",
    "Asegúrate que el resultado final es un flotante"
   ]
  },
  {
   "cell_type": "code",
   "execution_count": 159,
   "id": "797e59b2",
   "metadata": {},
   "outputs": [
    {
     "data": {
      "text/plain": [
       "float"
      ]
     },
     "execution_count": 159,
     "metadata": {},
     "output_type": "execute_result"
    }
   ],
   "source": [
    "X = 10\n",
    "g = lambda x : X**4 + X**3 + (1/2)*X**2-X\n",
    "type(g(10))\n",
    "#Se obtiene como resultado el tiepo de dato: FLOAT"
   ]
  },
  {
   "cell_type": "markdown",
   "id": "fb3ba5cc",
   "metadata": {},
   "source": [
    "# Ejercicio 14\n",
    "## Qué resultará de ejecutar las siguientes sentencias\n",
    "z=2\n",
    "z+=2\n",
    "z+=2-2\n",
    "z*=2\n",
    "z*=1+1\n",
    "z /= 1+1\n",
    "z /= 2\n",
    "z %=3\n",
    "z /=3-1\n",
    "z-=2+1\n",
    "z-=2\n",
    "z**=3\n",
    "Z"
   ]
  },
  {
   "cell_type": "code",
   "execution_count": 162,
   "id": "b5bda5fc",
   "metadata": {},
   "outputs": [
    {
     "ename": "NameError",
     "evalue": "name 'Z' is not defined",
     "output_type": "error",
     "traceback": [
      "\u001b[1;31m---------------------------------------------------------------------------\u001b[0m",
      "\u001b[1;31mNameError\u001b[0m                                 Traceback (most recent call last)",
      "\u001b[1;32m<ipython-input-162-10f83442f025>\u001b[0m in \u001b[0;36m<module>\u001b[1;34m\u001b[0m\n\u001b[0;32m     11\u001b[0m \u001b[0mz\u001b[0m\u001b[1;33m-=\u001b[0m\u001b[1;36m2\u001b[0m\u001b[1;33m\u001b[0m\u001b[1;33m\u001b[0m\u001b[0m\n\u001b[0;32m     12\u001b[0m \u001b[0mz\u001b[0m\u001b[1;33m**=\u001b[0m\u001b[1;36m3\u001b[0m\u001b[1;33m\u001b[0m\u001b[1;33m\u001b[0m\u001b[0m\n\u001b[1;32m---> 13\u001b[1;33m \u001b[0mZ\u001b[0m\u001b[1;33m\u001b[0m\u001b[1;33m\u001b[0m\u001b[0m\n\u001b[0m\u001b[0;32m     14\u001b[0m \u001b[1;31m#z  # z minuscula es la ariable correcta\u001b[0m\u001b[1;33m\u001b[0m\u001b[1;33m\u001b[0m\u001b[1;33m\u001b[0m\u001b[0m\n",
      "\u001b[1;31mNameError\u001b[0m: name 'Z' is not defined"
     ]
    }
   ],
   "source": [
    "z=2\n",
    "z+=2\n",
    "z+=2-2\n",
    "z*=2\n",
    "z*=1+1\n",
    "z /= 1+1\n",
    "z /= 2\n",
    "z %=3\n",
    "z /=3-1\n",
    "z-=2+1\n",
    "z-=2\n",
    "z**=3\n",
    "Z  #Genera error name 'Z' is not defined\n",
    "#z  # z minuscula es la ariable correcta"
   ]
  },
  {
   "cell_type": "markdown",
   "id": "0eb4ec89",
   "metadata": {},
   "source": [
    "# Ejercicio 15 \n",
    "## Evalúa estas sentencias y expresiones en el orden indicado\n",
    "a) a = 'b' \n",
    "b) a + 'b'\n",
    "c) a + 'a'\n",
    "d) a*2+'b'*3\n",
    "e) 2*(a+b)"
   ]
  },
  {
   "cell_type": "code",
   "execution_count": 11,
   "id": "726047a1",
   "metadata": {},
   "outputs": [
    {
     "ename": "NameError",
     "evalue": "name 'b' is not defined",
     "output_type": "error",
     "traceback": [
      "\u001b[1;31m---------------------------------------------------------------------------\u001b[0m",
      "\u001b[1;31mNameError\u001b[0m                                 Traceback (most recent call last)",
      "\u001b[1;32m<ipython-input-11-38a81fb79d1d>\u001b[0m in \u001b[0;36m<module>\u001b[1;34m\u001b[0m\n\u001b[0;32m      3\u001b[0m \u001b[0ma\u001b[0m \u001b[1;33m+\u001b[0m \u001b[1;34m'a'\u001b[0m \u001b[1;31m#suma 2 variables b + a = ba\u001b[0m\u001b[1;33m\u001b[0m\u001b[1;33m\u001b[0m\u001b[0m\n\u001b[0;32m      4\u001b[0m \u001b[0ma\u001b[0m\u001b[1;33m*\u001b[0m\u001b[1;36m2\u001b[0m\u001b[1;33m+\u001b[0m\u001b[1;34m'b'\u001b[0m\u001b[1;33m*\u001b[0m\u001b[1;36m3\u001b[0m \u001b[1;31m#b*2+'b'*3 = 'bbbbb'\u001b[0m\u001b[1;33m\u001b[0m\u001b[1;33m\u001b[0m\u001b[0m\n\u001b[1;32m----> 5\u001b[1;33m \u001b[1;36m2\u001b[0m\u001b[1;33m*\u001b[0m\u001b[1;33m(\u001b[0m\u001b[0ma\u001b[0m\u001b[1;33m+\u001b[0m\u001b[0mb\u001b[0m\u001b[1;33m)\u001b[0m\u001b[1;33m\u001b[0m\u001b[1;33m\u001b[0m\u001b[0m\n\u001b[0m",
      "\u001b[1;31mNameError\u001b[0m: name 'b' is not defined"
     ]
    }
   ],
   "source": [
    "a = 'b' # a es la variable que tiene como valor 'b'\n",
    "a + 'b' #suma de b + b = bb\n",
    "a + 'a' #suma 2 variables b + a = ba\n",
    "a*2+'b'*3 #b*2+'b'*3 = 'bbbbb'\n",
    "2*(a+b) #la variable b no fue definido y genera error name 'b' is not defined"
   ]
  },
  {
   "cell_type": "markdown",
   "id": "33985551",
   "metadata": {},
   "source": [
    "# Ejercicio 16 \n",
    "## ¿Qué resultados se obtendrán al evaluar las siguientes expresiones y asignaciones Python?\n",
    "a) 'a' * 3 + '/*' * 5 + 2 * 'abc' + '+'\n",
    "b) palindromo = ' abcba'\n",
    "c) (4*' ¡' +palindromo + '¿' *4) *2\n",
    "d) subcadena = '=' + '-' * 3 + '='\n",
    "e) ' 10' * 5 + 4 * subcadena\n",
    "f) 2*12'12' + '.'+'3'*3+'e-'+4*'76'"
   ]
  },
  {
   "cell_type": "code",
   "execution_count": 18,
   "id": "9e581f28",
   "metadata": {},
   "outputs": [
    {
     "ename": "SyntaxError",
     "evalue": "invalid syntax (<ipython-input-18-9a2c33ad5ac2>, line 6)",
     "output_type": "error",
     "traceback": [
      "\u001b[1;36m  File \u001b[1;32m\"<ipython-input-18-9a2c33ad5ac2>\"\u001b[1;36m, line \u001b[1;32m6\u001b[0m\n\u001b[1;33m    2*12'12' + '.'+'3'*3+'e-'+4*'76'\u001b[0m\n\u001b[1;37m        ^\u001b[0m\n\u001b[1;31mSyntaxError\u001b[0m\u001b[1;31m:\u001b[0m invalid syntax\n"
     ]
    }
   ],
   "source": [
    "# a)\n",
    "'a' * 3 + '/*' * 5 + 2 * 'abc' + '+' #muestra el resultado 'aaa/*/*/*/*/*abcabc+'\n",
    "\n",
    "# b)\n",
    "palindromo = ' abcba'                #el valor de la variable palindrom es abcba\n",
    "\n",
    "# c)\n",
    "(4*' ¡' +palindromo + '¿' *4) *2     #muestra el resultado ' ¡ ¡ ¡ ¡ abcba¿¿¿¿ ¡ ¡ ¡ ¡ abcba¿¿¿¿'\n",
    "\n",
    "# d)\n",
    "subcadena = '=' + '-' * 3 + '='      #el valor de la variable subcadena es '=' + '-' * 3 + '=' \n",
    "\n",
    "# e)\n",
    "' 10' * 5 + 4 * subcadena            #muestra el resultado ' 10 10 10 10 10=---==---==---==---='\n",
    "\n",
    "# f)\n",
    "2*12'12' + '.'+'3'*3+'e-'+4*'76'     #muestra como resultado invalid syntax"
   ]
  },
  {
   "cell_type": "markdown",
   "id": "14be72ba",
   "metadata": {},
   "source": [
    "# Ejercicio 17 \n",
    "## Identifique regularidades en las siguientes cadenas y escriba    expresiones que, partiendo de subcadenas más cortas y utilizando los operadores de concatenación y repetición produzcan las cadenas que se muestran:\n",
    "a) \"% % % % %./././<→<→\"\n",
    "b) \"(@)(@)(@)======(@)(@)(@)======\"\n",
    "c) \"asdfasdfasdf=-=-=-=-=-=-=-??????asdfasdf\"\n",
    "d) \"’........*****—*****—........*****—*****—\""
   ]
  },
  {
   "cell_type": "code",
   "execution_count": 32,
   "id": "37b11b24",
   "metadata": {},
   "outputs": [
    {
     "data": {
      "text/plain": [
       "'........*****-*****-........*****-*****-'"
      ]
     },
     "execution_count": 32,
     "metadata": {},
     "output_type": "execute_result"
    }
   ],
   "source": [
    "## a)\n",
    "\"% % % % %./././<→<→\"\n",
    "#Podria ser\n",
    "' % '*4 + ' ./ '*3 + \"<→<→\"\n",
    "## b)\n",
    "\"(@)(@)(@)======(@)(@)(@)======\"\n",
    "#Podria ser\n",
    "'(@)'*3 + '='*6 +'(@)'*3+'='*6\n",
    "## c)\n",
    "\"asdfasdfasdf=-=-=-=-=-=-=-??????asdfasdf\"\n",
    "#Podria ser\n",
    "'asdf'*3+'=-'*7+'?'*5+'asdf'*2\n",
    "## d)\n",
    "\"’........*****—*****—........*****—*****—\"\n",
    "#Podria ser\n",
    "'.'*8+'*'*5+'-'+'*'*5+'-'+'.'*8+'*'*5+'-'+'*'*5+'-'"
   ]
  },
  {
   "cell_type": "markdown",
   "id": "87c376ba",
   "metadata": {},
   "source": [
    "# Ejercicio 18 \n",
    "## ¿Qué resultados se muestran al evaluar estas expresiones?\n",
    ">>>’abecedario’<=’abecedario’\n",
    ">>>’abecedario’<’abecedario’\n",
    ">>>’abecedario’<=’abecedario’\n",
    ">>>’Abecedario’<’abecedario’\n",
    ">>>’Abecedario’==’abecedario’6\n",
    ">>> 124<13\n",
    ">>>’124’<’13’8\n",
    ">>>’ a’<’a ’"
   ]
  },
  {
   "cell_type": "code",
   "execution_count": 47,
   "id": "dc668f82",
   "metadata": {},
   "outputs": [
    {
     "data": {
      "text/plain": [
       "False"
      ]
     },
     "execution_count": 47,
     "metadata": {},
     "output_type": "execute_result"
    }
   ],
   "source": [
    "’abecedario’<=’abecedario’   # muestra error por el tipo de comilla\n",
    "#deberia ser:\n",
    "'abecedario' <= 'abecedario' # muestra como resultado TRUE\n",
    "\n",
    "’abecedario’<’abecedario’    # muestra error por el tipo de comilla\n",
    "#deberia ser:\n",
    "'abecedario'<'abecedario'    # muestra como resultado FALSE\n",
    "\n",
    "’abecedario’<=’abecedario’   # muestra error por el tipo de comilla\n",
    "#deberia ser:\n",
    "'abecedario' <= 'abecedario' # muestra como resultado TRUE\n",
    "\n",
    "’Abecedario’<’abecedario’    # muestra error por el tipo de comilla\n",
    "#deberia ser:\n",
    "'Abecedario'<'abecedario'    # muestra como resultado TRUE\n",
    "\n",
    "’Abecedario’==’abecedario’6  # muestra error por el tipo de comilla y * 6\n",
    "#deberia ser:\n",
    "'Abecedario' == 'abecedario'*6  # muestra como resultado FALSE\n",
    "\n",
    "124<13   # muestra como resultado FALSE\n",
    "\n",
    "’124’<’13’8 # muestra error por el tipo de comilla\n",
    "#deberia ser:\n",
    "'124'<'13'*8  # muestra como resultado FALSE\n",
    "\n",
    "’ a’<’a ’ # muestra error por el tipo de comilla\n",
    "#deberia ser:\n",
    "'a'<'a' # muestra como resultado FALSE"
   ]
  },
  {
   "cell_type": "markdown",
   "id": "89eb1470",
   "metadata": {},
   "source": [
    "# Ejercicio 20 \n",
    "## Calcula con una única expresión el valor absoluto del redondeo de -3.2. Use las funciones round y abs.\n"
   ]
  },
  {
   "cell_type": "code",
   "execution_count": 60,
   "id": "baf16f1a",
   "metadata": {},
   "outputs": [
    {
     "data": {
      "text/plain": [
       "3"
      ]
     },
     "execution_count": 60,
     "metadata": {},
     "output_type": "execute_result"
    }
   ],
   "source": [
    "round(abs(-3.2)) #resultado de valor absoluto 3.2 con el uso de round se redondea a 3 "
   ]
  },
  {
   "cell_type": "markdown",
   "id": "af2cf5a8",
   "metadata": {},
   "source": [
    "# Ejercicio 21 \n",
    "## Convierte (en una única expresión) a una cadena el resultado de la división 5011/10000 redondeado con 3 decimales."
   ]
  },
  {
   "cell_type": "code",
   "execution_count": 95,
   "id": "0b49aeda",
   "metadata": {},
   "outputs": [
    {
     "name": "stdout",
     "output_type": "stream",
     "text": [
      "0.501 <class 'float'>\n",
      "<class 'str'>\n"
     ]
    }
   ],
   "source": [
    "division = 5011/10000 #sin redondeo division = 0.5011  \n",
    "print(round(division, 3), type(division)) #redondear el número a 3 decimales = 0.501 <class 'float'>\n",
    "\n",
    "cadena_division = str(division)  #Concertir numero float a str = <class 'str'>\n",
    "print(type(cadena_division))\n"
   ]
  },
  {
   "cell_type": "markdown",
   "id": "d6aa0f2c",
   "metadata": {},
   "source": [
    "# Ejercicio 22 \n",
    "## La última letra del DNI puede calcularse a partir de sus números. Para ello sólo tienes que dividir el número por 23 y quedarte con el resto. El resto es un número entre 0 y 22. La letra que corresponde a cada número la tienes en esta tabla:\n",
    "0\t1\t2\t3\t4\t5\t6\t7\t8\t9\t10\t11\t12\t13\t14\t15\t16\t17\t18\t19\t20\t21\t22\n",
    "T\tR\tW\tA\tG\tM\tY\tF\tP\tD\tX\tB\tN\tJ\tZ\tS\tQ\tV\tH\tL\tC\tK\tE\n",
    "Diseña un programa que lea una variable que contenga un número de DNI y muestre en pantalla la letra que le corresponde"
   ]
  },
  {
   "cell_type": "code",
   "execution_count": 98,
   "id": "78dcb0dd",
   "metadata": {},
   "outputs": [
    {
     "name": "stdout",
     "output_type": "stream",
     "text": [
      "Introduzca el número del DNI:12345678\n",
      "La letra del DNI es:  Z\n"
     ]
    }
   ],
   "source": [
    "n = int(input(\"Ingresa el número del DNI:\"))\n",
    "palabra ='TRWAGMYFPDXBNJZSQVHLCKE'\n",
    "print('La letra del DNI es: ', palabra[n%23])"
   ]
  },
  {
   "cell_type": "code",
   "execution_count": null,
   "id": "c72d0780",
   "metadata": {},
   "outputs": [],
   "source": []
  }
 ],
 "metadata": {
  "hide_input": false,
  "kernelspec": {
   "display_name": "Python 3",
   "language": "python",
   "name": "python3"
  },
  "language_info": {
   "codemirror_mode": {
    "name": "ipython",
    "version": 3
   },
   "file_extension": ".py",
   "mimetype": "text/x-python",
   "name": "python",
   "nbconvert_exporter": "python",
   "pygments_lexer": "ipython3",
   "version": "3.8.8"
  },
  "nbTranslate": {
   "displayLangs": [
    "*"
   ],
   "hotkey": "alt-t",
   "langInMainMenu": true,
   "sourceLang": "en",
   "targetLang": "fr",
   "useGoogleTranslate": true
  },
  "toc": {
   "base_numbering": 1,
   "nav_menu": {},
   "number_sections": true,
   "sideBar": true,
   "skip_h1_title": false,
   "title_cell": "Table of Contents",
   "title_sidebar": "Contents",
   "toc_cell": false,
   "toc_position": {
    "height": "calc(100% - 180px)",
    "left": "10px",
    "top": "150px",
    "width": "232.674px"
   },
   "toc_section_display": true,
   "toc_window_display": true
  },
  "varInspector": {
   "cols": {
    "lenName": 16,
    "lenType": 16,
    "lenVar": 40
   },
   "kernels_config": {
    "python": {
     "delete_cmd_postfix": "",
     "delete_cmd_prefix": "del ",
     "library": "var_list.py",
     "varRefreshCmd": "print(var_dic_list())"
    },
    "r": {
     "delete_cmd_postfix": ") ",
     "delete_cmd_prefix": "rm(",
     "library": "var_list.r",
     "varRefreshCmd": "cat(var_dic_list()) "
    }
   },
   "position": {
    "height": "476.844px",
    "left": "1016px",
    "right": "20px",
    "top": "120px",
    "width": "330px"
   },
   "types_to_exclude": [
    "module",
    "function",
    "builtin_function_or_method",
    "instance",
    "_Feature"
   ],
   "window_display": false
  }
 },
 "nbformat": 4,
 "nbformat_minor": 5
}
