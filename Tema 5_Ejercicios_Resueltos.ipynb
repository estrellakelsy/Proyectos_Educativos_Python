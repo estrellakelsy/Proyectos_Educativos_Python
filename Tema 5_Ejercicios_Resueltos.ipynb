{
 "cells": [
  {
   "cell_type": "markdown",
   "id": "64347fd0",
   "metadata": {},
   "source": [
    "## Gestión de la Entrada y salida"
   ]
  },
  {
   "cell_type": "markdown",
   "id": "dd9c32a5",
   "metadata": {},
   "source": [
    "# Ejercicios Tema 5"
   ]
  },
  {
   "cell_type": "markdown",
   "id": "a4df91b7",
   "metadata": {},
   "source": [
    "1 Escriba un programa que lea los datos de un fichero de texto y los escriba en otro. Los nombres de los ficheros se introducirán por teclado."
   ]
  },
  {
   "cell_type": "code",
   "execution_count": 1,
   "id": "43fc4b03",
   "metadata": {},
   "outputs": [
    {
     "name": "stdout",
     "output_type": "stream",
     "text": [
      "Ingresar el nombre del archivo origentexto\n",
      "El origen del fichero no existe\n"
     ]
    }
   ],
   "source": [
    "import os\n",
    "nom_fi_origen= input('Ingresar el nombre del archivo origen') # Ingresar el nombre del archivo\n",
    "if os.path.exists(nom_fi_origen): # validar la existencia de archivo\n",
    "    print('El fichero origen existe') # imprime el mensaje fichero existe\n",
    "    nom_fi_origen= os.getcwd() +'\\\\' +nom_fi_origen # valida el directorio con el nombre del archivo\n",
    "    print(nom_fi_origen) # imprimir el nombre del fichero\n",
    "    nom_fi_destino= input('Ingresar nombre del archivo destino') # agregar el nombre del destino del archivo\n",
    "    if os.path.exists(nom_fi_destino):#validar el nombre del fichero\n",
    "        print('Destino del fichero existe')# imprimir el destino del fichero\n",
    "        nom_fi_destino= os.getcwd() +'\\\\' +nom_fi_destino # \n",
    "        print(nom_fi_destino)\n",
    "        with open(nom_fi_origen) as origen: #Abrir el fichero de origen\n",
    "            with open(nom_fi_destino, 'w') as destino : # abrir archivo\n",
    "                for linea in origen: # escribir en el archivo \n",
    "                    destino.write(linea)\n",
    "    else:\n",
    "        print('El destino del fichero no existe') # mostrar el mensaje, el destino del fichero no existe\n",
    "else:\n",
    "    print('El origen del fichero no existe') # mostrar el origen del archivo no existe"
   ]
  },
  {
   "cell_type": "markdown",
   "id": "f0b886f5",
   "metadata": {},
   "source": [
    "2 Escriba un programa que lea las N primeras líneas de un fichero y las guarde en otro. Los nombres de los ficheros, así como el número de líneas, se introducirán por teclado."
   ]
  },
  {
   "cell_type": "code",
   "execution_count": 2,
   "id": "d89ee49e",
   "metadata": {},
   "outputs": [
    {
     "name": "stdout",
     "output_type": "stream",
     "text": [
      "Inserte el nombre del archivo origentext01.txt\n",
      "El fichero origen existe\n",
      "C:\\Users\\KELLSY\\Downloads\\text01.txt\n",
      "Inserte cantidad de lineas a leer5\n",
      "Inserte el nombre del archivo destinotext01.txt\n",
      "El fichero destino existe\n",
      "C:\\Users\\KELLSY\\Downloads\\text01.txt\n"
     ]
    }
   ],
   "source": [
    "import os\n",
    "nom_fi_origen= input('Ingresar el nombre del archivo origen') #ingresar el nombre del archivo  \n",
    "if os.path.exists(nom_fi_origen): # ingresar el nombre de origen\n",
    "    print('origen del fichero existe') # inprimir el origen del fichero\n",
    "    nom_fi_origen= os.getcwd() +'\\\\' +nom_fi_origen # comparar el nombre del fichero \n",
    "    print(nom_fi_origen) # imprimir el nombre \n",
    "    num_lineas= input('Ingrese la cantidad de lineas a leer') # ingresar la cantidad de lineas\n",
    "    if num_lineas.isdigit(): # validar la cantidad de lineas\n",
    "        try:\n",
    "            num_lineas=int(num_lineas) # convertir el numero de lineas a entero\n",
    "        except:\n",
    "            print('Ingresar números enteros') # ingresar numero enteros\n",
    "        nom_fi_destino= input('Inserte el nombre del archivo destino') # ingresar el nombre del destino del fichero \n",
    "        if os.path.exists(nom_fi_destino): # \n",
    "            print('El fichero destino existe') # Imprimir mensaje\n",
    "            nom_fi_destino= os.getcwd() +'\\\\' +nom_fi_destino\n",
    "            print(nom_fi_destino)\n",
    "            with open(nom_fi_origen) as origen:\n",
    "                with open(nom_fi_destino, 'w') as destino :\n",
    "                    cont=0\n",
    "                    for linea in origen:\n",
    "                        if cont==num_lineas:\n",
    "                            print('hasta aqui las clases') # imprimir mensaje\n",
    "                            break\n",
    "                        destino.write(linea)\n",
    "                        cont=cont+1\n",
    "        else:\n",
    "            print('El destino del fichero no existe') # Imprimir mensaje\n",
    "    else:\n",
    "         print('Ingrese números enteros') # Imprimir mensaje\n",
    "else:\n",
    "    print('El origen del fichero no existe') # Imprimir mensaje"
   ]
  },
  {
   "cell_type": "markdown",
   "id": "a29b95b5",
   "metadata": {},
   "source": [
    "3 Escriba un programa que lea de un fichero una serie de números, el fichero será de texto y contendrá un número por línea. Para los números leídos eliminará el primer y último elementos y mostrará el resto por pantalla. El nombre del fichero se introducirá por teclado."
   ]
  },
  {
   "cell_type": "code",
   "execution_count": 1,
   "id": "5fc6c3fb",
   "metadata": {},
   "outputs": [
    {
     "name": "stdout",
     "output_type": "stream",
     "text": [
      "Inserte el nombre del archivo origenkaprekar.txt\n",
      "El fichero origen existe\n",
      "C:\\Users\\KELLSY\\Documents\\Curso-Programacion\\kaprekar.txt\n",
      "La lista de nuemros sin el primer y ultimo elemento es: ['9', '2728', '487']\n"
     ]
    }
   ],
   "source": [
    "import os\n",
    "nom_fi_origen= input('Ingresar nombre del archivo origen') # Imprimir mensaje\n",
    "if os.path.exists(nom_fi_origen):\n",
    "    print('El fichero de origen no existe') # Imprimir mensaje\n",
    "    nom_fi_origen= os.getcwd() +'\\\\' +nom_fi_origen\n",
    "    print(nom_fi_origen) # Imprimir mensaje \n",
    "    lista=[] \n",
    "    with open(nom_fi_origen) as origen: # abrir el fichero de origen\n",
    "        for linea in origen:\n",
    "            if linea[:-1].isnumeric():\n",
    "                lista.append(linea[:-1])\n",
    "    print('Lista de numeros sin el primer y ultimo elemento es:',lista[1:]) # Imprimir mensaje\n",
    "else:\n",
    "    print('El fichero de origen no existe') # Imprimir mensaje"
   ]
  },
  {
   "cell_type": "markdown",
   "id": "2437fabb",
   "metadata": {},
   "source": [
    "4 Escriba un programa que lea de un fichero una serie de número, el fichero será de texto y contendrá un número por línea. Para los números leídos debe calcular el máximo y el mínimo. Además, en vez de mostrarlos por pantalla deberá almacenarlos en un fichero. En la primera línea tendremos el máximo y en la segunda el mínimo. Los nombres de los dos ficheros se introducirán por teclado."
   ]
  },
  {
   "cell_type": "code",
   "execution_count": 2,
   "id": "9ba7288b",
   "metadata": {},
   "outputs": [
    {
     "name": "stdout",
     "output_type": "stream",
     "text": [
      "Ingresar el nombre del archivo de origenkaprekar.txt\n",
      "El fichero origen existe\n",
      "C:\\Users\\KELLSY\\Documents\\Curso-Programacion\\kaprekar.txt\n",
      "Inserte el nombre del destino del archivokaprekr.txt\n",
      "El fichero destino no existe\n"
     ]
    }
   ],
   "source": [
    "import os\n",
    "nom_fi_origen= input('Ingresar el nombre del archivo de origen') #ingresar texto \n",
    "if os.path.exists(nom_fi_origen):\n",
    "    print('El fichero origen existe') # Imprimir mensaje\n",
    "    nom_fi_origen= os.getcwd() +'\\\\' +nom_fi_origen # \n",
    "    print(nom_fi_origen)\n",
    "    nom_fi_destino= input('Inserte el nombre del destino del archivo') # Imprimir mensaje\n",
    "    if os.path.exists(nom_fi_destino):\n",
    "        print('El destino del fichero  existe')  # Imprimir mensaje\n",
    "        nom_fi_destino= os.getcwd() +'\\\\' +nom_fi_destino \n",
    "        print(nom_fi_destino) #  # Imprimir mensaje\n",
    "        with open(nom_fi_origen) as origen: # \n",
    "            with open(nom_fi_destino, 'w') as destino : # abrir archivo\n",
    "                lista=[]\n",
    "                for linea in origen: # linea en origen \n",
    "                    if '\\n' in linea: \n",
    "                        if linea[:-1].isnumeric():\n",
    "                            lista.append(int(linea[:-1])) #agregar elementos\n",
    "                    elif  linea.isnumeric():\n",
    "                        lista.append(int(linea))\n",
    "                print(lista)\n",
    "                print('maximo de la lista',max(lista)) # Imprimir mensaje\n",
    "                print('minimo de la lista',min(lista)) # Imprimir mensaje\n",
    "                destino.write(str(max(lista))+'\\n') # escribir en el archivo destino\n",
    "                destino.write(str(min(lista))+'\\n') # escribir en el archivo destino\n",
    "    else:\n",
    "        print('El fichero destino no existe') # Imprimir mensaje\n",
    "else:\n",
    "    print('El fichero origen no existe') # Imprimir mensaje"
   ]
  },
  {
   "cell_type": "markdown",
   "id": "1b8e755d",
   "metadata": {},
   "source": [
    "5. Escriba un programa que lea las palabras contenidas en un fichero, las ordene y las almacene ordenadamente (una por línea) en otro. "
   ]
  },
  {
   "cell_type": "code",
   "execution_count": 3,
   "id": "9f0bdf8c",
   "metadata": {},
   "outputs": [
    {
     "name": "stdout",
     "output_type": "stream",
     "text": [
      "Inserte el nombre del archivo origenkaprekar.txt\n",
      "El fichero origen existe\n",
      "C:\\Users\\KELLSY\\Documents\\Curso-Programacion\\kaprekar.txt\n",
      "Inserte el nombre del archivo destinokapreka\n",
      "El fichero destino no existe\n"
     ]
    }
   ],
   "source": [
    "import os\n",
    "nom_fi_origen= input('Inserte el nombre del archivo origen')  # Imprimir mensaje\n",
    "if os.path.exists(nom_fi_origen): \n",
    "    print('El fichero origen existe')  # Imprimir mensaje\n",
    "    nom_fi_origen= os.getcwd() +'\\\\' +nom_fi_origen\n",
    "    print(nom_fi_origen)  # Imprimir mensaje\n",
    "    nom_fi_destino= input('Inserte el nombre del archivo destino')  # Imprimir mensaje\n",
    "    if os.path.exists(nom_fi_destino):\n",
    "        print('El fichero destino existe')  # Imprimir mensaje\n",
    "        nom_fi_destino= os.getcwd() +'\\\\' +nom_fi_destino\n",
    "        print(nom_fi_destino)  # Imprimir mensaje\n",
    "        with open(nom_fi_origen) as origen:  # abrir archivo\n",
    "            lista=[]\n",
    "            to_palabras=[]\n",
    "            for linea in origen:\n",
    "                lista.append(linea.split())\n",
    "            for elem in range(0,len(lista)): ## ordenar \n",
    "                for i in range(0,len(lista[elem])):\n",
    "                    to_palabras.append(lista[elem][i]) # agragar elementos\n",
    "            to_palabras.sort()\n",
    "            with open(nom_fi_destino, 'w') as destino : # abrir archivo\n",
    "                for j in range(0,len(to_palabras)):\n",
    "                    destino.write(to_palabras[j]+'\\n')\n",
    "    else:\n",
    "        print('El fichero destino no existe')  # Imprimir mensaje\n",
    "else:\n",
    "    print('El fichero origen no existe')  # Imprimir mensaje"
   ]
  },
  {
   "cell_type": "markdown",
   "id": "53f4c6ee",
   "metadata": {},
   "source": [
    "6. Escriba un programa que lea los números contenidos en un fichero. Los números enteros se mostrarán con una longitud mínima de 5 caracteres (rellenando con 0 por la izquierda), los flotantes se mostrarán en formato decimal y con una parte decimal de dos dígitos. El nombre del fichero se introducirá por teclado."
   ]
  },
  {
   "cell_type": "code",
   "execution_count": 4,
   "id": "7e3c6b07",
   "metadata": {},
   "outputs": [
    {
     "name": "stdout",
     "output_type": "stream",
     "text": [
      "Inserte el nombre del archivo origentext01.txt\n",
      "El fichero origen existe\n",
      "C:\\Users\\KELLSY\\Documents\\Curso-Programacion\\text01.txt\n",
      "00010\n",
      "00012\n",
      "03548\n",
      "12.50\n",
      "0.23\n",
      "0.10\n",
      "0.00\n",
      "48000\n"
     ]
    }
   ],
   "source": [
    "import os\n",
    "nom_fi_origen= input('Ingresar nombre del archivo') #ingrese el nombre del archivo text01.txt\n",
    "if os.path.exists(nom_fi_origen):\n",
    "    print('El origen del fichero existe') # Imprimir mensaje\n",
    "    nom_fi_origen= os.getcwd() +'\\\\' +nom_fi_origen\n",
    "    print(nom_fi_origen)\n",
    "    with open(nom_fi_origen) as origen:            \n",
    "            for linea in origen:\n",
    "                if '.' in linea or ',' in linea:\n",
    "                    print('%.2f'%(float(linea)))\n",
    "                else:\n",
    "                    print('%05d'%(float(linea)))   \n",
    "else:\n",
    "    print('El fichero origen no existe') # Imprimir mensaje"
   ]
  },
  {
   "cell_type": "markdown",
   "id": "62b8c6d3",
   "metadata": {},
   "source": [
    "8. Diseña un programa que cuente el número de caracteres de un fichero de texto, incluyendo los saltos de línea. (El nombre del fichero se pide al usuario por teclado.)"
   ]
  },
  {
   "cell_type": "code",
   "execution_count": 5,
   "id": "2047adc9",
   "metadata": {},
   "outputs": [
    {
     "name": "stdout",
     "output_type": "stream",
     "text": [
      "Ingresar el nombre del archivo de origentext01.txt\n",
      "El fichero origen existe\n",
      "C:\\Users\\KELLSY\\Documents\\Curso-Programacion\\text01.txt\n",
      "44\n"
     ]
    }
   ],
   "source": [
    "import os\n",
    "nom_fi_origen= input('Ingresar el nombre del archivo de origen') # Imprimir mensaje\n",
    "nom_fi_origen='text01.txt' # nombre de archivo\n",
    "if os.path.exists(nom_fi_origen):\n",
    "    print('El fichero origen existe') # Imprimir mensaje\n",
    "    nom_fi_origen= os.getcwd() +'\\\\' +nom_fi_origen\n",
    "    print(nom_fi_origen) # Imprimir mensaje\n",
    "    palabras=0\n",
    "    with open(nom_fi_origen) as origen: #abrir archivo         \n",
    "            for linea in origen:\n",
    "                palabras=palabras+len(linea)\n",
    "    print(palabras)\n",
    "else:\n",
    "    print('El fichero origen no existe') # Imprimir mensaje"
   ]
  },
  {
   "cell_type": "markdown",
   "id": "7bdf9f94",
   "metadata": {},
   "source": [
    "9. Haz un programa que, dada una palabra y un nombre de fichero, diga si la palabra aparece o no en el fichero. El nombre del fichero y la palabra se pedirán al usuario por teclado."
   ]
  },
  {
   "cell_type": "code",
   "execution_count": 6,
   "id": "49db3ed1",
   "metadata": {},
   "outputs": [
    {
     "name": "stdout",
     "output_type": "stream",
     "text": [
      "Inserte el nombre del archivo origen: text01.txt\n",
      "El fichero origen existe\n",
      "C:\\Users\\KELLSY\\Documents\\Curso-Programacion\\text01.txt\n",
      "Inserte la palabra que desea buscar: preso\n",
      "La palabra preso no aparce en el documento\n"
     ]
    }
   ],
   "source": [
    "import os\n",
    "\n",
    "nom_fi_origen= input('Inserte el nombre del archivo origen: ') # Imprimir mensaje\n",
    "if os.path.exists(nom_fi_origen):\n",
    "    print('El fichero origen existe')  # Imprimir mensaje\n",
    "    nom_fi_origen= os.getcwd() +'\\\\' +nom_fi_origen\n",
    "    print(nom_fi_origen) # Imprimir mensaje\n",
    "    palabra_buscar= input('Inserte la palabra que desea buscar: ') # Imprimir mensaje\n",
    "    with open(nom_fi_origen) as origen: # abrir archivo\n",
    "        aparece = False\n",
    "        for linea in origen:\n",
    "            if palabra_buscar in linea: # buscar la palabra\n",
    "                print('La palabra', palabra_buscar,'aparece en el documento') # Imprimir mensaje\n",
    "                aparece=True\n",
    "                break\n",
    "        if not aparece: #si aparece mostrar\n",
    "            print('La palabra', palabra_buscar,'no aparce en el documento') # Imprimir mensaje\n",
    "else:\n",
    "    print('El fichero origen no existe') # Imprimir mensaje             "
   ]
  },
  {
   "cell_type": "markdown",
   "id": "182274d9",
   "metadata": {},
   "source": [
    "10. Escriba un programa que, dado un nombre de fichero, muestre por pantalla la línea más larga. El nombre del fichero se pedirán al usuario por teclado"
   ]
  },
  {
   "cell_type": "code",
   "execution_count": 7,
   "id": "77ed24d9",
   "metadata": {},
   "outputs": [
    {
     "name": "stdout",
     "output_type": "stream",
     "text": [
      "Igresar nombre del archivo origen: Palabras.txt\n",
      "El fichero origen existe\n",
      "C:\\Users\\KELLSY\\Documents\\Curso-Programacion\\Palabras.txt\n",
      "La mayor linea del documento es:\n",
      "hola\n",
      "\n"
     ]
    }
   ],
   "source": [
    "import os\n",
    "nom_fi_origen= input('digitar el nombre del archivo origen: ')  # Imprimir mensaje \n",
    "nom_fi_origen='Palabras.txt'\n",
    "if os.path.exists(nom_fi_origen):\n",
    "    print('El fichero origen existe')  # Imprimir mensaje \n",
    "    nom_fi_origen= os.getcwd() +'\\\\' +nom_fi_origen\n",
    "    print(nom_fi_origen) # abrir archivo  \n",
    "    mayor=0\n",
    "    linea_mayor=''\n",
    "    with open(nom_fi_origen) as origen: # abrir archivo           \n",
    "            for linea in origen:\n",
    "                if mayor < len(linea):\n",
    "                    mayor=len(linea)\n",
    "                    linea_mayor= linea\n",
    "            print('La mayor linea del documento es:\\n'+linea_mayor)  # Imprimir mensaje     \n",
    "else:\n",
    "    print('El fichero origen no existe')  # Imprimir mensaje "
   ]
  },
  {
   "cell_type": "markdown",
   "id": "b80e1d7d",
   "metadata": {},
   "source": [
    "11. Diseñe un programa que concatene los contenidos de los ficheros contenidos en una carpeta y los escriba en otro fichero. Los nombres de los ficheros y la carpeta se pedirán al usuario por teclado"
   ]
  },
  {
   "cell_type": "markdown",
   "id": "c26e10aa",
   "metadata": {},
   "source": [
    "Cómo usar el script. <br>\n",
    "1 introducir la ruta absoluta del directorio que contiene los ficheros que desea concatenar.<br>\n",
    "2 escrbir el nombre del archivo<br>\n",
    "3 escribir la palabra fin cuando no desee agregar más ficheros.<br>\n",
    "4 el archivo de salida se llamará concatenado.txt y estará en el mismo directorio que introdujo en el paso 1<br>"
   ]
  },
  {
   "cell_type": "code",
   "execution_count": null,
   "id": "6e2cda6c",
   "metadata": {},
   "outputs": [],
   "source": [
    "import os\n",
    "nom_dir_origen= input('Inserte el nombre de la directorio origen: ') # Imprimir mensaje \n",
    "if os.path.exists(nom_dir_origen):\n",
    "    lst_ficheros=list()\n",
    "    while True:\n",
    "        nom_fi_origen= input('Ingresar textos de los ficheros, y la palabra fin para terminar ') # Imprimir mensaje \n",
    "        if nom_fi_origen == \"fin\":\n",
    "            break\n",
    "        fichero=nom_dir_origen+'\\\\'+nom_fi_origen\n",
    "        if os.path.exists(fichero):\n",
    "            print(fichero)\n",
    "            lst_ficheros.append(fichero)\n",
    "    concatenado = open(nom_dir_origen+'\\\\''Palabras.txt', 'w') # Imprimir mensaje , abrir archivo\n",
    "    for file in lst_ficheros:\n",
    "        with open(file) as origen: # abrir archivo\n",
    "            for linea in origen: # para la linea en el archivo origen\n",
    "                concatenado.write(linea)\n",
    "            concatenado.write('\\n')\n",
    "    concatenado.close()    \n",
    "else:\n",
    "    print('El directorio no existe') # Imprimir mensaje "
   ]
  }
 ],
 "metadata": {
  "hide_input": false,
  "kernelspec": {
   "display_name": "Python 3",
   "language": "python",
   "name": "python3"
  },
  "language_info": {
   "codemirror_mode": {
    "name": "ipython",
    "version": 3
   },
   "file_extension": ".py",
   "mimetype": "text/x-python",
   "name": "python",
   "nbconvert_exporter": "python",
   "pygments_lexer": "ipython3",
   "version": "3.8.8"
  },
  "nbTranslate": {
   "displayLangs": [
    "*"
   ],
   "hotkey": "alt-t",
   "langInMainMenu": true,
   "sourceLang": "en",
   "targetLang": "fr",
   "useGoogleTranslate": true
  },
  "toc": {
   "base_numbering": 1,
   "nav_menu": {},
   "number_sections": true,
   "sideBar": true,
   "skip_h1_title": false,
   "title_cell": "Table of Contents",
   "title_sidebar": "Contents",
   "toc_cell": false,
   "toc_position": {},
   "toc_section_display": true,
   "toc_window_display": false
  },
  "varInspector": {
   "cols": {
    "lenName": 16,
    "lenType": 16,
    "lenVar": 40
   },
   "kernels_config": {
    "python": {
     "delete_cmd_postfix": "",
     "delete_cmd_prefix": "del ",
     "library": "var_list.py",
     "varRefreshCmd": "print(var_dic_list())"
    },
    "r": {
     "delete_cmd_postfix": ") ",
     "delete_cmd_prefix": "rm(",
     "library": "var_list.r",
     "varRefreshCmd": "cat(var_dic_list()) "
    }
   },
   "types_to_exclude": [
    "module",
    "function",
    "builtin_function_or_method",
    "instance",
    "_Feature"
   ],
   "window_display": false
  }
 },
 "nbformat": 4,
 "nbformat_minor": 5
}
