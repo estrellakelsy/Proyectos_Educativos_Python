{
 "cells": [
  {
   "cell_type": "markdown",
   "id": "6f8ebb5b",
   "metadata": {},
   "source": [
    "# Ejercicio 01\n",
    "## Defina una función llamada raiz_cubica que devuelva la raíz cúbica de un número entero."
   ]
  },
  {
   "cell_type": "code",
   "execution_count": 1,
   "id": "d37a580d",
   "metadata": {},
   "outputs": [
    {
     "name": "stdout",
     "output_type": "stream",
     "text": [
      "4.121285299808556\n"
     ]
    }
   ],
   "source": [
    "def raiz_cubica(numero):\n",
    "   return numero**(1./3.)\n",
    "print(raiz_cubica(70))"
   ]
  },
  {
   "cell_type": "markdown",
   "id": "231cb988",
   "metadata": {},
   "source": [
    "# Ejercicio 02\n",
    "## Defina una función llamada area_circulo que, a partir del radio de un círculo, devuelva el valor de su área. Utiliza el valor 3.1416 como aproximación al número pi."
   ]
  },
  {
   "cell_type": "code",
   "execution_count": 3,
   "id": "07bc67e8",
   "metadata": {},
   "outputs": [
    {
     "name": "stdout",
     "output_type": "stream",
     "text": [
      "ingresa el numero: 5\n",
      "El area del circulo es 78.53981633974483\n"
     ]
    }
   ],
   "source": [
    "from math import pi\n",
    "area_circular = float(input(\"ingresa el numero: \"))\n",
    "area = pi * area_circular ** 2\n",
    "print('El area del circulo es {}'.format(area))\n"
   ]
  },
  {
   "cell_type": "markdown",
   "id": "63d2cfd9",
   "metadata": {},
   "source": [
    "# Ejercicio 03\n",
    "## Define una función que convierta grados Farenheit en grados centígrados. (Para calcular los grados centígrados has de restar 32 a los grados Farenheit y multiplicar el resultado por cinco novenos.)"
   ]
  },
  {
   "cell_type": "code",
   "execution_count": 4,
   "id": "754934d4",
   "metadata": {},
   "outputs": [
    {
     "name": "stdout",
     "output_type": "stream",
     "text": [
      "1.- Fahrenheit a Celsius\n",
      "2.- Celsius a Fahrenheit\n",
      "3.- Hasta luego\n",
      "Seleccione una opción: 3\n",
      "Hasta luego\n"
     ]
    }
   ],
   "source": [
    "def fahrenheit_celsius():\n",
    "    fahrenheit = int(input('Ingrese la temperatura en grados Fahrenheit: '))\n",
    "    celsius = (fahrenheit -32 ) * 5.0/9.0\n",
    "    return '{} grados Fahrenheit son {} grados Celsius'.format(fahrenheit, celsius)\n",
    "def celsius_fahrenheit():\n",
    "    celsius = int(input('Ingrese la temperatura en grados Celsius: '))\n",
    "    fahrenheit = 9.0/5.0 * celsius +32\n",
    "    return '{} grados Celsius son {} grados Fahrenheit'.format(fahrenheit, celsius)\n",
    "while True:\n",
    "    print('1.- Fahrenheit a Celsius')\n",
    "    print('2.- Celsius a Fahrenheit')\n",
    "    print('3.- Hasta luego')\n",
    "    try:\n",
    "        opcion = int(input('Seleccione una opción: '))\n",
    "        if opcion == 1:\n",
    "            print(fahrenheit_celsius())\n",
    "        elif opcion == 2:\n",
    "            print(celsius_fahrenheit())\n",
    "        elif opcion == 3:\n",
    "            print('Salir')\n",
    "            break\n",
    "        else:\n",
    "            raise ValueError\n",
    "    except ValueError:\n",
    "        print('Ingrese solo números.(1/2)')"
   ]
  },
  {
   "cell_type": "markdown",
   "id": "4c1e8da5",
   "metadata": {},
   "source": [
    "# Ejercicio 04 \n",
    "## Define una función que convierta grados centígrados en Farenheit."
   ]
  },
  {
   "cell_type": "code",
   "execution_count": 129,
   "id": "1da1f275",
   "metadata": {},
   "outputs": [
    {
     "name": "stdout",
     "output_type": "stream",
     "text": [
      "Ingrese la temperatura en grados centígrados: 45\n",
      "113.0 grados centígrados son 45 grados Fahrenheit\n"
     ]
    }
   ],
   "source": [
    "celsius = int(input('Ingrese la temperatura en grados centígrados: '))\n",
    "fahrenheit = 9.0/5.0 * celsius +32\n",
    "print('{} grados centígrados son {} grados Fahrenheit'.format(fahrenheit, celsius))"
   ]
  },
  {
   "cell_type": "markdown",
   "id": "f098f35b",
   "metadata": {},
   "source": [
    "# Ejercicio 05\n",
    "## Define una función que convierta radianes en grados. (Recuerda que 360 grados son 2π radianes.)"
   ]
  },
  {
   "cell_type": "code",
   "execution_count": 7,
   "id": "43ab4f59",
   "metadata": {},
   "outputs": [
    {
     "name": "stdout",
     "output_type": "stream",
     "text": [
      "[ 90. 180.]\n"
     ]
    }
   ],
   "source": [
    "import math\n",
    "import numpy\n",
    "radianes = [math.pi/2, math.pi] \n",
    "print(numpy.degrees(radianes))"
   ]
  },
  {
   "cell_type": "markdown",
   "id": "c2201d9f",
   "metadata": {},
   "source": [
    "# Ejercicio 06\n",
    "## Define una función que convierta grados en radianes."
   ]
  },
  {
   "cell_type": "code",
   "execution_count": 1,
   "id": "c9a76de7",
   "metadata": {},
   "outputs": [
    {
     "name": "stdout",
     "output_type": "stream",
     "text": [
      "1.5707963267948966\n"
     ]
    }
   ],
   "source": [
    "import math\n",
    "print(math.radians(90))"
   ]
  },
  {
   "cell_type": "markdown",
   "id": "6a0bd09d",
   "metadata": {},
   "source": [
    "# Ejercicio 07\n",
    "## Indique si son equivalentes las siguientes funciones:"
   ]
  },
  {
   "cell_type": "code",
   "execution_count": 12,
   "id": "cfcbe484",
   "metadata": {},
   "outputs": [],
   "source": [
    "def es_mayor_de_edad(edad) :\n",
    " if edad < 18:\n",
    "    return False\n",
    " else:\n",
    "    return True\n",
    "#retorna 2 valores dependiendo si se cumple o no la condicional edad < 18"
   ]
  },
  {
   "cell_type": "code",
   "execution_count": 6,
   "id": "f31d683a",
   "metadata": {},
   "outputs": [],
   "source": [
    "def es_mayor_de_edad(edad) :\n",
    " if edad < 18:\n",
    "     return False\n",
    " return True\n",
    "#Incorrecto: exite 2 return dentro del bloque if"
   ]
  },
  {
   "cell_type": "markdown",
   "id": "0557bf4d",
   "metadata": {},
   "source": [
    "# Ejercicio 08\n",
    "## Indique si son equivalentes las siguientes funciones:"
   ]
  },
  {
   "cell_type": "code",
   "execution_count": null,
   "id": "c55b18b3",
   "metadata": {},
   "outputs": [],
   "source": [
    "def es_mayor_de_edad ( edad ) :\n",
    " if edad < 18:\n",
    "    return False\n",
    " else:\n",
    "    return True"
   ]
  },
  {
   "cell_type": "code",
   "execution_count": null,
   "id": "fdb018d1",
   "metadata": {},
   "outputs": [],
   "source": [
    "def es_mayor_de_edad ( edad ) :\n",
    " return edad >= 18\n",
    "#sin son equivalentes"
   ]
  },
  {
   "cell_type": "markdown",
   "id": "a5ea9852",
   "metadata": {},
   "source": [
    "# Ejercicio 09\n",
    "## Indique lo que devuelve el siguiente código"
   ]
  },
  {
   "cell_type": "code",
   "execution_count": 10,
   "id": "4203b22b",
   "metadata": {},
   "outputs": [
    {
     "ename": "SyntaxError",
     "evalue": "Missing parentheses in call to 'print'. Did you mean print('Current Letter: ' , letter #muestra como resultado)? (<ipython-input-10-1b9eeb8038de>, line 4)",
     "output_type": "error",
     "traceback": [
      "\u001b[1;36m  File \u001b[1;32m\"<ipython-input-10-1b9eeb8038de>\"\u001b[1;36m, line \u001b[1;32m4\u001b[0m\n\u001b[1;33m    print 'Current Letter: ' , letter #muestra como resultado\u001b[0m\n\u001b[1;37m          ^\u001b[0m\n\u001b[1;31mSyntaxError\u001b[0m\u001b[1;31m:\u001b[0m Missing parentheses in call to 'print'. Did you mean print('Current Letter: ' , letter #muestra como resultado)?\n"
     ]
    }
   ],
   "source": [
    "for letter in 'Django' : # F i r s t Example\n",
    " if letter == 'D':\n",
    "     continue\n",
    " print 'Current Letter: ' , letter \n",
    "#muestra como resultado print 'Current Letter: ' , letter #muestra como resultado\n",
    "\n",
    "#Lo correcto seria\n",
    "#  print ('Current Letter: ' , letter)"
   ]
  },
  {
   "cell_type": "markdown",
   "id": "35ee5388",
   "metadata": {},
   "source": [
    "# Ejercicio 10\n",
    "## Indique lo que devuelve el siguiente código\n"
   ]
  },
  {
   "cell_type": "code",
   "execution_count": 24,
   "id": "7a31afb8",
   "metadata": {},
   "outputs": [
    {
     "name": "stdout",
     "output_type": "stream",
     "text": [
      "Sum of first  5 integers is :  10\n"
     ]
    }
   ],
   "source": [
    "num_sum = 0\n",
    "count = 0\n",
    "while ( count <10):\n",
    " num_sum = num_sum + count\n",
    " count = count + 1\n",
    " if count== 5:\n",
    "     break\n",
    "print ( \"Sum of first \" , count , \"integers is : \" , num_sum )\n",
    "\n",
    "#retorna: Sum of first  5 integers is :  10"
   ]
  },
  {
   "cell_type": "markdown",
   "id": "37af37a0",
   "metadata": {},
   "source": [
    "# Ejercicio 11\n",
    "##  Indica lo que devuelve el siguiente código:\n"
   ]
  },
  {
   "cell_type": "code",
   "execution_count": 13,
   "id": "4768494f",
   "metadata": {},
   "outputs": [
    {
     "name": "stdout",
     "output_type": "stream",
     "text": [
      "Iterated over everything\n",
      "Iterated over everything\n"
     ]
    }
   ],
   "source": [
    "for i in range ( 5 ) :\n",
    " if i == 2 :\n",
    "   break\n",
    "   print(i)\n",
    " else:\n",
    "   print (\"Iterated over everything\")\n",
    "\n",
    "#Retorna: Iterated over everything\n",
    "#         Iterated over everything\n"
   ]
  },
  {
   "cell_type": "markdown",
   "id": "d36a53cd",
   "metadata": {},
   "source": [
    "# Ejercicio 12 \n",
    "## Define una función que, dado un número de DNI, devuelva la letra que le corresponde.\n"
   ]
  },
  {
   "cell_type": "code",
   "execution_count": 1,
   "id": "8610084e",
   "metadata": {},
   "outputs": [
    {
     "name": "stdout",
     "output_type": "stream",
     "text": [
      "Introduzca el número del DNI:47589632\n",
      "La letra del DNI es: X\n"
     ]
    }
   ],
   "source": [
    "print('La letra del DNI es:','TRWAGMYFPDXBNJZSQVHLCKE'[int(input(\"Introduzca el número del DNI:\"))%23])"
   ]
  },
  {
   "cell_type": "markdown",
   "id": "a886961c",
   "metadata": {},
   "source": [
    "# Ejercicio 13\n",
    "## El siguiente programa debería imprimir el número 2 si se le ingresan como valores x=5, y=1 pero en su lugar imprime 5. ¿Qué hay que corregir?"
   ]
  },
  {
   "cell_type": "code",
   "execution_count": 60,
   "id": "727b7dff",
   "metadata": {},
   "outputs": [
    {
     "name": "stdout",
     "output_type": "stream",
     "text": [
      "valor de X es Un número: 5\n",
      "Valor de Y es Otro número: 2\n",
      "2\n"
     ]
    }
   ],
   "source": [
    "def maximo(a,b):\n",
    "  if x>y:\n",
    "    return x\n",
    "  else:\n",
    "    return y\n",
    "def minimo(a,b):\n",
    "  if x<y:\n",
    "    return x\n",
    "  else:\n",
    "    return y\n",
    "#programa principal\n",
    "x=int(input(\"valor de X es Un número: \"))\n",
    "y=int(input(\"Valor de Y es Otro número: \"))\n",
    "print(minimo(x-3, minimo(x+2, y-5))) \n",
    "#las funciones no usa los parametros de a y b, sino las variables globales x, y"
   ]
  },
  {
   "cell_type": "markdown",
   "id": "fc5a7f3e",
   "metadata": {},
   "source": [
    "# Ejercicio 14\n",
    "## Diseña una función que reciba una cadena y devuelva cierto si empieza por minúscula y falso en caso contrario. Le puede servir de ayuda saber que la codificación del carácter A es 65 y de la a es 97. Estos valores los puede obtener usando la función ord."
   ]
  },
  {
   "cell_type": "code",
   "execution_count": 2,
   "id": "0c36b544",
   "metadata": {},
   "outputs": [
    {
     "name": "stdout",
     "output_type": "stream",
     "text": [
      "True\n",
      "True\n",
      "True\n",
      "False\n",
      "False\n",
      "False\n"
     ]
    }
   ],
   "source": [
    "startMinuscula = lambda s: ord(s[0])>=97 and ord(s[0])<=122\n",
    "print(startMinuscula(\"casa\")) # True\n",
    "print(startMinuscula(\"silla\")) # True\n",
    "print(startMinuscula(\"mesa\")) # True\n",
    "print(startMinuscula(\"Casa\")) # False\n",
    "print(startMinuscula(\"Casa\")) # False\n",
    "print(startMinuscula(\"Silla\")) # False"
   ]
  },
  {
   "cell_type": "markdown",
   "id": "c9eea08b",
   "metadata": {},
   "source": [
    "# Ejercicio 15\n",
    "##  Escribir una función que, dado un string, retorne la longitud de la última palabra. Se considera que las palabras están separadas por uno o más espacios. También podría haber espacios al principio o al final del string pasado por parámetro."
   ]
  },
  {
   "cell_type": "code",
   "execution_count": 25,
   "id": "44586281",
   "metadata": {},
   "outputs": [
    {
     "name": "stdout",
     "output_type": "stream",
     "text": [
      "9\n"
     ]
    }
   ],
   "source": [
    "def longitud():\n",
    "    print(len('\\año nuevo'))\n",
    "    return\n",
    "longitud()"
   ]
  },
  {
   "cell_type": "markdown",
   "id": "3124f932",
   "metadata": {},
   "source": [
    "# Ejercicio 16\n",
    "## Escribir la función titulo(), la cual recibe un string y lo retorna convirtiendo la primera letra de cada palabra a mayúscula y las demás letras a minúscula, dejando inalterados los demás caracteres."
   ]
  },
  {
   "cell_type": "code",
   "execution_count": 54,
   "id": "95b169d1",
   "metadata": {},
   "outputs": [
    {
     "name": "stdout",
     "output_type": "stream",
     "text": [
      "La palabra con primera letra mayuscula es Navidad\n"
     ]
    }
   ],
   "source": [
    "def titulo(palabra):\n",
    "    print(\"La palabra con primera letra mayuscula es\", palabra.title())\n",
    "    return\n",
    "titulo(palabra=\"navidad\");"
   ]
  },
  {
   "cell_type": "markdown",
   "id": "bcbe6937",
   "metadata": {},
   "source": [
    "# Ejercicio 17\n",
    "## Diseña una función llamada es_repetición que reciba una ’abab’ cadena y nos diga si la cadena ’ab’ está formada mediante la concatenación de una cadena consigo misma. Por ejemplo, es_repeticion(’abab’) devolverá True; por contra es_repeticion(’ababab’) devolverá False."
   ]
  },
  {
   "cell_type": "code",
   "execution_count": null,
   "id": "750316ea",
   "metadata": {},
   "outputs": [],
   "source": [
    "raw_input = [] \n",
    "def es_repeticion(x):\n",
    "    letras=len (x)\n",
    "    mitad=letras/2\n",
    "    mitadmitad=mitad-1\n",
    "    lista=list(x)\n",
    "    if letras%2==0:\n",
    "        if lista[mitad::]==lista[:mitad:]:\n",
    "            return True\n",
    "        else:\n",
    "            return False\n",
    "repeticion=raw_input(\"Dame una concatenacion: \")\n",
    "print(es_repeticion(repeticion))"
   ]
  },
  {
   "cell_type": "markdown",
   "id": "23b9a6ac",
   "metadata": {},
   "source": [
    "# Ejercicio 18\n",
    "## Vamos a diseñar una función que nos diga si un número dado es o no es perfecto. Se dice que un número es perfecto si es igual a la suma de todos sus divisores excluido el mismo. Por ejemplo, 28 es un número perfecto, pues sus divisores (excepto el mismo) son 1,2,4,7 y 14, que suman 28. ¿La función propuesta es correcta?"
   ]
  },
  {
   "cell_type": "code",
   "execution_count": 5,
   "id": "b61113cd",
   "metadata": {},
   "outputs": [],
   "source": [
    "def es_perfecto ( n ) :\n",
    " for i in range ( 1 , n ) :\n",
    "    sumatorio = 0\n",
    "    if n %i == 0 :\n",
    "        sumatorio +=i\n",
    " return sumatorio == n"
   ]
  },
  {
   "cell_type": "markdown",
   "id": "12e300c9",
   "metadata": {},
   "source": [
    "# Ejercicio 19\n",
    "## Diseñe una función que devuelva los números perfectos comprendidos entre 1 y n, siendo n un entero que nos proporciona el usuario."
   ]
  },
  {
   "cell_type": "code",
   "execution_count": 6,
   "id": "3a96f013",
   "metadata": {},
   "outputs": [
    {
     "name": "stdout",
     "output_type": "stream",
     "text": [
      "Dame un número: 45\n",
      "6 es un número perfecto\n",
      "28 es un número perfecto\n"
     ]
    }
   ],
   "source": [
    "def es_perfecto(n):\n",
    "    sumatorio = 0\n",
    "    for i in range(1, n):\n",
    "        if n % i == 0:\n",
    "            sumatorio += i\n",
    "    return sumatorio == n\n",
    "def tabla_perfectos(m):\n",
    "    for i in range(1, m+1):\n",
    "        if es_perfecto(i):\n",
    "            print(i, 'es un número perfecto')\n",
    "numero = int(input('Dame un número: '))\n",
    "tabla_perfectos(numero)"
   ]
  },
  {
   "cell_type": "markdown",
   "id": "05fd6973",
   "metadata": {},
   "source": [
    "# Ejercicio 20\n",
    "## Diseñe una función que devuelva el número de días que tiene un año determinado. Ten en cuenta que un año es bisiesto si es divisible por 4 y no es divisible por 100, excepto si es también divisible por 400, en cuyo caso es bisiesto.\n"
   ]
  },
  {
   "cell_type": "code",
   "execution_count": 117,
   "id": "bf1a3b3d",
   "metadata": {},
   "outputs": [
    {
     "name": "stdout",
     "output_type": "stream",
     "text": [
      "No es bisiesto\n"
     ]
    }
   ],
   "source": [
    "año = 2022 # el año que queremos comprobar\n",
    "if not año % 4:\n",
    "    if not año % 100:\n",
    "        if not año % 400:\n",
    "            print(\"Es bisiesto\")\n",
    "        else:\n",
    "            print(\"No es bisiesto\")\n",
    "    else:\n",
    "        print(\"Es bisiesto\")\n",
    "else:\n",
    "    print(\"No es bisiesto\")"
   ]
  },
  {
   "cell_type": "markdown",
   "id": "27795036",
   "metadata": {},
   "source": [
    "# Ejercicio 21\n",
    "## Diseñe una función que, dado el valor de los tres lados de un triángulo, devuelva la longitud de su perímetro.\n"
   ]
  },
  {
   "cell_type": "code",
   "execution_count": 13,
   "id": "22a95b64",
   "metadata": {},
   "outputs": [
    {
     "name": "stdout",
     "output_type": "stream",
     "text": [
      "76.69\n"
     ]
    }
   ],
   "source": [
    "s1=12\n",
    "s2=13\n",
    "s3=16\n",
    "def area_triangulo(s1,s2,s3):\n",
    "  s=(s1+s2+s3)/2\n",
    "  area=((s*(s-s1)*(s-s2)*(s-s3))**0.5)\n",
    "  return round(area,2)\n",
    "print(area_triangulo(s1,s2,s3))"
   ]
  },
  {
   "cell_type": "markdown",
   "id": "b2589364",
   "metadata": {},
   "source": [
    "# Ejercicio 22\n",
    "## Haz una función que reciba un número de DNI y una letra. La función devolverá True si la letra se corresponde a ese número. y False en otro caso. La función debe llamarse comprueba letra dni."
   ]
  },
  {
   "cell_type": "code",
   "execution_count": 13,
   "id": "b9cf28b9",
   "metadata": {},
   "outputs": [
    {
     "name": "stdout",
     "output_type": "stream",
     "text": [
      "Escriba DNI: 45789632\n",
      "Escriba letra: o\n",
      "False\n"
     ]
    }
   ],
   "source": [
    "def comprueba_letra_DNI(dni, letra):\n",
    "    return dni[len(dni)-1:] == letra\n",
    "    \n",
    "dni = input(\"Escriba DNI: \")\n",
    "letra = input(\"Escriba letra: \")\n",
    "print(comprueba_letra_DNI(dni, letra))"
   ]
  },
  {
   "cell_type": "markdown",
   "id": "ed4b4c78",
   "metadata": {},
   "source": [
    "# Ejercicio 23\n",
    "## Comente lo que realiza esta función:\n"
   ]
  },
  {
   "cell_type": "code",
   "execution_count": null,
   "id": "64271009",
   "metadata": {},
   "outputs": [],
   "source": [
    "import math\n",
    "def to_absolute(n):\n",
    " a = int (n)\n",
    " decimal = abs (n) − abs (int(n)) \n",
    " if decim al >= 0. 5 :\n",
    "     print (math.ceil (n))\n",
    " else:\n",
    "     print (math.floor(n))\n",
    "#calcula el valor obsoluto de n"
   ]
  },
  {
   "cell_type": "markdown",
   "id": "50b6e4fe",
   "metadata": {},
   "source": [
    "# Ejercicio 24\n",
    "## Diseñe una función que, dados dos parámetros b y c, devuelva el valor de logb(x), es decir, el logaritmo en base b de x. (Puede usar la función log disponible en el módulo math)."
   ]
  },
  {
   "cell_type": "code",
   "execution_count": 14,
   "id": "c48362aa",
   "metadata": {},
   "outputs": [
    {
     "name": "stdout",
     "output_type": "stream",
     "text": [
      "5.0\n"
     ]
    }
   ],
   "source": [
    "import math\n",
    "def logaritmo(b, c):\n",
    "    return math.log(c, b)\n",
    "print(logaritmo(2,32))"
   ]
  },
  {
   "cell_type": "markdown",
   "id": "6e5dd139",
   "metadata": {},
   "source": [
    "# Ejercicio 25\n",
    "## Diseñe una función que diga si dos números son amigos. Dos números enteros son amigos si la suma de los divisores propios del primero (excluido él) es igual al segundo y viceversa. En la Wikipedia podéis encontrar más información sobre este tipo de números."
   ]
  },
  {
   "cell_type": "code",
   "execution_count": 98,
   "id": "0a244f7e",
   "metadata": {},
   "outputs": [
    {
     "name": "stdout",
     "output_type": "stream",
     "text": [
      "Digite un numero1: 2\n",
      "Digite un numero2: 3\n",
      "False\n"
     ]
    }
   ],
   "source": [
    "def son_amigos(numero1, numero2):\n",
    "    sumaDivisores1 = 0\n",
    "    for divisor in range(1, numero1):\n",
    "        if numero1%divisor == 0:\n",
    "            sumaDivisores1 += divisor\n",
    "    sumaDivisores2 = 0\n",
    "    for divisor in range(1, numero2):\n",
    "        if numero2%divisor == 0:\n",
    "            sumaDivisores2 += divisor\n",
    "    \n",
    "    return sumaDivisores1 == numero2 and sumaDivisores2 == numero1\n",
    "numero1 = int(input(\"Digite un numero1: \"))\n",
    "numero2 = int(input(\"Digite un numero2: \"))\n",
    "\n",
    "print(son_amigos(numero1, numero2))\n",
    "            "
   ]
  },
  {
   "cell_type": "code",
   "execution_count": 15,
   "id": "8545c1ed",
   "metadata": {},
   "outputs": [
    {
     "name": "stdout",
     "output_type": "stream",
     "text": [
      "['Enero', 'Febrero', 'Marzo', 'Abril']\n"
     ]
    }
   ],
   "source": [
    "lista = ['Enero','Febrero','Marzo','Abril']\n",
    "def chop(lista):\n",
    "  lista.pop(3)\n",
    "print(lista)"
   ]
  },
  {
   "cell_type": "code",
   "execution_count": null,
   "id": "a185ef50",
   "metadata": {},
   "outputs": [],
   "source": []
  }
 ],
 "metadata": {
  "hide_input": false,
  "kernelspec": {
   "display_name": "Python 3",
   "language": "python",
   "name": "python3"
  },
  "language_info": {
   "codemirror_mode": {
    "name": "ipython",
    "version": 3
   },
   "file_extension": ".py",
   "mimetype": "text/x-python",
   "name": "python",
   "nbconvert_exporter": "python",
   "pygments_lexer": "ipython3",
   "version": "3.8.8"
  },
  "nbTranslate": {
   "displayLangs": [
    "*"
   ],
   "hotkey": "alt-t",
   "langInMainMenu": true,
   "sourceLang": "en",
   "targetLang": "fr",
   "useGoogleTranslate": true
  },
  "toc": {
   "base_numbering": 1,
   "nav_menu": {},
   "number_sections": true,
   "sideBar": true,
   "skip_h1_title": false,
   "title_cell": "Table of Contents",
   "title_sidebar": "Contents",
   "toc_cell": false,
   "toc_position": {},
   "toc_section_display": true,
   "toc_window_display": false
  },
  "varInspector": {
   "cols": {
    "lenName": 16,
    "lenType": 16,
    "lenVar": 40
   },
   "kernels_config": {
    "python": {
     "delete_cmd_postfix": "",
     "delete_cmd_prefix": "del ",
     "library": "var_list.py",
     "varRefreshCmd": "print(var_dic_list())"
    },
    "r": {
     "delete_cmd_postfix": ") ",
     "delete_cmd_prefix": "rm(",
     "library": "var_list.r",
     "varRefreshCmd": "cat(var_dic_list()) "
    }
   },
   "types_to_exclude": [
    "module",
    "function",
    "builtin_function_or_method",
    "instance",
    "_Feature"
   ],
   "window_display": false
  }
 },
 "nbformat": 4,
 "nbformat_minor": 5
}
