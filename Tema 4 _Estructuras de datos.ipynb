{
 "cells": [
  {
   "cell_type": "markdown",
   "id": "89eafd6d",
   "metadata": {},
   "source": [
    "1.Listas: Son estructuras de almacenamiento de crecimiento dinámico, mutables(se puede modificar el contenido), es decir cuando lo creamos no indicamos su tamaño maximo y ademas podemos ir agregando. se puede hacer la operaciones: Las operaciones que se pueden realizar sobre una lista son:\n",
    "Definición y creación\n",
    "Acceso a sus valores\n",
    "Principales funciones\n",
    "Programación funcional\n",
    "List Comprehensions\n",
    "Uniendo Listas\n",
    "\n",
    "\n",
    "Una lista se define entre corchetes que contiene diferentes datos \n",
    "[ valores, cadenas, numericos, booleanos, etc]\n",
    "\n",
    "Accedemos a los elementos de la lista mediante [] \n",
    "\n",
    "2. Tuplas\n",
    "3. Conjuntos\n",
    "4. Diccionarios"
   ]
  },
  {
   "cell_type": "code",
   "execution_count": 2,
   "id": "116eb3cb",
   "metadata": {},
   "outputs": [],
   "source": [
    "li = [2,3,4,5]"
   ]
  },
  {
   "cell_type": "code",
   "execution_count": 3,
   "id": "c839b765",
   "metadata": {},
   "outputs": [
    {
     "data": {
      "text/plain": [
       "[2, 3, 4, 5]"
      ]
     },
     "execution_count": 3,
     "metadata": {},
     "output_type": "execute_result"
    }
   ],
   "source": [
    "li"
   ]
  },
  {
   "cell_type": "code",
   "execution_count": 5,
   "id": "e3e066bc",
   "metadata": {},
   "outputs": [
    {
     "name": "stdout",
     "output_type": "stream",
     "text": [
      "2\n",
      "3\n",
      "4\n"
     ]
    }
   ],
   "source": [
    "print (li[0])\n",
    "print (li[1])\n",
    "print (li[2])"
   ]
  },
  {
   "cell_type": "code",
   "execution_count": 7,
   "id": "03ca91f7",
   "metadata": {},
   "outputs": [],
   "source": [
    "li = [\"a\", \"b\", \"mpilgrim\", \"z\", \"example\"]\n",
    "my_list = [1, 2, 3]\n",
    "my_list = [1, \"Hello\", 3.4]"
   ]
  },
  {
   "cell_type": "code",
   "execution_count": 8,
   "id": "efc31338",
   "metadata": {},
   "outputs": [
    {
     "name": "stdout",
     "output_type": "stream",
     "text": [
      "a\n",
      "example\n",
      "b\n"
     ]
    }
   ],
   "source": [
    "li = [\"a\", \"b\", \"mpilgrim\", \"z\", \"example\"]\n",
    "print(li[0])\n",
    "print(li[4])\n",
    "print(li[1])"
   ]
  },
  {
   "cell_type": "markdown",
   "id": "7b74d536",
   "metadata": {},
   "source": [
    "APPEND\n",
    "El método append() añade un elemento al final de la lista\n"
   ]
  },
  {
   "cell_type": "code",
   "execution_count": 9,
   "id": "4910192d",
   "metadata": {},
   "outputs": [
    {
     "name": "stdout",
     "output_type": "stream",
     "text": [
      "['a', 'b', 'mpilgrim', 'z', 'example', 'new']\n"
     ]
    }
   ],
   "source": [
    "li = [\"a\", \"b\", \"mpilgrim\", \"z\", \"example\"]\n",
    "li.append(\"new\")\n",
    "print(li)"
   ]
  },
  {
   "cell_type": "markdown",
   "id": "73d5a19d",
   "metadata": {},
   "source": [
    "INSERT\n",
    "El método insert() inserta un elemento en la posición que se indique"
   ]
  },
  {
   "cell_type": "code",
   "execution_count": 14,
   "id": "6bf75638",
   "metadata": {},
   "outputs": [
    {
     "name": "stdout",
     "output_type": "stream",
     "text": [
      "['a', 'b', 'two', 'mpilgrim', 'z', 'example']\n"
     ]
    }
   ],
   "source": [
    "li = [\"a\", \"b\", \"mpilgrim\", \"z\", \"example\"]\n",
    "li.insert(2,\"two\")\n",
    "print(li)"
   ]
  },
  {
   "cell_type": "markdown",
   "id": "45a3fe96",
   "metadata": {},
   "source": [
    "EXTEND\n",
    "El método extend() concatena los elementos de dos listas"
   ]
  },
  {
   "cell_type": "code",
   "execution_count": 22,
   "id": "21cd5e96",
   "metadata": {},
   "outputs": [
    {
     "data": {
      "text/plain": [
       "['a',\n",
       " 'b',\n",
       " 'two',\n",
       " 'mpilgrim',\n",
       " 'z',\n",
       " 'example',\n",
       " [...],\n",
       " [...],\n",
       " [...],\n",
       " [...],\n",
       " [1, 2, 3, 4]]"
      ]
     },
     "execution_count": 22,
     "metadata": {},
     "output_type": "execute_result"
    }
   ],
   "source": [
    "li2 = [1,2,3,4]\n",
    "li.append(li2)\n",
    "li"
   ]
  },
  {
   "cell_type": "markdown",
   "id": "cde7a419",
   "metadata": {},
   "source": [
    "OPERADOR MAS +\n",
    "El operador + es similar a  extend() "
   ]
  },
  {
   "cell_type": "code",
   "execution_count": 1,
   "id": "34fce133",
   "metadata": {},
   "outputs": [
    {
     "name": "stdout",
     "output_type": "stream",
     "text": [
      "['a', 2.0, 3]\n"
     ]
    }
   ],
   "source": [
    "a_list = ['a']\n",
    "a_list = a_list + [2.0, 3]\n",
    "print(a_list)"
   ]
  },
  {
   "cell_type": "code",
   "execution_count": 2,
   "id": "9a74d2c7",
   "metadata": {},
   "outputs": [
    {
     "name": "stdout",
     "output_type": "stream",
     "text": [
      "['a', 'b', 'c', 'd', 'e', 'f', ['g', 'h', 'i']]\n"
     ]
    }
   ],
   "source": [
    "#OTRO EJEMPLO DE APPEND\n",
    "a_list = ['a', 'b', 'c', 'd', 'e', 'f']\n",
    "a_list.append(['g', 'h', 'i'])\n",
    "print(a_list)"
   ]
  },
  {
   "cell_type": "markdown",
   "id": "f33dac64",
   "metadata": {},
   "source": [
    "BUSCAR ELEMENTOS \n",
    "Para buscar elementos en una lista usamos los métodos index(), count() y el operador in.\n",
    "\n",
    "INDEX\n",
    "El método  index() devuelve la posición del elemento si no lo encuentra devuelve un error\n"
   ]
  },
  {
   "cell_type": "code",
   "execution_count": 1,
   "id": "92782d56",
   "metadata": {},
   "outputs": [
    {
     "name": "stdout",
     "output_type": "stream",
     "text": [
      "5\n",
      "8\n"
     ]
    }
   ],
   "source": [
    "li = ['a', 'b', 'new', 'mpilgrim', 'z', 'example', 'new', 'two', 'elements']\n",
    "print(li.index('example'))\n",
    "print(li.index('elements'))"
   ]
  },
  {
   "cell_type": "markdown",
   "id": "68d4ce38",
   "metadata": {},
   "source": [
    "COUNT\n",
    "El método count()  devuelve el número de ocurrencias de un elemento\n",
    "muestra El numero de veces que aparece un elemento dentro de la lista"
   ]
  },
  {
   "cell_type": "code",
   "execution_count": 6,
   "id": "acfcc0e8",
   "metadata": {},
   "outputs": [
    {
     "name": "stdout",
     "output_type": "stream",
     "text": [
      "0\n"
     ]
    }
   ],
   "source": [
    "li = ['a', 'b', 'new', 'mpilgrim', 'new']\n",
    "print(a_list.count('new'))"
   ]
  },
  {
   "cell_type": "markdown",
   "id": "280eedc1",
   "metadata": {},
   "source": [
    "IN: samos el operador in para saber si un elemento está en una lista\n",
    "permite moestrar si existe o no existe el elemento dentro de la lista\n"
   ]
  },
  {
   "cell_type": "code",
   "execution_count": 8,
   "id": "82b07203",
   "metadata": {},
   "outputs": [
    {
     "name": "stdout",
     "output_type": "stream",
     "text": [
      "Está en la lista\n"
     ]
    }
   ],
   "source": [
    "li = ['a', 'b', 'new', 'mpilgrim', 'new']\n",
    "\n",
    "if 'a' in li :\n",
    "\tprint('Está en la lista')\n",
    "else:\n",
    "\tprint('No está en la lista')"
   ]
  },
  {
   "cell_type": "markdown",
   "id": "8bb12476",
   "metadata": {},
   "source": [
    "BORRAR ELEMENTOS\n",
    "Para borrar elementos podemos usar los métodos remove(), pop() y la sentencia del\n",
    "\n",
    "1. REMOVE\n",
    "remove() busca y borra la primera aparición del elemento es decir el primero que aparece dentro del la lista, y en caso que no existe muestra un error"
   ]
  },
  {
   "cell_type": "code",
   "execution_count": 16,
   "id": "27e47b08",
   "metadata": {},
   "outputs": [
    {
     "name": "stdout",
     "output_type": "stream",
     "text": [
      "['a', 'b', 'new', 'mpilgrim', 'example', 'new', 'two', 'elements']\n",
      "['a', 'b', 'mpilgrim', 'example', 'new', 'two', 'elements']\n"
     ]
    }
   ],
   "source": [
    "li = ['a', 'b', 'new', 'mpilgrim', 'z', 'example', 'new', 'two', 'elements']\n",
    "li\n",
    "li.remove('z')\n",
    "print(li)\n",
    "#borrando a prmer new\n",
    "li.remove('new')\n",
    "print(li)"
   ]
  },
  {
   "cell_type": "markdown",
   "id": "af3afab9",
   "metadata": {},
   "source": [
    "2. DEL\n",
    "La sentencia del borra la posición de la lista que se indique:\n",
    "ejm: se le indico volar el indice [1]=b"
   ]
  },
  {
   "cell_type": "code",
   "execution_count": 18,
   "id": "b9218ee0",
   "metadata": {},
   "outputs": [
    {
     "name": "stdout",
     "output_type": "stream",
     "text": [
      "b\n",
      "['a', 'new', 'mpilgrim', 'new']\n"
     ]
    }
   ],
   "source": [
    "li = ['a', 'b', 'new', 'mpilgrim', 'new']\n",
    "print(li[1])\n",
    "del li[1]\n",
    "print(li)"
   ]
  },
  {
   "cell_type": "markdown",
   "id": "16273090",
   "metadata": {},
   "source": [
    "3. POP\n",
    "pop()  borra y devuelve el último elemento de la lista:\n",
    "Borra el indice que sea indicado y imprime el valor\n",
    "si no se indico nada muestra el ultimo valor"
   ]
  },
  {
   "cell_type": "code",
   "execution_count": 27,
   "id": "27eb8224",
   "metadata": {},
   "outputs": [
    {
     "name": "stdout",
     "output_type": "stream",
     "text": [
      "[1, 2, 3, 4, 5, 6, 7, 8]\n"
     ]
    }
   ],
   "source": [
    "li = [1, 2, 3, 4, 5, 6, 7, 8]\n",
    "print(li)\n"
   ]
  },
  {
   "cell_type": "code",
   "execution_count": 28,
   "id": "4fb9f8e7",
   "metadata": {},
   "outputs": [
    {
     "name": "stdout",
     "output_type": "stream",
     "text": [
      "3\n"
     ]
    }
   ],
   "source": [
    "print(li.pop(2))"
   ]
  },
  {
   "cell_type": "code",
   "execution_count": 29,
   "id": "e04dabfe",
   "metadata": {},
   "outputs": [
    {
     "name": "stdout",
     "output_type": "stream",
     "text": [
      "[1, 2, 4, 5, 6, 7, 8]\n"
     ]
    }
   ],
   "source": [
    "print(li)"
   ]
  },
  {
   "cell_type": "code",
   "execution_count": 30,
   "id": "73f26846",
   "metadata": {},
   "outputs": [
    {
     "name": "stdout",
     "output_type": "stream",
     "text": [
      "8\n"
     ]
    }
   ],
   "source": [
    "print(li.pop())"
   ]
  },
  {
   "cell_type": "code",
   "execution_count": 31,
   "id": "fc9bcd23",
   "metadata": {},
   "outputs": [
    {
     "data": {
      "text/plain": [
       "'Remove and return item at index (default last).\\n\\nRaises IndexError if list is empty or index is out of range.'"
      ]
     },
     "execution_count": 31,
     "metadata": {},
     "output_type": "execute_result"
    }
   ],
   "source": [
    "li.pop.__doc__"
   ]
  },
  {
   "cell_type": "markdown",
   "id": "0644900c",
   "metadata": {},
   "source": [
    "ORDENAR ELEMENTOS DE LA LISTA\n",
    "\n",
    "SORT()\n",
    "Podemos usar el método sort() para ordenar los elementos de una llista:"
   ]
  },
  {
   "cell_type": "code",
   "execution_count": 33,
   "id": "ee32aa32",
   "metadata": {},
   "outputs": [
    {
     "name": "stdout",
     "output_type": "stream",
     "text": [
      "[3, 7, 8, 1, 100, 4]\n"
     ]
    }
   ],
   "source": [
    "a = [3, 7, 8, 1, 100, 4]\n",
    "print(a)\n"
   ]
  },
  {
   "cell_type": "code",
   "execution_count": 34,
   "id": "81b71c6b",
   "metadata": {},
   "outputs": [
    {
     "name": "stdout",
     "output_type": "stream",
     "text": [
      "[1, 3, 4, 7, 8, 100]\n"
     ]
    }
   ],
   "source": [
    "a.sort()\n",
    "print(a)"
   ]
  },
  {
   "cell_type": "code",
   "execution_count": 38,
   "id": "392a1da1",
   "metadata": {},
   "outputs": [
    {
     "name": "stdout",
     "output_type": "stream",
     "text": [
      "[2, 4, 16, 6, 8, 10]\n"
     ]
    }
   ],
   "source": [
    "b = [2, 4, 16, 6, 8, 10]\n",
    "print(b)"
   ]
  },
  {
   "cell_type": "markdown",
   "id": "3d0119a8",
   "metadata": {},
   "source": [
    "SORTED\n",
    "\n",
    "La función sorted() se puede usar para cualquier estructura iterativo"
   ]
  },
  {
   "cell_type": "code",
   "execution_count": 39,
   "id": "538b29ce",
   "metadata": {},
   "outputs": [
    {
     "name": "stdout",
     "output_type": "stream",
     "text": [
      "[2, 4, 6, 8, 10, 16]\n"
     ]
    }
   ],
   "source": [
    "c=sorted(b)\n",
    "print(c)"
   ]
  },
  {
   "cell_type": "markdown",
   "id": "e8d46385",
   "metadata": {},
   "source": [
    "PROGRAMACION FUNCIONAL\n",
    "Existen otras funciones muy útiles cuando trabajamos con listas:\n",
    "\n",
    " filter (FILTRAR)\n",
    "Devuelve los elementos de una lista que hacen cierta una función\n",
    "map\n",
    "Aplica a todos los elementos de una lista un valor\n",
    "reduce\n",
    "Devuelve el resultado de aplicar una función a todos los elementos\n"
   ]
  },
  {
   "cell_type": "markdown",
   "id": "bf6a781c",
   "metadata": {},
   "source": [
    "FILTER\n",
    "a función filter(function, sequence) devuelve la secuencia formada por aquellos items de la secuencia original para los que la función function(item) es True.\n",
    "\n",
    "FILTER: filtra elementos de una lista en base a una funcion que muestra una funcion que devulve un valor logico"
   ]
  },
  {
   "cell_type": "code",
   "execution_count": 41,
   "id": "cf95ddcd",
   "metadata": {},
   "outputs": [
    {
     "name": "stdout",
     "output_type": "stream",
     "text": [
      "range(2, 30)\n"
     ]
    }
   ],
   "source": [
    "lista = range(2,30)\n",
    "print(lista)"
   ]
  },
  {
   "cell_type": "code",
   "execution_count": 42,
   "id": "8afdd35c",
   "metadata": {},
   "outputs": [
    {
     "name": "stdout",
     "output_type": "stream",
     "text": [
      "[3, 5, 6, 9, 10, 12, 15, 18, 20, 21, 24, 25, 27]\n"
     ]
    }
   ],
   "source": [
    "#PRIMERA FORMA\n",
    "def divisible(x):\n",
    "    return x % 3 == 0 or x %5 == 0\n",
    "nueva_lista = []\n",
    "for elemento in lista:\n",
    "    if divisible(elemento) == True:\n",
    "        nueva_lista.append(elemento)\n",
    "print(nueva_lista)"
   ]
  },
  {
   "cell_type": "code",
   "execution_count": 46,
   "id": "07c27781",
   "metadata": {},
   "outputs": [
    {
     "name": "stdout",
     "output_type": "stream",
     "text": [
      "<filter object at 0x00000150B1797730>\n"
     ]
    }
   ],
   "source": [
    "#SEGUNDA FORMA\n",
    "b = filter(divisible, lista)\n",
    "print(b)"
   ]
  },
  {
   "cell_type": "code",
   "execution_count": 47,
   "id": "09f8cb91",
   "metadata": {},
   "outputs": [
    {
     "name": "stdout",
     "output_type": "stream",
     "text": [
      "[3, 5, 6, 9, 10, 12, 15, 18, 20, 21, 24, 25, 27]\n"
     ]
    }
   ],
   "source": [
    "print(list(b))"
   ]
  },
  {
   "cell_type": "code",
   "execution_count": 60,
   "id": "c07c3058",
   "metadata": {},
   "outputs": [
    {
     "name": "stdout",
     "output_type": "stream",
     "text": [
      "<filter object at 0x00000150B0C95A90>\n"
     ]
    }
   ],
   "source": [
    "#TERCERA FORMA\n",
    "c = filter(lambda x : x %3 == 0 or x %5 == 0 ,lista)\n",
    "print(c)"
   ]
  },
  {
   "cell_type": "code",
   "execution_count": 61,
   "id": "a3837c75",
   "metadata": {},
   "outputs": [
    {
     "name": "stdout",
     "output_type": "stream",
     "text": [
      "[3, 5, 6, 9, 10, 12, 15, 18, 20, 21, 24, 25, 27]\n"
     ]
    }
   ],
   "source": [
    "print(list(c))"
   ]
  },
  {
   "cell_type": "markdown",
   "id": "a5dd4492",
   "metadata": {},
   "source": [
    "MAPEO\n",
    "* elevar al cubo los elementos de la lista\n",
    "La función map(function, sequence) invoca a la función function(item) para cada uno de los elementos de la secuencia y devuelve la lista resultante tras su aplicación:"
   ]
  },
  {
   "cell_type": "code",
   "execution_count": 77,
   "id": "8b547f69",
   "metadata": {},
   "outputs": [
    {
     "name": "stdout",
     "output_type": "stream",
     "text": [
      "[2, 3, 4, 5, 6, 7, 8, 9, 10, 11, 12, 13, 14, 15, 16, 17, 18, 19, 20, 21, 22, 23, 24, 25, 26, 27, 28, 29]\n",
      "2\n",
      "8\n",
      "3\n",
      "27\n",
      "4\n",
      "64\n",
      "5\n",
      "125\n",
      "6\n",
      "216\n",
      "7\n",
      "343\n",
      "8\n",
      "512\n",
      "9\n",
      "729\n",
      "10\n",
      "1000\n",
      "11\n",
      "1331\n",
      "12\n",
      "1728\n",
      "13\n",
      "2197\n",
      "14\n",
      "2744\n",
      "15\n",
      "3375\n",
      "16\n",
      "4096\n",
      "17\n",
      "4913\n",
      "18\n",
      "5832\n",
      "19\n",
      "6859\n",
      "20\n",
      "8000\n",
      "21\n",
      "9261\n",
      "22\n",
      "10648\n",
      "23\n",
      "12167\n",
      "24\n",
      "13824\n",
      "25\n",
      "15625\n",
      "26\n",
      "17576\n",
      "27\n",
      "19683\n",
      "28\n",
      "21952\n",
      "29\n",
      "24389\n",
      "[8, 27, 64, 125, 216, 343, 512, 729, 1000, 1331, 1728, 2197, 2744, 3375, 4096, 4913, 5832, 6859, 8000, 9261, 10648, 12167, 13824, 15625, 17576, 19683, 21952, 24389]\n"
     ]
    }
   ],
   "source": [
    "def mi_cubo(x):\n",
    "    return x*x*x\n",
    "print(list(lista))\n",
    "nueva_lista = []\n",
    "\n",
    "for elemento in lista:\n",
    "    print(elemento)\n",
    "    a = mi_cubo(elemento)\n",
    "    print(a)\n",
    "    nueva_lista.append(a)\n",
    "print(nueva_lista)"
   ]
  },
  {
   "cell_type": "code",
   "execution_count": 76,
   "id": "ffed6a2d",
   "metadata": {},
   "outputs": [
    {
     "name": "stdout",
     "output_type": "stream",
     "text": [
      "[27, 125, 216, 729, 1000, 1728, 3375, 5832, 8000, 9261, 13824, 15625, 19683]\n"
     ]
    }
   ],
   "source": [
    "print(list(map(lambda x : x*x*x, list(filter(lambda x : x %3 == 0 or x %5 == 0 ,lista)))))"
   ]
  },
  {
   "cell_type": "markdown",
   "id": "41f21243",
   "metadata": {},
   "source": [
    "REDUCCION:\n",
    "\n",
    "calcular la suma o resta de reduccion convertiendo a un unico valor\n",
    "a función reduce(function, sequence)  devuelve un único valor tras aplicar la función binaria function a los dos primeros elementos de la secuencia.\n",
    "El resultado se usará para volver a invocar a function junto al tercer elemento y así consecutivamente."
   ]
  },
  {
   "cell_type": "code",
   "execution_count": 78,
   "id": "cc55e630",
   "metadata": {},
   "outputs": [
    {
     "name": "stdout",
     "output_type": "stream",
     "text": [
      "x= 1  y= 2\n",
      "x= 2  y= 3\n",
      "Factorial of 3:  6\n"
     ]
    }
   ],
   "source": [
    "import functools #la funcion reduce se encuentran en esta clase\n",
    "def mult(x,y):\n",
    "    print(\"x=\",x,\" y=\",y)\n",
    "    return x*y\n",
    "\n",
    "fact=functools.reduce(mult, range(1, 4))\n",
    "print ('Factorial of 3: ', fact)"
   ]
  },
  {
   "cell_type": "markdown",
   "id": "aea97bc2",
   "metadata": {},
   "source": [
    "REDUCE\n",
    "La función reduce(function, sequence)  admite un tercer argumento, el valor inicial de la reducción:\n",
    "** con la funcion reduce se calcula la suma, la resta, la multi, etc"
   ]
  },
  {
   "cell_type": "code",
   "execution_count": 80,
   "id": "49ebc3bf",
   "metadata": {},
   "outputs": [
    {
     "name": "stdout",
     "output_type": "stream",
     "text": [
      "‘La suma es’ 6\n",
      "‘La suma es’ 9\n"
     ]
    }
   ],
   "source": [
    "import functools\n",
    "\n",
    "def add(x,y): return x+y\n",
    "\n",
    "sum=functools.reduce(add, range(1, 4))\n",
    "print ('‘La suma es’', sum)\n",
    "sum=functools.reduce(add, range(1, 4),3) #3+1,3+3,+3\n",
    "print ('‘La suma es’', sum)"
   ]
  },
  {
   "cell_type": "code",
   "execution_count": 82,
   "id": "071016c2",
   "metadata": {},
   "outputs": [
    {
     "name": "stdout",
     "output_type": "stream",
     "text": [
      "1\n",
      "2\n",
      "2\n",
      "3\n"
     ]
    },
    {
     "data": {
      "text/plain": [
       "6"
      ]
     },
     "execution_count": 82,
     "metadata": {},
     "output_type": "execute_result"
    }
   ],
   "source": [
    "import functools\n",
    "def mult(x, y):\n",
    "    print(x)\n",
    "    print(y)\n",
    "    return x*y\n",
    "\n",
    "functools.reduce(mult,range(1,4))"
   ]
  },
  {
   "cell_type": "markdown",
   "id": "699f449d",
   "metadata": {},
   "source": [
    "LISTA DE COMPREENSION\n",
    "Es una manera concisa de crear listas\n",
    "Iteramos sobre los elementos de la lista y les aplicamos una función\n"
   ]
  },
  {
   "cell_type": "code",
   "execution_count": null,
   "id": "bd42a756",
   "metadata": {},
   "outputs": [],
   "source": [
    "squares = []\n",
    "for x in range(10):\n",
    "squares.append(x**2)\n",
    "print(squares)"
   ]
  },
  {
   "cell_type": "code",
   "execution_count": null,
   "id": "bf0aabab",
   "metadata": {},
   "outputs": [],
   "source": [
    "#hace lo mismo pero mas simplificado\n",
    "squares = [x**2 for x in range(10)]\n"
   ]
  },
  {
   "cell_type": "markdown",
   "id": "2a423cce",
   "metadata": {},
   "source": [
    "LISTA DE COMPRESSION II\n",
    "Una list comprehension consiste en poner entre [] la expresión seguida por un for y una o más cláusulas"
   ]
  },
  {
   "cell_type": "code",
   "execution_count": 83,
   "id": "8ab6d8cb",
   "metadata": {},
   "outputs": [
    {
     "name": "stdout",
     "output_type": "stream",
     "text": [
      "[(1, 3), (1, 4), (2, 3), (2, 1), (2, 4), (3, 1), (3, 4)]\n"
     ]
    }
   ],
   "source": [
    "combs = [(x, y) for x in [1,2,3] for y in [3,1,4] if x != y]\n",
    "[(1, 3), (1, 4), (2, 3), (2, 1), (2, 4), (3, 1), (3, 4)]\n",
    "print (combs)\n"
   ]
  },
  {
   "cell_type": "code",
   "execution_count": 87,
   "id": "0ae83aeb",
   "metadata": {},
   "outputs": [
    {
     "name": "stdout",
     "output_type": "stream",
     "text": [
      "[(1, 3), (1, 4), (2, 3), (2, 1), (2, 4), (3, 1), (3, 4)]\n"
     ]
    }
   ],
   "source": [
    "#Es lo mismo decir\n",
    "combs = []\n",
    "for x in [1,2,3]:\n",
    "    for y in [3,1,4]:\n",
    "        if x != y:\n",
    "            combs.append((x, y))\n",
    "print (combs)"
   ]
  },
  {
   "cell_type": "markdown",
   "id": "cbe78205",
   "metadata": {},
   "source": [
    "LISTA DE COMPRESSION III"
   ]
  },
  {
   "cell_type": "code",
   "execution_count": 88,
   "id": "5c27131a",
   "metadata": {},
   "outputs": [
    {
     "data": {
      "text/plain": [
       "[-8, -4, 0, 4, 8]"
      ]
     },
     "execution_count": 88,
     "metadata": {},
     "output_type": "execute_result"
    }
   ],
   "source": [
    "#Multiplica por dos los elementos de la lista\n",
    "vec = [-4, -2, 0, 2, 4]\n",
    "[x*2 for x in vec]"
   ]
  },
  {
   "cell_type": "code",
   "execution_count": 89,
   "id": "39449234",
   "metadata": {},
   "outputs": [
    {
     "data": {
      "text/plain": [
       "[0, 2, 4]"
      ]
     },
     "execution_count": 89,
     "metadata": {},
     "output_type": "execute_result"
    }
   ],
   "source": [
    "#Excluye los elementos negativos\n",
    "vec = [-4, -2, 0, 2, 4]\n",
    "[x for x in vec if x >= 0] #mayores que 0"
   ]
  },
  {
   "cell_type": "code",
   "execution_count": 90,
   "id": "88a118eb",
   "metadata": {},
   "outputs": [
    {
     "data": {
      "text/plain": [
       "[4, 2, 0, 2, 4]"
      ]
     },
     "execution_count": 90,
     "metadata": {},
     "output_type": "execute_result"
    }
   ],
   "source": [
    "#Aplica una función\n",
    "vec = [-4, -2, 0, 2, 4]\n",
    "[abs(x) for x in vec] #valor absoluto\n"
   ]
  },
  {
   "cell_type": "markdown",
   "id": "37a90db7",
   "metadata": {},
   "source": [
    "UNIR LOS ELEMENTOS DE LA LISTAS CON JOIN\n",
    "Podemos unir los elementos de una lista para obtener una cadena usando join:"
   ]
  },
  {
   "cell_type": "code",
   "execution_count": 92,
   "id": "ece3478d",
   "metadata": {},
   "outputs": [
    {
     "data": {
      "text/plain": [
       "'server=mpilgrim; uid=sa; database=master; pwd=secret'"
      ]
     },
     "execution_count": 92,
     "metadata": {},
     "output_type": "execute_result"
    }
   ],
   "source": [
    "params = {\"server\":\"mpilgrim\", \"database\":\"master\", \"uid\":\"sa\", \"pwd\":\"secret\"}\n",
    "[\"%s=%s\" % (k, v) for k, v in params.items()]\n",
    "['server=mpilgrim', 'uid=sa', 'database=master', 'pwd=secret']\n",
    "\";\".join([\"%s=%s\" % (k, v) for k, v in params.items()])\n",
    "'server=mpilgrim; uid=sa; database=master; pwd=secret'\n"
   ]
  },
  {
   "cell_type": "markdown",
   "id": "48eb9cff",
   "metadata": {},
   "source": [
    "# TUPLAS\n",
    "Son listas inmutables, unas vez creadas sus valores no se pueden modificar:\n",
    "¿Por qué usarlas?\n",
    "- Son más rápidas que las listas\n",
    "- Código protegido contra escrituras no deseadas\n",
    "- Podemos usar las tuplas (de cadenas, números,...) como tipo válido para claves de los diccionarios\n",
    "- Suelen almacenar valores de distintos tipos\n",
    "\n",
    "Las operaciones que se pueden realizar sobre una tupla son:\n",
    "- Creación y definición\n",
    "- Accediendo a sus posiciones\n",
    "- Conversiones\n"
   ]
  },
  {
   "cell_type": "markdown",
   "id": "0691d36b",
   "metadata": {},
   "source": [
    "Creación y definición\n",
    "Se definen encerrando sus valores entre () y separados , :\n"
   ]
  },
  {
   "cell_type": "code",
   "execution_count": 94,
   "id": "884dc133",
   "metadata": {},
   "outputs": [
    {
     "name": "stdout",
     "output_type": "stream",
     "text": [
      "<class 'tuple'>\n",
      "<class 'list'>\n"
     ]
    }
   ],
   "source": [
    "tupla = (\"mesa\", \"silla\", \"carpeta\")\n",
    "lista = [\"perro\", \"gato\", \"cerdo\"]\n",
    "print(type(tupla))\n",
    "print(type(lista))"
   ]
  },
  {
   "cell_type": "code",
   "execution_count": 95,
   "id": "2c8b5523",
   "metadata": {},
   "outputs": [
    {
     "name": "stdout",
     "output_type": "stream",
     "text": [
      "mesa\n",
      "perro\n"
     ]
    }
   ],
   "source": [
    "print(tupla[0])\n",
    "print(lista[0])"
   ]
  },
  {
   "cell_type": "code",
   "execution_count": 97,
   "id": "2f5cda9c",
   "metadata": {},
   "outputs": [
    {
     "name": "stdout",
     "output_type": "stream",
     "text": [
      "('mesa', 'silla', 'carpeta')\n"
     ]
    }
   ],
   "source": [
    "print(tupla)"
   ]
  },
  {
   "cell_type": "code",
   "execution_count": 98,
   "id": "1372ced3",
   "metadata": {},
   "outputs": [
    {
     "name": "stdout",
     "output_type": "stream",
     "text": [
      "mesa\n",
      "silla\n",
      "carpeta\n"
     ]
    }
   ],
   "source": [
    "(x,y,z) = tupla  #asignamos el valor x=mesa, y=silla, carpeta=z\n",
    "print(x)\n",
    "print(y)\n",
    "print(z)"
   ]
  },
  {
   "cell_type": "code",
   "execution_count": 103,
   "id": "4f2b6a36",
   "metadata": {},
   "outputs": [
    {
     "name": "stdout",
     "output_type": "stream",
     "text": [
      "(('mesa', 'silla', 'carpeta'), ('hoy', 'ayer', 'mañana'))\n"
     ]
    }
   ],
   "source": [
    "#UNIR TUPLAS\n",
    "otra_tupla = (\"hoy\", \"ayer\", \"mañana\")\n",
    "u = tupla,otra_tupla\n",
    "print(u)"
   ]
  },
  {
   "cell_type": "code",
   "execution_count": null,
   "id": "69ecabd6",
   "metadata": {},
   "outputs": [],
   "source": [
    "#NO PERMITE MODIFICAR\n",
    "tupla[0] = \"despues\""
   ]
  },
  {
   "cell_type": "code",
   "execution_count": 106,
   "id": "d8bc8046",
   "metadata": {},
   "outputs": [
    {
     "data": {
      "text/plain": [
       "int"
      ]
     },
     "execution_count": 106,
     "metadata": {},
     "output_type": "execute_result"
    }
   ],
   "source": [
    "tupla_unica=(4)\n",
    "type(tupla_unica)"
   ]
  },
  {
   "cell_type": "code",
   "execution_count": 111,
   "id": "e8b0a863",
   "metadata": {},
   "outputs": [
    {
     "data": {
      "text/plain": [
       "tuple"
      ]
     },
     "execution_count": 111,
     "metadata": {},
     "output_type": "execute_result"
    }
   ],
   "source": [
    "tupla_unica = 4, #agregamos valor y , para que sea TUPLA\n",
    "type(tupla_unica)\n",
    "\n",
    "#el acceso a posiciones es igual al acceso a listas"
   ]
  },
  {
   "cell_type": "markdown",
   "id": "57e6fa2b",
   "metadata": {},
   "source": [
    "# CONJUNTOS { valores }\n",
    "\n",
    "NOTA: para tener orden en listas usamos TUPLA () o LISTAS []\n",
    "Los conjuntos (set) son \"bolsas\" desordenadas de elementos únicos de cualquier tipo de dato inmutable."
   ]
  },
  {
   "cell_type": "markdown",
   "id": "e1a1ebad",
   "metadata": {},
   "source": [
    "CREACION Y DEFINICION"
   ]
  },
  {
   "cell_type": "code",
   "execution_count": 113,
   "id": "dd7d219a",
   "metadata": {},
   "outputs": [
    {
     "data": {
      "text/plain": [
       "set"
      ]
     },
     "execution_count": 113,
     "metadata": {},
     "output_type": "execute_result"
    }
   ],
   "source": [
    "conjunto = {'uno', 'dos', 'tres'}\n",
    "type(conjunto)\n",
    "#SET hace referencia que es un conjunto"
   ]
  },
  {
   "cell_type": "code",
   "execution_count": 114,
   "id": "0e6e4be2",
   "metadata": {},
   "outputs": [
    {
     "data": {
      "text/plain": [
       "set"
      ]
     },
     "execution_count": 114,
     "metadata": {},
     "output_type": "execute_result"
    }
   ],
   "source": [
    "#conjunto vacio\n",
    "conjunto2 = set()\n",
    "type(conjunto2)"
   ]
  },
  {
   "cell_type": "code",
   "execution_count": 118,
   "id": "0b8b1db0",
   "metadata": {},
   "outputs": [
    {
     "name": "stdout",
     "output_type": "stream",
     "text": [
      "<class 'set'> {'uno', 'dos', 'tres'}\n"
     ]
    }
   ],
   "source": [
    "#creando conjunto desde una lista\n",
    "conjunto2 = set(['uno', 'dos', 'tres'])\n",
    "type(conjunto2)\n",
    "print(type(conjunto2), conjunto2)"
   ]
  },
  {
   "cell_type": "markdown",
   "id": "fff07a84",
   "metadata": {},
   "source": [
    "AÑADIR ELEMENTOS A CONJUNTOS\n",
    "Podemos usar el método .add() para añadir nuevos elementos a un conjunto:"
   ]
  },
  {
   "cell_type": "code",
   "execution_count": 119,
   "id": "b6f55846",
   "metadata": {},
   "outputs": [
    {
     "name": "stdout",
     "output_type": "stream",
     "text": [
      "{'uno', 'dos', 'tres', 'cuatro'}\n"
     ]
    }
   ],
   "source": [
    "conjunto2.add('cuatro') #AGREGAMOS VALORES AL CONJUNTO - ADD\n",
    "print(conjunto2)"
   ]
  },
  {
   "cell_type": "code",
   "execution_count": 120,
   "id": "128a924e",
   "metadata": {},
   "outputs": [
    {
     "name": "stdout",
     "output_type": "stream",
     "text": [
      "{'diez', 'treinta', 'cuatro', 'veinte', 'uno', 'dos', 'tres'}\n"
     ]
    }
   ],
   "source": [
    "conjunto2.update(['diez', 'veinte', 'treinta']) #AGREGAMOS VALORES AL CONJUNTO -  UPDATE\n",
    "print(conjunto2)"
   ]
  },
  {
   "cell_type": "markdown",
   "id": "4ab3f813",
   "metadata": {},
   "source": [
    "ELIMINAR ELEMENTOS  "
   ]
  },
  {
   "cell_type": "code",
   "execution_count": 121,
   "id": "09fc123e",
   "metadata": {},
   "outputs": [
    {
     "name": "stdout",
     "output_type": "stream",
     "text": [
      "{1, 3, 36, 6, 10, 45, 15, 21, 28}\n"
     ]
    }
   ],
   "source": [
    "#DISCARD\n",
    "a_set = {1,3,6,10,15,21,28,36,45}\n",
    "print(a_set)"
   ]
  },
  {
   "cell_type": "code",
   "execution_count": 122,
   "id": "6db0595e",
   "metadata": {},
   "outputs": [
    {
     "name": "stdout",
     "output_type": "stream",
     "text": [
      "{1, 3, 36, 6, 45, 15, 21, 28}\n"
     ]
    }
   ],
   "source": [
    "a_set.discard(10)\n",
    "print(a_set)"
   ]
  },
  {
   "cell_type": "code",
   "execution_count": 128,
   "id": "f760f31f",
   "metadata": {},
   "outputs": [
    {
     "name": "stdout",
     "output_type": "stream",
     "text": [
      "{1, 3, 36, 6, 10, 45, 15, 21, 28}\n",
      "1\n",
      "{3, 36, 6, 10, 45, 15, 21, 28}\n"
     ]
    }
   ],
   "source": [
    "#POP\n",
    "#Para eliminar todos los elementos del conjunto usamos  .clear():\n",
    "a_set = {1,3,6,10,15,21,28,36,45}\n",
    "print(a_set)\n",
    "elemento=a_set.pop()\n",
    "print(elemento)\n",
    "print(a_set)"
   ]
  },
  {
   "cell_type": "code",
   "execution_count": 129,
   "id": "6f22a7ec",
   "metadata": {},
   "outputs": [],
   "source": [
    "aleatorio = set(range(0,200))"
   ]
  },
  {
   "cell_type": "code",
   "execution_count": 130,
   "id": "d82e30c5",
   "metadata": {},
   "outputs": [
    {
     "name": "stdout",
     "output_type": "stream",
     "text": [
      "{0, 1, 2, 3, 4, 5, 6, 7, 8, 9, 10, 11, 12, 13, 14, 15, 16, 17, 18, 19, 20, 21, 22, 23, 24, 25, 26, 27, 28, 29, 30, 31, 32, 33, 34, 35, 36, 37, 38, 39, 40, 41, 42, 43, 44, 45, 46, 47, 48, 49, 50, 51, 52, 53, 54, 55, 56, 57, 58, 59, 60, 61, 62, 63, 64, 65, 66, 67, 68, 69, 70, 71, 72, 73, 74, 75, 76, 77, 78, 79, 80, 81, 82, 83, 84, 85, 86, 87, 88, 89, 90, 91, 92, 93, 94, 95, 96, 97, 98, 99, 100, 101, 102, 103, 104, 105, 106, 107, 108, 109, 110, 111, 112, 113, 114, 115, 116, 117, 118, 119, 120, 121, 122, 123, 124, 125, 126, 127, 128, 129, 130, 131, 132, 133, 134, 135, 136, 137, 138, 139, 140, 141, 142, 143, 144, 145, 146, 147, 148, 149, 150, 151, 152, 153, 154, 155, 156, 157, 158, 159, 160, 161, 162, 163, 164, 165, 166, 167, 168, 169, 170, 171, 172, 173, 174, 175, 176, 177, 178, 179, 180, 181, 182, 183, 184, 185, 186, 187, 188, 189, 190, 191, 192, 193, 194, 195, 196, 197, 198, 199}\n"
     ]
    }
   ],
   "source": [
    "print(aleatorio)"
   ]
  },
  {
   "cell_type": "code",
   "execution_count": 131,
   "id": "7d61d18d",
   "metadata": {},
   "outputs": [
    {
     "data": {
      "text/plain": [
       "0"
      ]
     },
     "execution_count": 131,
     "metadata": {},
     "output_type": "execute_result"
    }
   ],
   "source": [
    "aleatorio.pop()"
   ]
  },
  {
   "cell_type": "code",
   "execution_count": 132,
   "id": "a314586d",
   "metadata": {},
   "outputs": [
    {
     "data": {
      "text/plain": [
       "1"
      ]
     },
     "execution_count": 132,
     "metadata": {},
     "output_type": "execute_result"
    }
   ],
   "source": [
    "aleatorio.pop()"
   ]
  },
  {
   "cell_type": "code",
   "execution_count": 133,
   "id": "b548d6bf",
   "metadata": {},
   "outputs": [
    {
     "data": {
      "text/plain": [
       "{2,\n",
       " 3,\n",
       " 4,\n",
       " 5,\n",
       " 6,\n",
       " 7,\n",
       " 8,\n",
       " 9,\n",
       " 10,\n",
       " 11,\n",
       " 12,\n",
       " 13,\n",
       " 14,\n",
       " 15,\n",
       " 16,\n",
       " 17,\n",
       " 18,\n",
       " 19,\n",
       " 20,\n",
       " 21,\n",
       " 22,\n",
       " 23,\n",
       " 24,\n",
       " 25,\n",
       " 26,\n",
       " 27,\n",
       " 28,\n",
       " 29,\n",
       " 30,\n",
       " 31,\n",
       " 32,\n",
       " 33,\n",
       " 34,\n",
       " 35,\n",
       " 36,\n",
       " 37,\n",
       " 38,\n",
       " 39,\n",
       " 40,\n",
       " 41,\n",
       " 42,\n",
       " 43,\n",
       " 44,\n",
       " 45,\n",
       " 46,\n",
       " 47,\n",
       " 48,\n",
       " 49,\n",
       " 50,\n",
       " 51,\n",
       " 52,\n",
       " 53,\n",
       " 54,\n",
       " 55,\n",
       " 56,\n",
       " 57,\n",
       " 58,\n",
       " 59,\n",
       " 60,\n",
       " 61,\n",
       " 62,\n",
       " 63,\n",
       " 64,\n",
       " 65,\n",
       " 66,\n",
       " 67,\n",
       " 68,\n",
       " 69,\n",
       " 70,\n",
       " 71,\n",
       " 72,\n",
       " 73,\n",
       " 74,\n",
       " 75,\n",
       " 76,\n",
       " 77,\n",
       " 78,\n",
       " 79,\n",
       " 80,\n",
       " 81,\n",
       " 82,\n",
       " 83,\n",
       " 84,\n",
       " 85,\n",
       " 86,\n",
       " 87,\n",
       " 88,\n",
       " 89,\n",
       " 90,\n",
       " 91,\n",
       " 92,\n",
       " 93,\n",
       " 94,\n",
       " 95,\n",
       " 96,\n",
       " 97,\n",
       " 98,\n",
       " 99,\n",
       " 100,\n",
       " 101,\n",
       " 102,\n",
       " 103,\n",
       " 104,\n",
       " 105,\n",
       " 106,\n",
       " 107,\n",
       " 108,\n",
       " 109,\n",
       " 110,\n",
       " 111,\n",
       " 112,\n",
       " 113,\n",
       " 114,\n",
       " 115,\n",
       " 116,\n",
       " 117,\n",
       " 118,\n",
       " 119,\n",
       " 120,\n",
       " 121,\n",
       " 122,\n",
       " 123,\n",
       " 124,\n",
       " 125,\n",
       " 126,\n",
       " 127,\n",
       " 128,\n",
       " 129,\n",
       " 130,\n",
       " 131,\n",
       " 132,\n",
       " 133,\n",
       " 134,\n",
       " 135,\n",
       " 136,\n",
       " 137,\n",
       " 138,\n",
       " 139,\n",
       " 140,\n",
       " 141,\n",
       " 142,\n",
       " 143,\n",
       " 144,\n",
       " 145,\n",
       " 146,\n",
       " 147,\n",
       " 148,\n",
       " 149,\n",
       " 150,\n",
       " 151,\n",
       " 152,\n",
       " 153,\n",
       " 154,\n",
       " 155,\n",
       " 156,\n",
       " 157,\n",
       " 158,\n",
       " 159,\n",
       " 160,\n",
       " 161,\n",
       " 162,\n",
       " 163,\n",
       " 164,\n",
       " 165,\n",
       " 166,\n",
       " 167,\n",
       " 168,\n",
       " 169,\n",
       " 170,\n",
       " 171,\n",
       " 172,\n",
       " 173,\n",
       " 174,\n",
       " 175,\n",
       " 176,\n",
       " 177,\n",
       " 178,\n",
       " 179,\n",
       " 180,\n",
       " 181,\n",
       " 182,\n",
       " 183,\n",
       " 184,\n",
       " 185,\n",
       " 186,\n",
       " 187,\n",
       " 188,\n",
       " 189,\n",
       " 190,\n",
       " 191,\n",
       " 192,\n",
       " 193,\n",
       " 194,\n",
       " 195,\n",
       " 196,\n",
       " 197,\n",
       " 198,\n",
       " 199}"
      ]
     },
     "execution_count": 133,
     "metadata": {},
     "output_type": "execute_result"
    }
   ],
   "source": [
    "aleatorio"
   ]
  },
  {
   "cell_type": "code",
   "execution_count": 136,
   "id": "8d80d9ea",
   "metadata": {},
   "outputs": [
    {
     "name": "stdout",
     "output_type": "stream",
     "text": [
      "{1, 3, 36, 6, 10, 45, 15, 21, 28}\n"
     ]
    }
   ],
   "source": [
    "#CLEAR\n",
    "a_set = {1,3,6,10,15,21,28,36,45}\n",
    "print(a_set)\n",
    "a_set.clear()\n"
   ]
  },
  {
   "cell_type": "code",
   "execution_count": 137,
   "id": "f88f3cd8",
   "metadata": {},
   "outputs": [
    {
     "name": "stdout",
     "output_type": "stream",
     "text": [
      "set()\n"
     ]
    }
   ],
   "source": [
    "print(a_set)"
   ]
  },
  {
   "cell_type": "markdown",
   "id": "ddeaa302",
   "metadata": {},
   "source": [
    "#BUSCAR ELEMENTOS: con el metodo IN\n",
    "a_set = {1,3,6,10,15,21,28,36,45}\n",
    "print(1  in a_set)\n",
    "print (7 in a_set)\n",
    "if 28 in a_set : \n",
    "\tprint(“28 está en el conjunto”)\n",
    "else:\n",
    "print(“28 NO está en el conjunto”)\n"
   ]
  },
  {
   "cell_type": "markdown",
   "id": "ff5a6659",
   "metadata": {},
   "source": [
    "# DICCIONARIOS\n",
    "se usa cuando no existe un orden los valores y no se modificaran\n",
    "\n",
    "Los diccionarios (dict) son conjuntos de pares de valores indexados por una clave.\n",
    "Las claves pueden ser cualquier tipo inmutable (cadenas, números, tuplas)\n"
   ]
  },
  {
   "cell_type": "code",
   "execution_count": null,
   "id": "860360cd",
   "metadata": {},
   "outputs": [],
   "source": [
    "# las claves no se pueden repetir y no se puede modificar\n",
    "# claves puede ser cuzlquier tipo inmutable,\n",
    "#clave puede ser tupla si, lista no, enetero si, cadena si, conjunto no\n",
    "\n",
    "# los valores si se pueden repetir\n",
    "clientes = [\"mario\", \"pedro\", \"juan\", \"anita\"]\n",
    "consumo = {20, 30, 40, 50}\n",
    "consumo_clientes = {\"mario\" : 20, \"pedro\": 20,  \"juan\" : 40, \"anita\":50}"
   ]
  },
  {
   "cell_type": "markdown",
   "id": "68117bb5",
   "metadata": {},
   "source": [
    "Las operaciones que se pueden realizar sobre un diccionario son:Definición y creación\n",
    "Consulta y modificación, Borrado y Otras métodos\n",
    "\n",
    "Definición y creación: Se definen encerrados entre {}: {clave1:valor1, clave2:valor2, ... , claven:valorn}\n",
    "\n",
    "Cada par de valores se separa mediante , e incluye una clave única y el valor a almacenar separados por: \n",
    "d = {\"server\":\"mpilgrim\", \"database\":\"master\"}\n",
    "print(d)\n",
    "tel = {'jack': 4098, 'sape': 4139}\n",
    "print(tel)"
   ]
  },
  {
   "cell_type": "code",
   "execution_count": null,
   "id": "93c3566e",
   "metadata": {},
   "outputs": [],
   "source": []
  }
 ],
 "metadata": {
  "hide_input": false,
  "kernelspec": {
   "display_name": "Python 3",
   "language": "python",
   "name": "python3"
  },
  "language_info": {
   "codemirror_mode": {
    "name": "ipython",
    "version": 3
   },
   "file_extension": ".py",
   "mimetype": "text/x-python",
   "name": "python",
   "nbconvert_exporter": "python",
   "pygments_lexer": "ipython3",
   "version": "3.8.8"
  },
  "nbTranslate": {
   "displayLangs": [
    "*"
   ],
   "hotkey": "alt-t",
   "langInMainMenu": true,
   "sourceLang": "en",
   "targetLang": "fr",
   "useGoogleTranslate": true
  },
  "toc": {
   "base_numbering": 1,
   "nav_menu": {},
   "number_sections": true,
   "sideBar": true,
   "skip_h1_title": false,
   "title_cell": "Table of Contents",
   "title_sidebar": "Contents",
   "toc_cell": false,
   "toc_position": {},
   "toc_section_display": true,
   "toc_window_display": false
  },
  "varInspector": {
   "cols": {
    "lenName": 16,
    "lenType": 16,
    "lenVar": 40
   },
   "kernels_config": {
    "python": {
     "delete_cmd_postfix": "",
     "delete_cmd_prefix": "del ",
     "library": "var_list.py",
     "varRefreshCmd": "print(var_dic_list())"
    },
    "r": {
     "delete_cmd_postfix": ") ",
     "delete_cmd_prefix": "rm(",
     "library": "var_list.r",
     "varRefreshCmd": "cat(var_dic_list()) "
    }
   },
   "types_to_exclude": [
    "module",
    "function",
    "builtin_function_or_method",
    "instance",
    "_Feature"
   ],
   "window_display": false
  }
 },
 "nbformat": 4,
 "nbformat_minor": 5
}
