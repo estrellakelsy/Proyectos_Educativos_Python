{
 "cells": [
  {
   "cell_type": "markdown",
   "id": "c9ab03d1",
   "metadata": {},
   "source": [
    "# Ejercicios Numpy"
   ]
  },
  {
   "cell_type": "markdown",
   "id": "4898d1e1",
   "metadata": {},
   "source": [
    "**Ejercicio 1** Cree un array cuyos elementos sean los enteros pares en [1,100] y en orden decreciente."
   ]
  },
  {
   "cell_type": "code",
   "execution_count": 14,
   "id": "ab2f7a20",
   "metadata": {
    "ExecuteTime": {
     "end_time": "2022-04-04T13:17:23.945191Z",
     "start_time": "2022-04-04T13:17:12.109520Z"
    }
   },
   "outputs": [],
   "source": [
    "import numpy as np\n",
    "from numpy import genfromtxt\n",
    "import pandas as pd\n",
    "import matplotlib.pyplot as plt\n",
    "from math import sqrt\n",
    "import pickle\n",
    "import plotly.express as px"
   ]
  },
  {
   "cell_type": "code",
   "execution_count": 15,
   "id": "9267c299",
   "metadata": {
    "ExecuteTime": {
     "end_time": "2022-04-04T13:17:34.562207Z",
     "start_time": "2022-04-04T13:17:34.540266Z"
    }
   },
   "outputs": [
    {
     "name": "stdout",
     "output_type": "stream",
     "text": [
      "[ 2  4  6  8 10 12 14 16 18 20 22 24 26 28 30 32 34 36 38 40 42 44 46 48\n",
      " 50 52 54 56 58 60 62 64 66 68 70 72 74 76 78 80 82 84 86 88 90 92 94 96\n",
      " 98]\n"
     ]
    }
   ],
   "source": [
    "x = [i for i in range(1,100) if i%2==0]\n",
    "X = np.array(x)\n",
    "print(X) "
   ]
  },
  {
   "cell_type": "code",
   "execution_count": 16,
   "id": "f5334897",
   "metadata": {
    "ExecuteTime": {
     "end_time": "2022-04-04T13:17:38.596478Z",
     "start_time": "2022-04-04T13:17:38.585472Z"
    }
   },
   "outputs": [
    {
     "name": "stdout",
     "output_type": "stream",
     "text": [
      "[100  98  96  94  92  90  88  86  84  82  80  78  76  74  72  70  68  66\n",
      "  64  62  60  58  56  54  52  50  48  46  44  42  40  38  36  34  32  30\n",
      "  28  26  24  22  20  18  16  14  12  10   8   6   4   2]\n"
     ]
    }
   ],
   "source": [
    "Y = np.arange(100,1,-2)\n",
    "print(Y) "
   ]
  },
  {
   "cell_type": "markdown",
   "id": "69d0e370",
   "metadata": {},
   "source": [
    "**Ejercicio 2** Cree un array con 10 elementos en [-2,2] y equidistantes entre ellos."
   ]
  },
  {
   "cell_type": "code",
   "execution_count": 17,
   "id": "b5198c2c",
   "metadata": {
    "ExecuteTime": {
     "end_time": "2022-04-04T13:17:42.175224Z",
     "start_time": "2022-04-04T13:17:42.167246Z"
    }
   },
   "outputs": [
    {
     "name": "stdout",
     "output_type": "stream",
     "text": [
      "[-2.         -1.55555556 -1.11111111 -0.66666667 -0.22222222  0.22222222\n",
      "  0.66666667  1.11111111  1.55555556  2.        ]\n"
     ]
    }
   ],
   "source": [
    "y = np.linspace(-2,2,10)\n",
    "print(y) "
   ]
  },
  {
   "cell_type": "code",
   "execution_count": 18,
   "id": "4e92dffa",
   "metadata": {
    "ExecuteTime": {
     "end_time": "2022-04-04T13:17:45.897108Z",
     "start_time": "2022-04-04T13:17:43.292139Z"
    },
    "scrolled": true
   },
   "outputs": [
    {
     "data": {
      "image/png": "[encoded data removed]",
      "text/plain": [
       "<Figure size 432x288 with 1 Axes>"
      ]
     },
     "metadata": {
      "needs_background": "light"
     },
     "output_type": "display_data"
    }
   ],
   "source": [
    "plt.bar(np.arange(len(y)),y) \n",
    "plt.plot(y, color=\"red\")\n",
    "plt.show()"
   ]
  },
  {
   "cell_type": "markdown",
   "id": "25628e0a",
   "metadata": {},
   "source": [
    "**Ejercicio 3** Dado un array de enteros entre 0 y 10, determine aquellos que son impares y múltiplos\n",
    "de 3."
   ]
  },
  {
   "cell_type": "code",
   "execution_count": 19,
   "id": "bcc2dcc6",
   "metadata": {
    "ExecuteTime": {
     "end_time": "2022-04-04T13:17:50.450521Z",
     "start_time": "2022-04-04T13:17:50.440552Z"
    }
   },
   "outputs": [
    {
     "name": "stdout",
     "output_type": "stream",
     "text": [
      "Los enteros impares entre 0 y 10 son:  [1 3 5 7 9]\n",
      "Los enteros multiplos de 3 entre 0 y 10 son:  [0 3 6 9]\n"
     ]
    }
   ],
   "source": [
    "impares = [i for i in range(0,10) if i%2!=0]\n",
    "X = np.array(impares)\n",
    "multiplos = [i for i in range(0,10) if i%3==0]\n",
    "Y = np.array(multiplos)\n",
    "print(\"Los enteros impares entre 0 y 10 son: \", X)\n",
    "print(\"Los enteros multiplos de 3 entre 0 y 10 son: \", Y)"
   ]
  },
  {
   "cell_type": "markdown",
   "id": "7aff475d",
   "metadata": {},
   "source": [
    "**Ejercicio 4** Descargue el fichero dataNumpy.pick. Cárgalo en un diccionario usando la correspondiente función del módulo cPickle. Muestre el tamaño del cada array junto a si clave. "
   ]
  },
  {
   "cell_type": "code",
   "execution_count": 20,
   "id": "261dffd2",
   "metadata": {
    "ExecuteTime": {
     "end_time": "2022-04-04T13:17:55.986414Z",
     "start_time": "2022-04-04T13:17:55.979431Z"
    }
   },
   "outputs": [],
   "source": [
    "diccionario = {}\n",
    "data = open('dataNumpy.pick','wb')\n",
    "pickle.dump(diccionario,data)\n",
    "data.close()\n",
    "diccionario = {}\n",
    "data = open('dataNumpy.pick','wb')\n",
    "pickle.dump(diccionario,data)\n",
    "data.close()"
   ]
  },
  {
   "cell_type": "code",
   "execution_count": null,
   "id": "0707d7d7",
   "metadata": {},
   "outputs": [],
   "source": []
  },
  {
   "cell_type": "markdown",
   "id": "d6523381",
   "metadata": {},
   "source": [
    "**Ejercicio 7** Ordene el array dado por los elementos (0, 1, 15, 8, 9, 17) de menor a mayor."
   ]
  },
  {
   "cell_type": "code",
   "execution_count": 21,
   "id": "0e841c19",
   "metadata": {
    "ExecuteTime": {
     "end_time": "2022-04-04T13:17:59.772379Z",
     "start_time": "2022-04-04T13:17:59.752433Z"
    }
   },
   "outputs": [
    {
     "data": {
      "text/plain": [
       "[0, 1, 8, 9, 15, 17]"
      ]
     },
     "execution_count": 21,
     "metadata": {},
     "output_type": "execute_result"
    }
   ],
   "source": [
    "lista = [0,1,15,8,9,17]\n",
    "lista.sort()\n",
    "lista"
   ]
  },
  {
   "cell_type": "code",
   "execution_count": null,
   "id": "7d729e52",
   "metadata": {},
   "outputs": [],
   "source": []
  },
  {
   "cell_type": "markdown",
   "id": "f0d08dd8",
   "metadata": {},
   "source": [
    "**Ejercicio 8** Dado el array x = (1, 2, 3, 45, 21, -3, 8), devuelva un array del mismo tamaño sustituyendo los valores fuera del rango [2, 8], por -99."
   ]
  },
  {
   "cell_type": "code",
   "execution_count": 22,
   "id": "5c6eac99",
   "metadata": {
    "ExecuteTime": {
     "end_time": "2022-04-04T13:18:03.448665Z",
     "start_time": "2022-04-04T13:18:03.426683Z"
    }
   },
   "outputs": [
    {
     "data": {
      "text/plain": [
       "[1, -99, 3, 45, 21, -3, -99]"
      ]
     },
     "execution_count": 22,
     "metadata": {},
     "output_type": "execute_result"
    }
   ],
   "source": [
    "x = [1,2,3,45,21,-3,8]\n",
    "for index, value in enumerate(x):\n",
    "    if value == 2:\n",
    "        x[index] = -99\n",
    "    else:\n",
    "        if value == 8:\n",
    "            x[index] = -99\n",
    "x"
   ]
  },
  {
   "cell_type": "markdown",
   "id": "3efa0d5f",
   "metadata": {},
   "source": [
    "**Ejercicio 9** Simule el lanzamiento de un dado de 6 caras 100 veces. Devuelva el número de veces\n",
    "que sale cada cara. (¿Está cargado?)"
   ]
  },
  {
   "cell_type": "code",
   "execution_count": 23,
   "id": "5e9226f2",
   "metadata": {
    "ExecuteTime": {
     "end_time": "2022-04-02T17:18:12.711619Z",
     "start_time": "2022-04-02T17:18:12.490642Z"
    }
   },
   "outputs": [
    {
     "data": {
      "image/png": "[encoded data removed]",
      "text/plain": [
       "<Figure size 432x288 with 1 Axes>"
      ]
     },
     "metadata": {
      "needs_background": "light"
     },
     "output_type": "display_data"
    },
    {
     "name": "stdout",
     "output_type": "stream",
     "text": [
      "[18 21 12 20 14 15] [1.         1.83333333 2.66666667 3.5        4.33333333 5.16666667\n",
      " 6.        ]\n"
     ]
    }
   ],
   "source": [
    "vector = np.random.randint(1,7,100)\n",
    "plt.hist(vector, bins=6)\n",
    "plt.show() \n",
    "hist, valores=np.histogram(vector, 6)\n",
    "print(hist,valores) "
   ]
  },
  {
   "cell_type": "code",
   "execution_count": 36,
   "id": "521a6de6",
   "metadata": {},
   "outputs": [
    {
     "name": "stdout",
     "output_type": "stream",
     "text": [
      "[1 5 3 3 2 1 5 4 1 5 5 5 1 3 3 1 5 2 1 4 1 1 2 2 3 5 2 2 2 4 5 1 3 5 1 3 5\n",
      " 2 5 1 5 2 3 4 5 2 1 3 4 2 1 5 1 5 5 4 1 3 4 3 5 1 1 5 4 2 2 5 2 2 3 3 4 3\n",
      " 3 4 4 5 1 4 1 2 4 2 1 4 2 4 4 3 5 3 1 2 1 5 1 2 1 2 5 5 2 3 1 3 5 3 2 3 1\n",
      " 4 4 3 4 4 4 1 2 4 3 5 3 2 4 3 5 3 5 1 2 4 4 4 3 4 3 3 4 5 1 5 4 1 1 4 3 5\n",
      " 2 5 4 5 5 2 5 2 3 2 2 3 3 3 1 1 4 4 4 5 1 1 1 5 4 5 3 2 4 4 1 4 5 3 2 2 4\n",
      " 5 1 2 1 1 3 1 1 5 1 4 5 1 3 2 4 1 1 5 1 4 3 4 2 3 5 2 4 1 1 3 3 5 5 1 5 2\n",
      " 3 4 2 3 3 4 5 5 5 4 3 4 5 5 5 4 1 5 3 5 2 5 2 4 3 1 1 2 3 4 5 2 2 2 3 2 2\n",
      " 5 3 1 5 2 2 3 5 3 5 3 3 5 3 5 3 3 5 1 4 1 2 5 5 1 2 4 1 2 4 1 1 4 5 3 4 3\n",
      " 3 4 4 1 4 2 1 4 1 3 3 1 2 5 3 1 3 2 4 5 1 1 5 5 1 3 4 4 5 5 2 3 5 4 4 3 2\n",
      " 2 4 2 3 5 5 1 4 5 3 2 4 2 3 1 4 2 1 5 5 3 4 4 2 2 4 1 4 3 1 2 2 1 1 3 3 1\n",
      " 3 2 5 4 3 3 4 4 4 3 4 4 5 3 1 3 4 2 1 2 5 1 2 1 5 1 1 3 5 1 5 4 2 1 2 1 1\n",
      " 2 4 5 1 4 4 1 3 2 4 5 3 3 3 5 1 5 2 5 2 3 4 5 2 5 1 3 5 5 1 4 1 4 1 2 3 4\n",
      " 4 5 5 3 5 5 2 5 4 2 3 5 5 4 4 1 2 2 4 3 1 4 1 3 5 4 5 3 1 2 5 3 2 4 5 5 5\n",
      " 4 5 5 4 5 1 2 5 4 5 3 5 5 4 5 2 2 4 3 2 1 3 3 5 4 4 3 5 2 1 1 5 2 1 4 2 3\n",
      " 4 4 1 4 3 4 5 1 5 2 5 1 2 2 5 4 3 2 2 2 3 1 3 3 1 5 3 2 1 3 3 2 4 2 5 4 5\n",
      " 2 3 4 1 2 3 5 5 5 3 5 2 4 5 1 4 4 2 5 1 4 2 3 5 1 4 1 2 4 4 1 3 4 4 5 4 4\n",
      " 3 2 2 4 3 3 4 2 2 1 1 2 1 4 5 5 4 1 5 2 3 2 1 5 4 1 4 1 3 3 5 1 5 5 4 5 1\n",
      " 5 1 4 4 3 4 3 5 3 2 3 5 5 1 5 2 5 5 4 1 2 4 3 1 4 5 4 5 1 5 5 2 5 2 5 5 4\n",
      " 2 3 4 4 4 2 3 5 4 1 2 1 5 5 5 3 3 1 5 5 5 2 1 2 2 3 4 5 4 2 5 1 2 4 5 1 2\n",
      " 3 5 5 4 1 5 2 1 3 2 2 3 4 3 4 2 2 5 2 2 5 3 2 5 3 2 4 3 5 4 2 2 1 2 1 4 5\n",
      " 4 2 2 3 4 4 1 5 4 5 3 5 2 2 3 5 2 4 2 2 3 5 1 1 5 5 1 5 3 5 3 5 2 3 4 1 3\n",
      " 2 3 1 1 3 3 5 3 1 4 5 1 4 3 1 4 3 4 4 5 2 3 4 4 5 3 4 3 1 5 1 3 2 4 3 4 4\n",
      " 4 3 2 5 3 4 3 2 3 5 1 5 1 2 4 2 2 2 4 1 5 2 2 3 1 5 1 5 2 2 1 3 1 5 2 4 3\n",
      " 1 5 3 5 5 2 5 1 3 4 5 2 5 3 4 4 3 2 1 4 5 3 3 5 1 2 3 2 2 3 2 5 1 3 2 5 4\n",
      " 1 2 3 5 1 3 2 3 5 1 3 1 4 2 3 2 2 2 4 1 1 5 5 1 5 1 3 4 1 3 2 5 4 2 3 5 5\n",
      " 3 2 4 5 5 1 5 4 3 3 2 2 5 2 2 2 1 2 3 1 2 3 5 1 5 5 5 1 5 5 1 2 2 3 5 4 3\n",
      " 4 5 1 1 4 1 2 4 3 5 1 1 1 2 4 3 4 5 3 4 2 3 1 2 2 3 2 3 3 3 5 2 3 4 3 3 1\n",
      " 4]\n"
     ]
    },
    {
     "data": {
      "image/png": "[encoded data removed]",
      "text/plain": [
       "<Figure size 432x288 with 1 Axes>"
      ]
     },
     "metadata": {
      "needs_background": "light"
     },
     "output_type": "display_data"
    }
   ],
   "source": [
    "vector = np.random.randint(1,6,1000)\n",
    "print(vector)\n",
    "plt.hist(vector, bins=6)\n",
    "plt.show()"
   ]
  },
  {
   "cell_type": "markdown",
   "id": "6fb61704",
   "metadata": {},
   "source": [
    "**Ejercicio 10** Seleccione de los datos almacenados en dataNumpy.pick, aquellos que tienen valores de la clave 'Z' en [0, 3]. Para esos elementos, muestre el mínimo, máximo, valor medio y desviación estándar en la clave 'U'."
   ]
  },
  {
   "cell_type": "markdown",
   "id": "e6bb62d8",
   "metadata": {},
   "source": [
    "**Ejercicio 11** Descargue los datos del fichero ajuste.txt. Lea ese fichero y determine el polinomio de grado 2 (a∗x2+b∗x+c) que mejor se ajuste a esos datos. NOTA: la primera columna corresponde a abscisas (x) y la segunda a ordenadas (y)"
   ]
  },
  {
   "cell_type": "code",
   "execution_count": 24,
   "id": "c736be22",
   "metadata": {
    "ExecuteTime": {
     "end_time": "2022-04-02T17:22:33.841902Z",
     "start_time": "2022-04-02T17:22:33.824947Z"
    }
   },
   "outputs": [
    {
     "ename": "SyntaxError",
     "evalue": "EOL while scanning string literal (<ipython-input-24-77f67adedd59>, line 1)",
     "output_type": "error",
     "traceback": [
      "\u001b[1;36m  File \u001b[1;32m\"<ipython-input-24-77f67adedd59>\"\u001b[1;36m, line \u001b[1;32m1\u001b[0m\n\u001b[1;33m    a = open(\"ajuste.txt, \"r\")\u001b[0m\n\u001b[1;37m                              ^\u001b[0m\n\u001b[1;31mSyntaxError\u001b[0m\u001b[1;31m:\u001b[0m EOL while scanning string literal\n"
     ]
    }
   ],
   "source": [
    "a = open(\"ajuste.txt, \"r\")\n",
    "a = float(input(\"Ingrese el valor de a: \")) # a = cociente del termino cuadrático\n",
    "b = float(input(\"Ingrese el valor de b: \")) # b = cociente de termino lineal\n",
    "c = float(input(\"Ingrese el valor de c: \")) # c = cociente de termino independiente\n",
    "x = (b**2)-(4*a*c)\n"
   ]
  },
  {
   "cell_type": "markdown",
   "id": "1b988358",
   "metadata": {},
   "source": [
    "**Ejercicio 12** Resolver el siguiente sistema de ecuaciones: 4x − 5y + 8z = 4; 2x − 8y + 7z = 0; −5x + 8y = −5\n"
   ]
  },
  {
   "cell_type": "code",
   "execution_count": 25,
   "id": "0f504aae",
   "metadata": {
    "ExecuteTime": {
     "end_time": "2022-04-04T13:18:51.089608Z",
     "start_time": "2022-04-04T13:18:51.080632Z"
    }
   },
   "outputs": [
    {
     "name": "stdout",
     "output_type": "stream",
     "text": [
      "El resultado de X es: [[ 1.53112033]\n",
      " [ 0.33195021]\n",
      " [-0.05809129]]\n"
     ]
    }
   ],
   "source": [
    "A = np.matrix([[4,-5,8],[2,-8,7],[-5,8,0]])\n",
    "B = np.matrix([[4],[0],[-5]])\n",
    "X = A**(-1)*B\n",
    "print(\"El resultado de X es:\",X)"
   ]
  },
  {
   "cell_type": "markdown",
   "id": "f76874c9",
   "metadata": {},
   "source": [
    "## **Fichero NucleosPoblacion.csv**"
   ]
  },
  {
   "cell_type": "markdown",
   "id": "559af284",
   "metadata": {},
   "source": [
    "**Ejercicio 13** Descargue el fichero NucleosPoblacion.csv. Léalo usando la rutina \"numpy.genfromtxt\"¸como se ha explicado en las transparencias."
   ]
  },
  {
   "cell_type": "code",
   "execution_count": 26,
   "id": "c4dfaa36",
   "metadata": {
    "ExecuteTime": {
     "end_time": "2022-04-04T13:18:54.872741Z",
     "start_time": "2022-04-04T13:18:54.845816Z"
    }
   },
   "outputs": [
    {
     "name": "stdout",
     "output_type": "stream",
     "text": [
      "[[ 0.00000000e+00  1.00000000e+00             nan ...             nan\n",
      "  -1.54460123e+01  2.79005419e+01]\n",
      " [ 1.00000000e+00  2.00000000e+00             nan ...             nan\n",
      "  -1.40133008e+01  2.84189662e+01]\n",
      " [ 2.00000000e+00  3.00000000e+00             nan ...             nan\n",
      "  -1.35514512e+01  2.89606494e+01]\n",
      " ...\n",
      " [ 8.49000000e+02  8.50000000e+02             nan ...             nan\n",
      "  -1.13056385e+00  3.79957146e+01]\n",
      " [ 8.50000000e+02  8.51000000e+02             nan ...             nan\n",
      "  -3.94836366e+00  3.98666990e+01]\n",
      " [ 8.51000000e+02  8.52000000e+02             nan ...             nan\n",
      "   1.29113540e-02  3.99735678e+01]]\n"
     ]
    }
   ],
   "source": [
    "from numpy import genfromtxt\n",
    "data = genfromtxt('NucleosPoblacion.csv', delimiter=',', skip_header = 1, encoding=\"utf8\")\n",
    "print(data)"
   ]
  },
  {
   "cell_type": "code",
   "execution_count": 27,
   "id": "05e6edc9",
   "metadata": {
    "ExecuteTime": {
     "end_time": "2022-04-04T13:18:58.353576Z",
     "start_time": "2022-04-04T13:18:58.334628Z"
    }
   },
   "outputs": [],
   "source": [
    "import pandas as pd\n",
    "df = pd.read_csv(\"NucleosPoblacion.csv\")"
   ]
  },
  {
   "cell_type": "code",
   "execution_count": 28,
   "id": "986311bc",
   "metadata": {
    "ExecuteTime": {
     "end_time": "2022-04-04T13:18:59.239173Z",
     "start_time": "2022-04-04T13:18:59.203269Z"
    }
   },
   "outputs": [
    {
     "data": {
      "text/html": [
       "<div>\n",
       "<style scoped>\n",
       "    .dataframe tbody tr th:only-of-type {\n",
       "        vertical-align: middle;\n",
       "    }\n",
       "\n",
       "    .dataframe tbody tr th {\n",
       "        vertical-align: top;\n",
       "    }\n",
       "\n",
       "    .dataframe thead th {\n",
       "        text-align: right;\n",
       "    }\n",
       "</style>\n",
       "<table border=\"1\" class=\"dataframe\">\n",
       "  <thead>\n",
       "    <tr style=\"text-align: right;\">\n",
       "      <th></th>\n",
       "      <th>FID</th>\n",
       "      <th>OBJECTID</th>\n",
       "      <th>Texto</th>\n",
       "      <th>Poblacion</th>\n",
       "      <th>CodMun</th>\n",
       "      <th>Municipio</th>\n",
       "      <th>CodProvin</th>\n",
       "      <th>Provincia</th>\n",
       "      <th>X</th>\n",
       "      <th>Y</th>\n",
       "    </tr>\n",
       "  </thead>\n",
       "  <tbody>\n",
       "    <tr>\n",
       "      <th>0</th>\n",
       "      <td>0</td>\n",
       "      <td>1</td>\n",
       "      <td>Agüimes</td>\n",
       "      <td>29431.0</td>\n",
       "      <td>35002</td>\n",
       "      <td>Agüimes</td>\n",
       "      <td>35</td>\n",
       "      <td>Las Palmas</td>\n",
       "      <td>-15.446012</td>\n",
       "      <td>27.900542</td>\n",
       "    </tr>\n",
       "    <tr>\n",
       "      <th>1</th>\n",
       "      <td>1</td>\n",
       "      <td>2</td>\n",
       "      <td>Antigua</td>\n",
       "      <td>10458.0</td>\n",
       "      <td>35003</td>\n",
       "      <td>Antigua</td>\n",
       "      <td>35</td>\n",
       "      <td>Las Palmas</td>\n",
       "      <td>-14.013301</td>\n",
       "      <td>28.418966</td>\n",
       "    </tr>\n",
       "    <tr>\n",
       "      <th>2</th>\n",
       "      <td>2</td>\n",
       "      <td>3</td>\n",
       "      <td>Arrecife</td>\n",
       "      <td>58156.0</td>\n",
       "      <td>35004</td>\n",
       "      <td>Arrecife</td>\n",
       "      <td>35</td>\n",
       "      <td>Las Palmas</td>\n",
       "      <td>-13.551451</td>\n",
       "      <td>28.960649</td>\n",
       "    </tr>\n",
       "    <tr>\n",
       "      <th>3</th>\n",
       "      <td>3</td>\n",
       "      <td>4</td>\n",
       "      <td>Arucas</td>\n",
       "      <td>36745.0</td>\n",
       "      <td>35006</td>\n",
       "      <td>Arucas</td>\n",
       "      <td>35</td>\n",
       "      <td>Las Palmas</td>\n",
       "      <td>-15.521512</td>\n",
       "      <td>28.117496</td>\n",
       "    </tr>\n",
       "    <tr>\n",
       "      <th>4</th>\n",
       "      <td>4</td>\n",
       "      <td>5</td>\n",
       "      <td>Gáldar</td>\n",
       "      <td>24473.0</td>\n",
       "      <td>35009</td>\n",
       "      <td>Gáldar</td>\n",
       "      <td>35</td>\n",
       "      <td>Las Palmas</td>\n",
       "      <td>-15.654111</td>\n",
       "      <td>28.143873</td>\n",
       "    </tr>\n",
       "    <tr>\n",
       "      <th>...</th>\n",
       "      <td>...</td>\n",
       "      <td>...</td>\n",
       "      <td>...</td>\n",
       "      <td>...</td>\n",
       "      <td>...</td>\n",
       "      <td>...</td>\n",
       "      <td>...</td>\n",
       "      <td>...</td>\n",
       "      <td>...</td>\n",
       "      <td>...</td>\n",
       "    </tr>\n",
       "    <tr>\n",
       "      <th>847</th>\n",
       "      <td>847</td>\n",
       "      <td>848</td>\n",
       "      <td>Infante Juan Manuel</td>\n",
       "      <td>14192.0</td>\n",
       "      <td>30030</td>\n",
       "      <td>Murcia</td>\n",
       "      <td>30</td>\n",
       "      <td>Murcia</td>\n",
       "      <td>-1.124304</td>\n",
       "      <td>37.979033</td>\n",
       "    </tr>\n",
       "    <tr>\n",
       "      <th>848</th>\n",
       "      <td>848</td>\n",
       "      <td>849</td>\n",
       "      <td>Santa Maria de Gracia</td>\n",
       "      <td>13349.0</td>\n",
       "      <td>30030</td>\n",
       "      <td>Murcia</td>\n",
       "      <td>30</td>\n",
       "      <td>Murcia</td>\n",
       "      <td>-1.202069</td>\n",
       "      <td>37.984024</td>\n",
       "    </tr>\n",
       "    <tr>\n",
       "      <th>849</th>\n",
       "      <td>849</td>\n",
       "      <td>850</td>\n",
       "      <td>Vista Alegre</td>\n",
       "      <td>15208.0</td>\n",
       "      <td>30030</td>\n",
       "      <td>Murcia</td>\n",
       "      <td>30</td>\n",
       "      <td>Murcia</td>\n",
       "      <td>-1.130564</td>\n",
       "      <td>37.995715</td>\n",
       "    </tr>\n",
       "    <tr>\n",
       "      <th>850</th>\n",
       "      <td>850</td>\n",
       "      <td>851</td>\n",
       "      <td>Poligono Sta M de Benquerencia</td>\n",
       "      <td>19177.0</td>\n",
       "      <td>45168</td>\n",
       "      <td>Toledo</td>\n",
       "      <td>45</td>\n",
       "      <td>Toledo</td>\n",
       "      <td>-3.948364</td>\n",
       "      <td>39.866699</td>\n",
       "    </tr>\n",
       "    <tr>\n",
       "      <th>851</th>\n",
       "      <td>851</td>\n",
       "      <td>852</td>\n",
       "      <td>Grao</td>\n",
       "      <td>16367.0</td>\n",
       "      <td>12040</td>\n",
       "      <td>Castellón de la Plana/Castelló de la Plana</td>\n",
       "      <td>12</td>\n",
       "      <td>Castelló/Castellón</td>\n",
       "      <td>0.012911</td>\n",
       "      <td>39.973568</td>\n",
       "    </tr>\n",
       "  </tbody>\n",
       "</table>\n",
       "<p>852 rows × 10 columns</p>\n",
       "</div>"
      ],
      "text/plain": [
       "     FID  OBJECTID                           Texto  Poblacion  CodMun  \\\n",
       "0      0         1                         Agüimes    29431.0   35002   \n",
       "1      1         2                         Antigua    10458.0   35003   \n",
       "2      2         3                        Arrecife    58156.0   35004   \n",
       "3      3         4                          Arucas    36745.0   35006   \n",
       "4      4         5                          Gáldar    24473.0   35009   \n",
       "..   ...       ...                             ...        ...     ...   \n",
       "847  847       848             Infante Juan Manuel    14192.0   30030   \n",
       "848  848       849           Santa Maria de Gracia    13349.0   30030   \n",
       "849  849       850                    Vista Alegre    15208.0   30030   \n",
       "850  850       851  Poligono Sta M de Benquerencia    19177.0   45168   \n",
       "851  851       852                            Grao    16367.0   12040   \n",
       "\n",
       "                                      Municipio  CodProvin  \\\n",
       "0                                       Agüimes         35   \n",
       "1                                       Antigua         35   \n",
       "2                                      Arrecife         35   \n",
       "3                                        Arucas         35   \n",
       "4                                        Gáldar         35   \n",
       "..                                          ...        ...   \n",
       "847                                      Murcia         30   \n",
       "848                                      Murcia         30   \n",
       "849                                      Murcia         30   \n",
       "850                                      Toledo         45   \n",
       "851  Castellón de la Plana/Castelló de la Plana         12   \n",
       "\n",
       "              Provincia          X          Y  \n",
       "0            Las Palmas -15.446012  27.900542  \n",
       "1            Las Palmas -14.013301  28.418966  \n",
       "2            Las Palmas -13.551451  28.960649  \n",
       "3            Las Palmas -15.521512  28.117496  \n",
       "4            Las Palmas -15.654111  28.143873  \n",
       "..                  ...        ...        ...  \n",
       "847              Murcia  -1.124304  37.979033  \n",
       "848              Murcia  -1.202069  37.984024  \n",
       "849              Murcia  -1.130564  37.995715  \n",
       "850              Toledo  -3.948364  39.866699  \n",
       "851  Castelló/Castellón   0.012911  39.973568  \n",
       "\n",
       "[852 rows x 10 columns]"
      ]
     },
     "execution_count": 28,
     "metadata": {},
     "output_type": "execute_result"
    }
   ],
   "source": [
    "df"
   ]
  },
  {
   "cell_type": "code",
   "execution_count": 29,
   "id": "b6b648ca",
   "metadata": {
    "ExecuteTime": {
     "end_time": "2022-04-04T13:19:03.087606Z",
     "start_time": "2022-04-04T13:19:03.060640Z"
    }
   },
   "outputs": [
    {
     "name": "stdout",
     "output_type": "stream",
     "text": [
      "<class 'pandas.core.frame.DataFrame'>\n",
      "RangeIndex: 852 entries, 0 to 851\n",
      "Data columns (total 10 columns):\n",
      " #   Column     Non-Null Count  Dtype  \n",
      "---  ------     --------------  -----  \n",
      " 0   FID        852 non-null    int64  \n",
      " 1   OBJECTID   852 non-null    int64  \n",
      " 2   Texto      852 non-null    object \n",
      " 3   Poblacion  852 non-null    float64\n",
      " 4   CodMun     852 non-null    int64  \n",
      " 5   Municipio  852 non-null    object \n",
      " 6   CodProvin  852 non-null    int64  \n",
      " 7   Provincia  852 non-null    object \n",
      " 8   X          852 non-null    float64\n",
      " 9   Y          852 non-null    float64\n",
      "dtypes: float64(3), int64(4), object(3)\n",
      "memory usage: 66.7+ KB\n"
     ]
    }
   ],
   "source": [
    "df.info()"
   ]
  },
  {
   "cell_type": "code",
   "execution_count": 30,
   "id": "7e7b8f25",
   "metadata": {
    "ExecuteTime": {
     "end_time": "2022-04-04T13:19:05.271264Z",
     "start_time": "2022-04-04T13:19:05.249285Z"
    }
   },
   "outputs": [
    {
     "data": {
      "text/plain": [
       "0      29431\n",
       "1      10458\n",
       "2      58156\n",
       "3      36745\n",
       "4      24473\n",
       "       ...  \n",
       "847    14192\n",
       "848    13349\n",
       "849    15208\n",
       "850    19177\n",
       "851    16367\n",
       "Name: Poblacion, Length: 852, dtype: int32"
      ]
     },
     "execution_count": 30,
     "metadata": {},
     "output_type": "execute_result"
    }
   ],
   "source": [
    "df[\"Poblacion\"].astype(int)"
   ]
  },
  {
   "cell_type": "markdown",
   "id": "c407c478",
   "metadata": {},
   "source": [
    "**Ejercicio 14** ¿Cuántos Municipios tienen más de 100000 habitantes?. ¿Cuál es la segunda ciudad más poblada?. ¿Qué posición ocupa Granada en el ranking de las más pobladas?."
   ]
  },
  {
   "cell_type": "code",
   "execution_count": 31,
   "id": "dc53aeff",
   "metadata": {
    "ExecuteTime": {
     "end_time": "2022-04-04T13:19:10.258544Z",
     "start_time": "2022-04-04T13:19:09.618595Z"
    }
   },
   "outputs": [
    {
     "data": {
      "text/plain": [
       "62"
      ]
     },
     "execution_count": 31,
     "metadata": {},
     "output_type": "execute_result"
    }
   ],
   "source": [
    "d=df[df[\"Poblacion\"]>100000] #Filtro de ciudades con más de 100000\n",
    "len(d)"
   ]
  },
  {
   "cell_type": "code",
   "execution_count": 32,
   "id": "452be220",
   "metadata": {
    "ExecuteTime": {
     "end_time": "2022-04-04T13:19:11.490223Z",
     "start_time": "2022-04-04T13:19:11.451327Z"
    }
   },
   "outputs": [
    {
     "data": {
      "text/html": [
       "<div>\n",
       "<style scoped>\n",
       "    .dataframe tbody tr th:only-of-type {\n",
       "        vertical-align: middle;\n",
       "    }\n",
       "\n",
       "    .dataframe tbody tr th {\n",
       "        vertical-align: top;\n",
       "    }\n",
       "\n",
       "    .dataframe thead th {\n",
       "        text-align: right;\n",
       "    }\n",
       "</style>\n",
       "<table border=\"1\" class=\"dataframe\">\n",
       "  <thead>\n",
       "    <tr style=\"text-align: right;\">\n",
       "      <th></th>\n",
       "      <th>FID</th>\n",
       "      <th>OBJECTID</th>\n",
       "      <th>Texto</th>\n",
       "      <th>Poblacion</th>\n",
       "      <th>CodMun</th>\n",
       "      <th>Municipio</th>\n",
       "      <th>CodProvin</th>\n",
       "      <th>Provincia</th>\n",
       "      <th>X</th>\n",
       "      <th>Y</th>\n",
       "    </tr>\n",
       "  </thead>\n",
       "  <tbody>\n",
       "    <tr>\n",
       "      <th>16</th>\n",
       "      <td>16</td>\n",
       "      <td>17</td>\n",
       "      <td>Telde</td>\n",
       "      <td>100900.0</td>\n",
       "      <td>35026</td>\n",
       "      <td>Telde</td>\n",
       "      <td>35</td>\n",
       "      <td>Las Palmas</td>\n",
       "      <td>-15.416666</td>\n",
       "      <td>27.994202</td>\n",
       "    </tr>\n",
       "    <tr>\n",
       "      <th>194</th>\n",
       "      <td>194</td>\n",
       "      <td>195</td>\n",
       "      <td>Torrevieja</td>\n",
       "      <td>101091.0</td>\n",
       "      <td>3133</td>\n",
       "      <td>Torrevieja</td>\n",
       "      <td>3</td>\n",
       "      <td>Alacant/Alicante</td>\n",
       "      <td>-0.683026</td>\n",
       "      <td>37.977759</td>\n",
       "    </tr>\n",
       "    <tr>\n",
       "      <th>735</th>\n",
       "      <td>735</td>\n",
       "      <td>736</td>\n",
       "      <td>Reus</td>\n",
       "      <td>106622.0</td>\n",
       "      <td>43123</td>\n",
       "      <td>Reus</td>\n",
       "      <td>43</td>\n",
       "      <td>Tarragona</td>\n",
       "      <td>1.109861</td>\n",
       "      <td>41.154107</td>\n",
       "    </tr>\n",
       "    <tr>\n",
       "      <th>108</th>\n",
       "      <td>108</td>\n",
       "      <td>109</td>\n",
       "      <td>Ourense</td>\n",
       "      <td>108673.0</td>\n",
       "      <td>32054</td>\n",
       "      <td>Ourense</td>\n",
       "      <td>32</td>\n",
       "      <td>Ourense</td>\n",
       "      <td>-7.863684</td>\n",
       "      <td>42.336549</td>\n",
       "    </tr>\n",
       "    <tr>\n",
       "      <th>336</th>\n",
       "      <td>336</td>\n",
       "      <td>337</td>\n",
       "      <td>Alcobendas</td>\n",
       "      <td>110080.0</td>\n",
       "      <td>28006</td>\n",
       "      <td>Alcobendas</td>\n",
       "      <td>28</td>\n",
       "      <td>Madrid</td>\n",
       "      <td>-3.632402</td>\n",
       "      <td>40.541042</td>\n",
       "    </tr>\n",
       "    <tr>\n",
       "      <th>...</th>\n",
       "      <td>...</td>\n",
       "      <td>...</td>\n",
       "      <td>...</td>\n",
       "      <td>...</td>\n",
       "      <td>...</td>\n",
       "      <td>...</td>\n",
       "      <td>...</td>\n",
       "      <td>...</td>\n",
       "      <td>...</td>\n",
       "      <td>...</td>\n",
       "    </tr>\n",
       "    <tr>\n",
       "      <th>591</th>\n",
       "      <td>591</td>\n",
       "      <td>592</td>\n",
       "      <td>Zaragoza</td>\n",
       "      <td>675121.0</td>\n",
       "      <td>50297</td>\n",
       "      <td>Zaragoza</td>\n",
       "      <td>50</td>\n",
       "      <td>Zaragoza</td>\n",
       "      <td>-0.879287</td>\n",
       "      <td>41.656457</td>\n",
       "    </tr>\n",
       "    <tr>\n",
       "      <th>492</th>\n",
       "      <td>492</td>\n",
       "      <td>493</td>\n",
       "      <td>Sevilla</td>\n",
       "      <td>704198.0</td>\n",
       "      <td>41091</td>\n",
       "      <td>Sevilla</td>\n",
       "      <td>41</td>\n",
       "      <td>Sevilla</td>\n",
       "      <td>-5.992514</td>\n",
       "      <td>37.386205</td>\n",
       "    </tr>\n",
       "    <tr>\n",
       "      <th>561</th>\n",
       "      <td>561</td>\n",
       "      <td>562</td>\n",
       "      <td>Valencia</td>\n",
       "      <td>809267.0</td>\n",
       "      <td>46250</td>\n",
       "      <td>Valencia</td>\n",
       "      <td>46</td>\n",
       "      <td>València/Valencia</td>\n",
       "      <td>-0.375657</td>\n",
       "      <td>39.475344</td>\n",
       "    </tr>\n",
       "    <tr>\n",
       "      <th>623</th>\n",
       "      <td>623</td>\n",
       "      <td>624</td>\n",
       "      <td>Barcelona</td>\n",
       "      <td>1619337.0</td>\n",
       "      <td>8019</td>\n",
       "      <td>Barcelona</td>\n",
       "      <td>8</td>\n",
       "      <td>Barcelona</td>\n",
       "      <td>2.176349</td>\n",
       "      <td>41.384247</td>\n",
       "    </tr>\n",
       "    <tr>\n",
       "      <th>355</th>\n",
       "      <td>355</td>\n",
       "      <td>356</td>\n",
       "      <td>Madrid</td>\n",
       "      <td>3273049.0</td>\n",
       "      <td>28079</td>\n",
       "      <td>Madrid</td>\n",
       "      <td>28</td>\n",
       "      <td>Madrid</td>\n",
       "      <td>-3.703797</td>\n",
       "      <td>40.416630</td>\n",
       "    </tr>\n",
       "  </tbody>\n",
       "</table>\n",
       "<p>62 rows × 10 columns</p>\n",
       "</div>"
      ],
      "text/plain": [
       "     FID  OBJECTID       Texto  Poblacion  CodMun   Municipio  CodProvin  \\\n",
       "16    16        17       Telde   100900.0   35026       Telde         35   \n",
       "194  194       195  Torrevieja   101091.0    3133  Torrevieja          3   \n",
       "735  735       736        Reus   106622.0   43123        Reus         43   \n",
       "108  108       109     Ourense   108673.0   32054     Ourense         32   \n",
       "336  336       337  Alcobendas   110080.0   28006  Alcobendas         28   \n",
       "..   ...       ...         ...        ...     ...         ...        ...   \n",
       "591  591       592    Zaragoza   675121.0   50297    Zaragoza         50   \n",
       "492  492       493     Sevilla   704198.0   41091     Sevilla         41   \n",
       "561  561       562    Valencia   809267.0   46250    Valencia         46   \n",
       "623  623       624   Barcelona  1619337.0    8019   Barcelona          8   \n",
       "355  355       356      Madrid  3273049.0   28079      Madrid         28   \n",
       "\n",
       "             Provincia          X          Y  \n",
       "16          Las Palmas -15.416666  27.994202  \n",
       "194   Alacant/Alicante  -0.683026  37.977759  \n",
       "735          Tarragona   1.109861  41.154107  \n",
       "108            Ourense  -7.863684  42.336549  \n",
       "336             Madrid  -3.632402  40.541042  \n",
       "..                 ...        ...        ...  \n",
       "591           Zaragoza  -0.879287  41.656457  \n",
       "492            Sevilla  -5.992514  37.386205  \n",
       "561  València/Valencia  -0.375657  39.475344  \n",
       "623          Barcelona   2.176349  41.384247  \n",
       "355             Madrid  -3.703797  40.416630  \n",
       "\n",
       "[62 rows x 10 columns]"
      ]
     },
     "execution_count": 32,
     "metadata": {},
     "output_type": "execute_result"
    }
   ],
   "source": [
    "d.sort_values(\"Poblacion\", ascending = True)"
   ]
  },
  {
   "cell_type": "code",
   "execution_count": 37,
   "id": "149e471d",
   "metadata": {
    "ExecuteTime": {
     "end_time": "2022-04-04T13:19:20.324252Z",
     "start_time": "2022-04-04T13:19:20.306302Z"
    }
   },
   "outputs": [
    {
     "data": {
      "text/plain": [
       "'Barcelona'"
      ]
     },
     "execution_count": 37,
     "metadata": {},
     "output_type": "execute_result"
    }
   ],
   "source": [
    "lista = list(d.sort_values(\"Poblacion\",ascending = False)[\"Municipio\"])\n",
    "lista[1]"
   ]
  },
  {
   "cell_type": "code",
   "execution_count": 38,
   "id": "494f5b53",
   "metadata": {},
   "outputs": [
    {
     "data": {
      "text/plain": [
       "18"
      ]
     },
     "execution_count": 38,
     "metadata": {},
     "output_type": "execute_result"
    }
   ],
   "source": [
    "lista.index(\"Granada\") + 1 #Le sumamos 1 porque la lista empieza en 0"
   ]
  },
  {
   "cell_type": "code",
   "execution_count": 28,
   "id": "109e3f3d",
   "metadata": {
    "ExecuteTime": {
     "end_time": "2022-04-04T13:19:22.323250Z",
     "start_time": "2022-04-04T13:19:22.302305Z"
    }
   },
   "outputs": [
    {
     "data": {
      "text/plain": [
       "(-3.703797076, 40.4166300011)"
      ]
     },
     "execution_count": 28,
     "metadata": {},
     "output_type": "execute_result"
    }
   ],
   "source": [
    "f = df[df[\"Municipio\"] ==\"Madrid\"]\n",
    "madrid_X = float(f[\"X\"])\n",
    "madrid_Y = float(f[\"Y\"])\n",
    "madrid_X, madrid_Y "
   ]
  },
  {
   "cell_type": "code",
   "execution_count": 29,
   "id": "50e1cb91",
   "metadata": {
    "ExecuteTime": {
     "end_time": "2022-04-04T13:19:25.456790Z",
     "start_time": "2022-04-04T13:19:25.401973Z"
    }
   },
   "outputs": [
    {
     "data": {
      "text/html": [
       "<div>\n",
       "<style scoped>\n",
       "    .dataframe tbody tr th:only-of-type {\n",
       "        vertical-align: middle;\n",
       "    }\n",
       "\n",
       "    .dataframe tbody tr th {\n",
       "        vertical-align: top;\n",
       "    }\n",
       "\n",
       "    .dataframe thead th {\n",
       "        text-align: right;\n",
       "    }\n",
       "</style>\n",
       "<table border=\"1\" class=\"dataframe\">\n",
       "  <thead>\n",
       "    <tr style=\"text-align: right;\">\n",
       "      <th></th>\n",
       "      <th>FID</th>\n",
       "      <th>OBJECTID</th>\n",
       "      <th>Texto</th>\n",
       "      <th>Poblacion</th>\n",
       "      <th>CodMun</th>\n",
       "      <th>Municipio</th>\n",
       "      <th>CodProvin</th>\n",
       "      <th>Provincia</th>\n",
       "      <th>X</th>\n",
       "      <th>Y</th>\n",
       "      <th>DistanciaMadrid</th>\n",
       "    </tr>\n",
       "  </thead>\n",
       "  <tbody>\n",
       "    <tr>\n",
       "      <th>0</th>\n",
       "      <td>0</td>\n",
       "      <td>1</td>\n",
       "      <td>Agüimes</td>\n",
       "      <td>29431.0</td>\n",
       "      <td>35002</td>\n",
       "      <td>Agüimes</td>\n",
       "      <td>35</td>\n",
       "      <td>Las Palmas</td>\n",
       "      <td>-15.446012</td>\n",
       "      <td>27.900542</td>\n",
       "      <td>17.161937</td>\n",
       "    </tr>\n",
       "    <tr>\n",
       "      <th>1</th>\n",
       "      <td>1</td>\n",
       "      <td>2</td>\n",
       "      <td>Antigua</td>\n",
       "      <td>10458.0</td>\n",
       "      <td>35003</td>\n",
       "      <td>Antigua</td>\n",
       "      <td>35</td>\n",
       "      <td>Las Palmas</td>\n",
       "      <td>-14.013301</td>\n",
       "      <td>28.418966</td>\n",
       "      <td>15.818654</td>\n",
       "    </tr>\n",
       "    <tr>\n",
       "      <th>2</th>\n",
       "      <td>2</td>\n",
       "      <td>3</td>\n",
       "      <td>Arrecife</td>\n",
       "      <td>58156.0</td>\n",
       "      <td>35004</td>\n",
       "      <td>Arrecife</td>\n",
       "      <td>35</td>\n",
       "      <td>Las Palmas</td>\n",
       "      <td>-13.551451</td>\n",
       "      <td>28.960649</td>\n",
       "      <td>15.106812</td>\n",
       "    </tr>\n",
       "    <tr>\n",
       "      <th>3</th>\n",
       "      <td>3</td>\n",
       "      <td>4</td>\n",
       "      <td>Arucas</td>\n",
       "      <td>36745.0</td>\n",
       "      <td>35006</td>\n",
       "      <td>Arucas</td>\n",
       "      <td>35</td>\n",
       "      <td>Las Palmas</td>\n",
       "      <td>-15.521512</td>\n",
       "      <td>28.117496</td>\n",
       "      <td>17.056584</td>\n",
       "    </tr>\n",
       "    <tr>\n",
       "      <th>4</th>\n",
       "      <td>4</td>\n",
       "      <td>5</td>\n",
       "      <td>Gáldar</td>\n",
       "      <td>24473.0</td>\n",
       "      <td>35009</td>\n",
       "      <td>Gáldar</td>\n",
       "      <td>35</td>\n",
       "      <td>Las Palmas</td>\n",
       "      <td>-15.654111</td>\n",
       "      <td>28.143873</td>\n",
       "      <td>17.129815</td>\n",
       "    </tr>\n",
       "    <tr>\n",
       "      <th>...</th>\n",
       "      <td>...</td>\n",
       "      <td>...</td>\n",
       "      <td>...</td>\n",
       "      <td>...</td>\n",
       "      <td>...</td>\n",
       "      <td>...</td>\n",
       "      <td>...</td>\n",
       "      <td>...</td>\n",
       "      <td>...</td>\n",
       "      <td>...</td>\n",
       "      <td>...</td>\n",
       "    </tr>\n",
       "    <tr>\n",
       "      <th>847</th>\n",
       "      <td>847</td>\n",
       "      <td>848</td>\n",
       "      <td>Infante Juan Manuel</td>\n",
       "      <td>14192.0</td>\n",
       "      <td>30030</td>\n",
       "      <td>Murcia</td>\n",
       "      <td>30</td>\n",
       "      <td>Murcia</td>\n",
       "      <td>-1.124304</td>\n",
       "      <td>37.979033</td>\n",
       "      <td>3.549037</td>\n",
       "    </tr>\n",
       "    <tr>\n",
       "      <th>848</th>\n",
       "      <td>848</td>\n",
       "      <td>849</td>\n",
       "      <td>Santa Maria de Gracia</td>\n",
       "      <td>13349.0</td>\n",
       "      <td>30030</td>\n",
       "      <td>Murcia</td>\n",
       "      <td>30</td>\n",
       "      <td>Murcia</td>\n",
       "      <td>-1.202069</td>\n",
       "      <td>37.984024</td>\n",
       "      <td>3.489444</td>\n",
       "    </tr>\n",
       "    <tr>\n",
       "      <th>849</th>\n",
       "      <td>849</td>\n",
       "      <td>850</td>\n",
       "      <td>Vista Alegre</td>\n",
       "      <td>15208.0</td>\n",
       "      <td>30030</td>\n",
       "      <td>Murcia</td>\n",
       "      <td>30</td>\n",
       "      <td>Murcia</td>\n",
       "      <td>-1.130564</td>\n",
       "      <td>37.995715</td>\n",
       "      <td>3.533038</td>\n",
       "    </tr>\n",
       "    <tr>\n",
       "      <th>850</th>\n",
       "      <td>850</td>\n",
       "      <td>851</td>\n",
       "      <td>Poligono Sta M de Benquerencia</td>\n",
       "      <td>19177.0</td>\n",
       "      <td>45168</td>\n",
       "      <td>Toledo</td>\n",
       "      <td>45</td>\n",
       "      <td>Toledo</td>\n",
       "      <td>-3.948364</td>\n",
       "      <td>39.866699</td>\n",
       "      <td>0.601861</td>\n",
       "    </tr>\n",
       "    <tr>\n",
       "      <th>851</th>\n",
       "      <td>851</td>\n",
       "      <td>852</td>\n",
       "      <td>Grao</td>\n",
       "      <td>16367.0</td>\n",
       "      <td>12040</td>\n",
       "      <td>Castellón de la Plana/Castelló de la Plana</td>\n",
       "      <td>12</td>\n",
       "      <td>Castelló/Castellón</td>\n",
       "      <td>0.012911</td>\n",
       "      <td>39.973568</td>\n",
       "      <td>3.743024</td>\n",
       "    </tr>\n",
       "  </tbody>\n",
       "</table>\n",
       "<p>852 rows × 11 columns</p>\n",
       "</div>"
      ],
      "text/plain": [
       "     FID  OBJECTID                           Texto  Poblacion  CodMun  \\\n",
       "0      0         1                         Agüimes    29431.0   35002   \n",
       "1      1         2                         Antigua    10458.0   35003   \n",
       "2      2         3                        Arrecife    58156.0   35004   \n",
       "3      3         4                          Arucas    36745.0   35006   \n",
       "4      4         5                          Gáldar    24473.0   35009   \n",
       "..   ...       ...                             ...        ...     ...   \n",
       "847  847       848             Infante Juan Manuel    14192.0   30030   \n",
       "848  848       849           Santa Maria de Gracia    13349.0   30030   \n",
       "849  849       850                    Vista Alegre    15208.0   30030   \n",
       "850  850       851  Poligono Sta M de Benquerencia    19177.0   45168   \n",
       "851  851       852                            Grao    16367.0   12040   \n",
       "\n",
       "                                      Municipio  CodProvin  \\\n",
       "0                                       Agüimes         35   \n",
       "1                                       Antigua         35   \n",
       "2                                      Arrecife         35   \n",
       "3                                        Arucas         35   \n",
       "4                                        Gáldar         35   \n",
       "..                                          ...        ...   \n",
       "847                                      Murcia         30   \n",
       "848                                      Murcia         30   \n",
       "849                                      Murcia         30   \n",
       "850                                      Toledo         45   \n",
       "851  Castellón de la Plana/Castelló de la Plana         12   \n",
       "\n",
       "              Provincia          X          Y  DistanciaMadrid  \n",
       "0            Las Palmas -15.446012  27.900542        17.161937  \n",
       "1            Las Palmas -14.013301  28.418966        15.818654  \n",
       "2            Las Palmas -13.551451  28.960649        15.106812  \n",
       "3            Las Palmas -15.521512  28.117496        17.056584  \n",
       "4            Las Palmas -15.654111  28.143873        17.129815  \n",
       "..                  ...        ...        ...              ...  \n",
       "847              Murcia  -1.124304  37.979033         3.549037  \n",
       "848              Murcia  -1.202069  37.984024         3.489444  \n",
       "849              Murcia  -1.130564  37.995715         3.533038  \n",
       "850              Toledo  -3.948364  39.866699         0.601861  \n",
       "851  Castelló/Castellón   0.012911  39.973568         3.743024  \n",
       "\n",
       "[852 rows x 11 columns]"
      ]
     },
     "execution_count": 29,
     "metadata": {},
     "output_type": "execute_result"
    }
   ],
   "source": [
    "df[\"DistanciaMadrid\"]=np.sqrt((madrid_X-df[\"X\"])**2+(madrid_Y-df[\"Y\"])**2)\n",
    "df"
   ]
  },
  {
   "cell_type": "markdown",
   "id": "b264f025",
   "metadata": {},
   "source": [
    "**Ejercicio 16** ¿Cuántos municipios de Extremadura tienen más de 5000 habitantes?"
   ]
  },
  {
   "cell_type": "code",
   "execution_count": null,
   "id": "96ad8cb6",
   "metadata": {
    "ExecuteTime": {
     "end_time": "2022-04-04T13:19:27.970632Z",
     "start_time": "2022-04-04T13:19:27.912536Z"
    }
   },
   "outputs": [],
   "source": [
    "lista.index(\"Extremadura\") + 1 "
   ]
  },
  {
   "cell_type": "markdown",
   "id": "844df263",
   "metadata": {},
   "source": [
    "**Ejercicio 17** ¿Cuál es el municipio situado más al Norte? (Usar el valor de la coordenada ”Y” que representa la latitud en grados). Proporcione también la provincia a la que pertenece y su población."
   ]
  },
  {
   "cell_type": "code",
   "execution_count": null,
   "id": "a2fc0aac",
   "metadata": {
    "ExecuteTime": {
     "end_time": "2022-04-04T13:20:00.226232Z",
     "start_time": "2022-04-04T13:20:00.204292Z"
    }
   },
   "outputs": [],
   "source": [
    "Norte = px.scatter_geo(M, lon>\"X\", lat>\"Y\", text=\"Municipio\")"
   ]
  },
  {
   "cell_type": "markdown",
   "id": "4465b129",
   "metadata": {},
   "source": [
    "**Ejercicio 18** ¿Cuál es el municipio de la provincia de Granada situado más al Este?. ¿Cuál es el situado más al Oeste?"
   ]
  },
  {
   "cell_type": "code",
   "execution_count": 32,
   "id": "9f2fab8b",
   "metadata": {
    "ExecuteTime": {
     "end_time": "2022-04-04T13:19:39.879198Z",
     "start_time": "2022-04-04T13:19:39.848244Z"
    }
   },
   "outputs": [
    {
     "data": {
      "text/html": [
       "<div>\n",
       "<style scoped>\n",
       "    .dataframe tbody tr th:only-of-type {\n",
       "        vertical-align: middle;\n",
       "    }\n",
       "\n",
       "    .dataframe tbody tr th {\n",
       "        vertical-align: top;\n",
       "    }\n",
       "\n",
       "    .dataframe thead th {\n",
       "        text-align: right;\n",
       "    }\n",
       "</style>\n",
       "<table border=\"1\" class=\"dataframe\">\n",
       "  <thead>\n",
       "    <tr style=\"text-align: right;\">\n",
       "      <th></th>\n",
       "      <th>Municipio</th>\n",
       "      <th>X</th>\n",
       "      <th>Y</th>\n",
       "    </tr>\n",
       "  </thead>\n",
       "  <tbody>\n",
       "    <tr>\n",
       "      <th>274</th>\n",
       "      <td>Huétor Vega</td>\n",
       "      <td>-3.571741</td>\n",
       "      <td>37.144613</td>\n",
       "    </tr>\n",
       "    <tr>\n",
       "      <th>268</th>\n",
       "      <td>Armilla</td>\n",
       "      <td>-3.626903</td>\n",
       "      <td>37.140314</td>\n",
       "    </tr>\n",
       "    <tr>\n",
       "      <th>277</th>\n",
       "      <td>Maracena</td>\n",
       "      <td>-3.634398</td>\n",
       "      <td>37.207240</td>\n",
       "    </tr>\n",
       "    <tr>\n",
       "      <th>271</th>\n",
       "      <td>Churriana de la Vega</td>\n",
       "      <td>-3.645813</td>\n",
       "      <td>37.148857</td>\n",
       "    </tr>\n",
       "    <tr>\n",
       "      <th>284</th>\n",
       "      <td>La Zubia</td>\n",
       "      <td>-3.585082</td>\n",
       "      <td>37.120877</td>\n",
       "    </tr>\n",
       "    <tr>\n",
       "      <th>279</th>\n",
       "      <td>Ogíjares</td>\n",
       "      <td>-3.609248</td>\n",
       "      <td>37.119259</td>\n",
       "    </tr>\n",
       "    <tr>\n",
       "      <th>280</th>\n",
       "      <td>Peligros</td>\n",
       "      <td>-3.628116</td>\n",
       "      <td>37.231115</td>\n",
       "    </tr>\n",
       "    <tr>\n",
       "      <th>266</th>\n",
       "      <td>Albolote</td>\n",
       "      <td>-3.657480</td>\n",
       "      <td>37.230902</td>\n",
       "    </tr>\n",
       "    <tr>\n",
       "      <th>285</th>\n",
       "      <td>Las Gabias</td>\n",
       "      <td>-3.668347</td>\n",
       "      <td>37.134878</td>\n",
       "    </tr>\n",
       "    <tr>\n",
       "      <th>269</th>\n",
       "      <td>Atarfe</td>\n",
       "      <td>-3.688734</td>\n",
       "      <td>37.222711</td>\n",
       "    </tr>\n",
       "  </tbody>\n",
       "</table>\n",
       "</div>"
      ],
      "text/plain": [
       "                Municipio         X          Y\n",
       "274           Huétor Vega -3.571741  37.144613\n",
       "268               Armilla -3.626903  37.140314\n",
       "277              Maracena -3.634398  37.207240\n",
       "271  Churriana de la Vega -3.645813  37.148857\n",
       "284              La Zubia -3.585082  37.120877\n",
       "279              Ogíjares -3.609248  37.119259\n",
       "280              Peligros -3.628116  37.231115\n",
       "266              Albolote -3.657480  37.230902\n",
       "285            Las Gabias -3.668347  37.134878\n",
       "269                Atarfe -3.688734  37.222711"
      ]
     },
     "execution_count": 32,
     "metadata": {},
     "output_type": "execute_result"
    }
   ],
   "source": [
    "f = df[df[\"Municipio\"] ==\"Granada\"]\n",
    "granada_X = float(f[\"X\"])\n",
    "granada_Y = float(f[\"Y\"])\n",
    "granada_X, granada_Y \n",
    "df[\"DistanciaGranada\"]=np.sqrt((granada_X-df[\"X\"])**2+(granada_Y-df[\"Y\"])**2)\n",
    "a = df[df[\"DistanciaGranada\"]>0].sort_values(\"DistanciaGranada\")[:10][[\"Municipio\",\"X\",\"Y\"]]\n",
    "a"
   ]
  },
  {
   "cell_type": "markdown",
   "id": "1151015a",
   "metadata": {},
   "source": [
    "**Ejercicio 19** Dígame los nombres de los Municipios más cercano y más lejano a Madrid. Para ello debe calcular la distancia en todos ellos y Madrid. Por supuesto, Madrid no cuenta."
   ]
  },
  {
   "cell_type": "code",
   "execution_count": 33,
   "id": "e5fd6d6d",
   "metadata": {
    "ExecuteTime": {
     "end_time": "2022-04-04T13:19:44.446822Z",
     "start_time": "2022-04-04T13:19:44.421891Z"
    }
   },
   "outputs": [
    {
     "data": {
      "text/html": [
       "<div>\n",
       "<style scoped>\n",
       "    .dataframe tbody tr th:only-of-type {\n",
       "        vertical-align: middle;\n",
       "    }\n",
       "\n",
       "    .dataframe tbody tr th {\n",
       "        vertical-align: top;\n",
       "    }\n",
       "\n",
       "    .dataframe thead th {\n",
       "        text-align: right;\n",
       "    }\n",
       "</style>\n",
       "<table border=\"1\" class=\"dataframe\">\n",
       "  <thead>\n",
       "    <tr style=\"text-align: right;\">\n",
       "      <th></th>\n",
       "      <th>Municipio</th>\n",
       "      <th>X</th>\n",
       "      <th>Y</th>\n",
       "    </tr>\n",
       "  </thead>\n",
       "  <tbody>\n",
       "    <tr>\n",
       "      <th>783</th>\n",
       "      <td>Pozuelo de Alarcón</td>\n",
       "      <td>-3.783853</td>\n",
       "      <td>40.428764</td>\n",
       "    </tr>\n",
       "    <tr>\n",
       "      <th>780</th>\n",
       "      <td>Getafe</td>\n",
       "      <td>-3.736771</td>\n",
       "      <td>40.327270</td>\n",
       "    </tr>\n",
       "    <tr>\n",
       "      <th>781</th>\n",
       "      <td>Leganés</td>\n",
       "      <td>-3.780326</td>\n",
       "      <td>40.358067</td>\n",
       "    </tr>\n",
       "    <tr>\n",
       "      <th>354</th>\n",
       "      <td>Leganés</td>\n",
       "      <td>-3.766556</td>\n",
       "      <td>40.331744</td>\n",
       "    </tr>\n",
       "    <tr>\n",
       "      <th>365</th>\n",
       "      <td>Pozuelo de Alarcón</td>\n",
       "      <td>-3.815816</td>\n",
       "      <td>40.435940</td>\n",
       "    </tr>\n",
       "    <tr>\n",
       "      <th>351</th>\n",
       "      <td>Getafe</td>\n",
       "      <td>-3.729352</td>\n",
       "      <td>40.304038</td>\n",
       "    </tr>\n",
       "    <tr>\n",
       "      <th>347</th>\n",
       "      <td>Coslada</td>\n",
       "      <td>-3.565567</td>\n",
       "      <td>40.425937</td>\n",
       "    </tr>\n",
       "    <tr>\n",
       "      <th>337</th>\n",
       "      <td>Alcorcón</td>\n",
       "      <td>-3.828495</td>\n",
       "      <td>40.351570</td>\n",
       "    </tr>\n",
       "    <tr>\n",
       "      <th>336</th>\n",
       "      <td>Alcobendas</td>\n",
       "      <td>-3.632402</td>\n",
       "      <td>40.541042</td>\n",
       "    </tr>\n",
       "    <tr>\n",
       "      <th>372</th>\n",
       "      <td>San Sebastián de los Reyes</td>\n",
       "      <td>-3.626719</td>\n",
       "      <td>40.547055</td>\n",
       "    </tr>\n",
       "  </tbody>\n",
       "</table>\n",
       "</div>"
      ],
      "text/plain": [
       "                      Municipio         X          Y\n",
       "783          Pozuelo de Alarcón -3.783853  40.428764\n",
       "780                      Getafe -3.736771  40.327270\n",
       "781                     Leganés -3.780326  40.358067\n",
       "354                     Leganés -3.766556  40.331744\n",
       "365          Pozuelo de Alarcón -3.815816  40.435940\n",
       "351                      Getafe -3.729352  40.304038\n",
       "347                     Coslada -3.565567  40.425937\n",
       "337                    Alcorcón -3.828495  40.351570\n",
       "336                  Alcobendas -3.632402  40.541042\n",
       "372  San Sebastián de los Reyes -3.626719  40.547055"
      ]
     },
     "execution_count": 33,
     "metadata": {},
     "output_type": "execute_result"
    }
   ],
   "source": [
    "M = df[df[\"DistanciaMadrid\"]>0].sort_values(\"DistanciaMadrid\")[:10][[\"Municipio\",\"X\",\"Y\"]]\n",
    "M"
   ]
  },
  {
   "cell_type": "code",
   "execution_count": null,
   "id": "44dd301d",
   "metadata": {
    "ExecuteTime": {
     "end_time": "2022-04-04T13:20:47.148985Z",
     "start_time": "2022-04-04T13:20:13.600277Z"
    }
   },
   "outputs": [],
   "source": [
    "pintar = px.scatter_geo(M, lon=\"X\", lat=\"Y\", text=\"Municipio\")\n",
    "pintar"
   ]
  },
  {
   "cell_type": "markdown",
   "id": "eb2d14ea",
   "metadata": {},
   "source": [
    "**Ejercicio 20** ¿Cuántos Municipios hay en un radio de 5 grados de la ciudad de Barcelona?"
   ]
  },
  {
   "cell_type": "code",
   "execution_count": 116,
   "id": "66427fa4",
   "metadata": {
    "ExecuteTime": {
     "end_time": "2022-04-02T20:15:58.378106Z",
     "start_time": "2022-04-02T20:15:58.321651Z"
    }
   },
   "outputs": [
    {
     "data": {
      "text/html": [
       "<div>\n",
       "<style scoped>\n",
       "    .dataframe tbody tr th:only-of-type {\n",
       "        vertical-align: middle;\n",
       "    }\n",
       "\n",
       "    .dataframe tbody tr th {\n",
       "        vertical-align: top;\n",
       "    }\n",
       "\n",
       "    .dataframe thead th {\n",
       "        text-align: right;\n",
       "    }\n",
       "</style>\n",
       "<table border=\"1\" class=\"dataframe\">\n",
       "  <thead>\n",
       "    <tr style=\"text-align: right;\">\n",
       "      <th></th>\n",
       "      <th>FID</th>\n",
       "      <th>OBJECTID</th>\n",
       "      <th>Texto</th>\n",
       "      <th>Poblacion</th>\n",
       "      <th>CodMun</th>\n",
       "      <th>Municipio</th>\n",
       "      <th>CodProvin</th>\n",
       "      <th>Provincia</th>\n",
       "      <th>X</th>\n",
       "      <th>Y</th>\n",
       "      <th>DistanciaMadrid</th>\n",
       "      <th>RadioBarcelona</th>\n",
       "    </tr>\n",
       "  </thead>\n",
       "  <tbody>\n",
       "    <tr>\n",
       "      <th>0</th>\n",
       "      <td>0</td>\n",
       "      <td>1</td>\n",
       "      <td>Agüimes</td>\n",
       "      <td>29431.0</td>\n",
       "      <td>35002</td>\n",
       "      <td>Agüimes</td>\n",
       "      <td>35</td>\n",
       "      <td>Las Palmas</td>\n",
       "      <td>-15.446012</td>\n",
       "      <td>27.900542</td>\n",
       "      <td>17.161937</td>\n",
       "      <td>78.54</td>\n",
       "    </tr>\n",
       "    <tr>\n",
       "      <th>1</th>\n",
       "      <td>1</td>\n",
       "      <td>2</td>\n",
       "      <td>Antigua</td>\n",
       "      <td>10458.0</td>\n",
       "      <td>35003</td>\n",
       "      <td>Antigua</td>\n",
       "      <td>35</td>\n",
       "      <td>Las Palmas</td>\n",
       "      <td>-14.013301</td>\n",
       "      <td>28.418966</td>\n",
       "      <td>15.818654</td>\n",
       "      <td>78.54</td>\n",
       "    </tr>\n",
       "    <tr>\n",
       "      <th>2</th>\n",
       "      <td>2</td>\n",
       "      <td>3</td>\n",
       "      <td>Arrecife</td>\n",
       "      <td>58156.0</td>\n",
       "      <td>35004</td>\n",
       "      <td>Arrecife</td>\n",
       "      <td>35</td>\n",
       "      <td>Las Palmas</td>\n",
       "      <td>-13.551451</td>\n",
       "      <td>28.960649</td>\n",
       "      <td>15.106812</td>\n",
       "      <td>78.54</td>\n",
       "    </tr>\n",
       "    <tr>\n",
       "      <th>3</th>\n",
       "      <td>3</td>\n",
       "      <td>4</td>\n",
       "      <td>Arucas</td>\n",
       "      <td>36745.0</td>\n",
       "      <td>35006</td>\n",
       "      <td>Arucas</td>\n",
       "      <td>35</td>\n",
       "      <td>Las Palmas</td>\n",
       "      <td>-15.521512</td>\n",
       "      <td>28.117496</td>\n",
       "      <td>17.056584</td>\n",
       "      <td>78.54</td>\n",
       "    </tr>\n",
       "    <tr>\n",
       "      <th>4</th>\n",
       "      <td>4</td>\n",
       "      <td>5</td>\n",
       "      <td>Gáldar</td>\n",
       "      <td>24473.0</td>\n",
       "      <td>35009</td>\n",
       "      <td>Gáldar</td>\n",
       "      <td>35</td>\n",
       "      <td>Las Palmas</td>\n",
       "      <td>-15.654111</td>\n",
       "      <td>28.143873</td>\n",
       "      <td>17.129815</td>\n",
       "      <td>78.54</td>\n",
       "    </tr>\n",
       "    <tr>\n",
       "      <th>...</th>\n",
       "      <td>...</td>\n",
       "      <td>...</td>\n",
       "      <td>...</td>\n",
       "      <td>...</td>\n",
       "      <td>...</td>\n",
       "      <td>...</td>\n",
       "      <td>...</td>\n",
       "      <td>...</td>\n",
       "      <td>...</td>\n",
       "      <td>...</td>\n",
       "      <td>...</td>\n",
       "      <td>...</td>\n",
       "    </tr>\n",
       "    <tr>\n",
       "      <th>847</th>\n",
       "      <td>847</td>\n",
       "      <td>848</td>\n",
       "      <td>Infante Juan Manuel</td>\n",
       "      <td>14192.0</td>\n",
       "      <td>30030</td>\n",
       "      <td>Murcia</td>\n",
       "      <td>30</td>\n",
       "      <td>Murcia</td>\n",
       "      <td>-1.124304</td>\n",
       "      <td>37.979033</td>\n",
       "      <td>3.549037</td>\n",
       "      <td>78.54</td>\n",
       "    </tr>\n",
       "    <tr>\n",
       "      <th>848</th>\n",
       "      <td>848</td>\n",
       "      <td>849</td>\n",
       "      <td>Santa Maria de Gracia</td>\n",
       "      <td>13349.0</td>\n",
       "      <td>30030</td>\n",
       "      <td>Murcia</td>\n",
       "      <td>30</td>\n",
       "      <td>Murcia</td>\n",
       "      <td>-1.202069</td>\n",
       "      <td>37.984024</td>\n",
       "      <td>3.489444</td>\n",
       "      <td>78.54</td>\n",
       "    </tr>\n",
       "    <tr>\n",
       "      <th>849</th>\n",
       "      <td>849</td>\n",
       "      <td>850</td>\n",
       "      <td>Vista Alegre</td>\n",
       "      <td>15208.0</td>\n",
       "      <td>30030</td>\n",
       "      <td>Murcia</td>\n",
       "      <td>30</td>\n",
       "      <td>Murcia</td>\n",
       "      <td>-1.130564</td>\n",
       "      <td>37.995715</td>\n",
       "      <td>3.533038</td>\n",
       "      <td>78.54</td>\n",
       "    </tr>\n",
       "    <tr>\n",
       "      <th>850</th>\n",
       "      <td>850</td>\n",
       "      <td>851</td>\n",
       "      <td>Poligono Sta M de Benquerencia</td>\n",
       "      <td>19177.0</td>\n",
       "      <td>45168</td>\n",
       "      <td>Toledo</td>\n",
       "      <td>45</td>\n",
       "      <td>Toledo</td>\n",
       "      <td>-3.948364</td>\n",
       "      <td>39.866699</td>\n",
       "      <td>0.601861</td>\n",
       "      <td>78.54</td>\n",
       "    </tr>\n",
       "    <tr>\n",
       "      <th>851</th>\n",
       "      <td>851</td>\n",
       "      <td>852</td>\n",
       "      <td>Grao</td>\n",
       "      <td>16367.0</td>\n",
       "      <td>12040</td>\n",
       "      <td>Castellón de la Plana/Castelló de la Plana</td>\n",
       "      <td>12</td>\n",
       "      <td>Castelló/Castellón</td>\n",
       "      <td>0.012911</td>\n",
       "      <td>39.973568</td>\n",
       "      <td>3.743024</td>\n",
       "      <td>78.54</td>\n",
       "    </tr>\n",
       "  </tbody>\n",
       "</table>\n",
       "<p>852 rows × 12 columns</p>\n",
       "</div>"
      ],
      "text/plain": [
       "     FID  OBJECTID                           Texto  Poblacion  CodMun  \\\n",
       "0      0         1                         Agüimes    29431.0   35002   \n",
       "1      1         2                         Antigua    10458.0   35003   \n",
       "2      2         3                        Arrecife    58156.0   35004   \n",
       "3      3         4                          Arucas    36745.0   35006   \n",
       "4      4         5                          Gáldar    24473.0   35009   \n",
       "..   ...       ...                             ...        ...     ...   \n",
       "847  847       848             Infante Juan Manuel    14192.0   30030   \n",
       "848  848       849           Santa Maria de Gracia    13349.0   30030   \n",
       "849  849       850                    Vista Alegre    15208.0   30030   \n",
       "850  850       851  Poligono Sta M de Benquerencia    19177.0   45168   \n",
       "851  851       852                            Grao    16367.0   12040   \n",
       "\n",
       "                                      Municipio  CodProvin  \\\n",
       "0                                       Agüimes         35   \n",
       "1                                       Antigua         35   \n",
       "2                                      Arrecife         35   \n",
       "3                                        Arucas         35   \n",
       "4                                        Gáldar         35   \n",
       "..                                          ...        ...   \n",
       "847                                      Murcia         30   \n",
       "848                                      Murcia         30   \n",
       "849                                      Murcia         30   \n",
       "850                                      Toledo         45   \n",
       "851  Castellón de la Plana/Castelló de la Plana         12   \n",
       "\n",
       "              Provincia          X          Y  DistanciaMadrid  RadioBarcelona  \n",
       "0            Las Palmas -15.446012  27.900542        17.161937           78.54  \n",
       "1            Las Palmas -14.013301  28.418966        15.818654           78.54  \n",
       "2            Las Palmas -13.551451  28.960649        15.106812           78.54  \n",
       "3            Las Palmas -15.521512  28.117496        17.056584           78.54  \n",
       "4            Las Palmas -15.654111  28.143873        17.129815           78.54  \n",
       "..                  ...        ...        ...              ...             ...  \n",
       "847              Murcia  -1.124304  37.979033         3.549037           78.54  \n",
       "848              Murcia  -1.202069  37.984024         3.489444           78.54  \n",
       "849              Murcia  -1.130564  37.995715         3.533038           78.54  \n",
       "850              Toledo  -3.948364  39.866699         0.601861           78.54  \n",
       "851  Castelló/Castellón   0.012911  39.973568         3.743024           78.54  \n",
       "\n",
       "[852 rows x 12 columns]"
      ]
     },
     "execution_count": 116,
     "metadata": {},
     "output_type": "execute_result"
    }
   ],
   "source": [
    "f = df[df[\"Municipio\"] ==\"Barcelona\"]\n",
    "pi = 3.1416\n",
    "df[\"RadioBarcelona\"] = pi * (5 **2)\n",
    "df"
   ]
  },
  {
   "cell_type": "markdown",
   "id": "044a0d31",
   "metadata": {},
   "source": [
    "**Ejericio 21** Obtenga la media, mediana, desviación estándar, valor máximo y valor mínimo de la población de los municipios de la provincia de Granada."
   ]
  },
  {
   "cell_type": "code",
   "execution_count": null,
   "id": "6989d446",
   "metadata": {
    "ExecuteTime": {
     "end_time": "2022-04-04T13:21:00.668937Z",
     "start_time": "2022-04-04T13:21:00.511430Z"
    }
   },
   "outputs": [],
   "source": [
    "np.arange(\"Municipio\"==\"Granada\")\n",
    "array_provincia(\"Provincia\"==\"Granada\").mean"
   ]
  },
  {
   "cell_type": "markdown",
   "id": "31060b16",
   "metadata": {},
   "source": [
    "**Ejercicio 22** Realice un histograma con la población de los Municipios para cada una de las provincias."
   ]
  },
  {
   "cell_type": "code",
   "execution_count": null,
   "id": "0f621a3e",
   "metadata": {
    "ExecuteTime": {
     "end_time": "2022-04-02T20:42:38.032908Z",
     "start_time": "2022-04-02T20:42:37.732127Z"
    }
   },
   "outputs": [],
   "source": [
    "f = df[df[\"Municipio\"] ==\"Provincia\"]\n",
    "plt.hist(f)\n",
    "plt.show() \n",
    "f=np.histogram(Municipio, Provincia)\n",
    "print(hist,f)"
   ]
  },
  {
   "cell_type": "markdown",
   "id": "3af97806",
   "metadata": {},
   "source": [
    "**Ejercicio 23** Los intervalos de población del histograma irán desde 0 a 300000 personas en intervalos de 20000 en 20000 personas"
   ]
  },
  {
   "cell_type": "code",
   "execution_count": null,
   "id": "8855f47c",
   "metadata": {},
   "outputs": [],
   "source": []
  },
  {
   "cell_type": "markdown",
   "id": "58710c24",
   "metadata": {},
   "source": [
    "**Ejercicio 24** ¿Cuál es el rango de población? (población más grande - población más pequeña)."
   ]
  },
  {
   "cell_type": "code",
   "execution_count": null,
   "id": "25505c96",
   "metadata": {
    "ExecuteTime": {
     "end_time": "2022-04-04T13:21:07.701463Z",
     "start_time": "2022-04-04T13:21:07.675531Z"
    }
   },
   "outputs": [],
   "source": [
    "df=[df[\"Poblacion\"]>0, [\"Poblacion\"]<0]\n",
    "print(max(poblacion))  \n",
    "print(min(poblacion)) "
   ]
  },
  {
   "cell_type": "markdown",
   "id": "077f9a0d",
   "metadata": {},
   "source": [
    "**Ejercicio 25** Genere 20 números aleatorios entre 0 y 30. Pueden tomar cualquier valor decimal en ese rango."
   ]
  },
  {
   "cell_type": "code",
   "execution_count": 130,
   "id": "410ccfb7",
   "metadata": {
    "ExecuteTime": {
     "end_time": "2022-04-02T20:49:48.351128Z",
     "start_time": "2022-04-02T20:49:48.330707Z"
    }
   },
   "outputs": [
    {
     "name": "stdout",
     "output_type": "stream",
     "text": [
      "12\n",
      "28\n",
      "0\n",
      "30\n",
      "1\n",
      "26\n",
      "4\n",
      "27\n",
      "19\n",
      "2\n",
      "1\n",
      "14\n",
      "30\n",
      "0\n",
      "14\n",
      "9\n",
      "23\n",
      "18\n",
      "14\n",
      "22\n"
     ]
    }
   ],
   "source": [
    "import random\n",
    "for i in range(20):\n",
    "    print(random.randint(0, 30))"
   ]
  },
  {
   "cell_type": "markdown",
   "id": "c39c4c1f",
   "metadata": {},
   "source": [
    "**Ejercicio 26** Lance un dado de 20 caras 10 veces. ¿cuál es el valor promedio y la varianza de las tiradas?."
   ]
  },
  {
   "cell_type": "code",
   "execution_count": 131,
   "id": "3c4d8ff0",
   "metadata": {
    "ExecuteTime": {
     "end_time": "2022-04-02T20:50:53.514021Z",
     "start_time": "2022-04-02T20:50:53.504479Z"
    }
   },
   "outputs": [
    {
     "name": "stdout",
     "output_type": "stream",
     "text": [
      "El valor promedio es:  15.0\n",
      "La varianza de las tiradas es:  25.0\n"
     ]
    }
   ],
   "source": [
    "import numpy as np\n",
    "dado = np.array([20,10])\n",
    "print (\"El valor promedio es: \", np.mean(dado))\n",
    "print (\"La varianza de las tiradas es: \", np.var(dado))"
   ]
  },
  {
   "cell_type": "markdown",
   "id": "ead1eccb",
   "metadata": {},
   "source": [
    "**Ejercicio 27** Seleccione al azar cincuenta municipios diferentes de entre los disponibles en el fichero \"NucleosPoblacion.csv\". Asegurese de que no se repitan. ¿El promedio de Población es el mismo que para la totalidad de municipios registrados?."
   ]
  },
  {
   "cell_type": "code",
   "execution_count": null,
   "id": "76410cf6",
   "metadata": {},
   "outputs": [],
   "source": []
  },
  {
   "cell_type": "markdown",
   "id": "802eb3d6",
   "metadata": {},
   "source": [
    "**Ejercicio 29** Cuáles son las raíces del polinomio x3 - 5 * x2 + 1? Compruebe que a partir de las raices, puede generar el polinomio original."
   ]
  },
  {
   "cell_type": "markdown",
   "id": "6c712c0a",
   "metadata": {},
   "source": [
    "**Ejercicio 30** Cuál es el valor del polinomio x3 - 5 * x2 + 1 en los puntos x = [1:3; 22; 99]?."
   ]
  },
  {
   "cell_type": "markdown",
   "id": "06e2d353",
   "metadata": {},
   "source": []
  }
 ],
 "metadata": {
  "kernelspec": {
   "display_name": "Python 3",
   "language": "python",
   "name": "python3"
  },
  "language_info": {
   "codemirror_mode": {
    "name": "ipython",
    "version": 3
   },
   "file_extension": ".py",
   "mimetype": "text/x-python",
   "name": "python",
   "nbconvert_exporter": "python",
   "pygments_lexer": "ipython3",
   "version": "3.8.8"
  },
  "nbTranslate": {
   "displayLangs": [
    "*"
   ],
   "hotkey": "alt-t",
   "langInMainMenu": true,
   "sourceLang": "en",
   "targetLang": "fr",
   "useGoogleTranslate": true
  },
  "toc": {
   "base_numbering": 1,
   "nav_menu": {},
   "number_sections": true,
   "sideBar": true,
   "skip_h1_title": false,
   "title_cell": "Table of Contents",
   "title_sidebar": "Contents",
   "toc_cell": false,
   "toc_position": {},
   "toc_section_display": true,
   "toc_window_display": false
  },
  "varInspector": {
   "cols": {
    "lenName": 16,
    "lenType": 16,
    "lenVar": 40
   },
   "kernels_config": {
    "python": {
     "delete_cmd_postfix": "",
     "delete_cmd_prefix": "del ",
     "library": "var_list.py",
     "varRefreshCmd": "print(var_dic_list())"
    },
    "r": {
     "delete_cmd_postfix": ") ",
     "delete_cmd_prefix": "rm(",
     "library": "var_list.r",
     "varRefreshCmd": "cat(var_dic_list()) "
    }
   },
   "types_to_exclude": [
    "module",
    "function",
    "builtin_function_or_method",
    "instance",
    "_Feature"
   ],
   "window_display": false
  }
 },
 "nbformat": 4,
 "nbformat_minor": 5
}
