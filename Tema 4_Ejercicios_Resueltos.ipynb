{
 "cells": [
  {
   "cell_type": "markdown",
   "id": "eff813a4",
   "metadata": {},
   "source": [
    "1. Escribir una función, llamada chop, que coja una lista y elimine el primer y último elemento, devolviendo None"
   ]
  },
  {
   "cell_type": "code",
   "execution_count": 1,
   "id": "3aef30fb",
   "metadata": {},
   "outputs": [
    {
     "name": "stdout",
     "output_type": "stream",
     "text": [
      "lista inicial [1, 2, 3, 4]\n",
      "Lista eliminando el primer y último elemento  [2, 3]\n"
     ]
    }
   ],
   "source": [
    "def chop(lista):\n",
    "    if len(lista)>1: #calcula la logitud de una lista\n",
    "        print('lista inicial', lista)\n",
    "        del lista[0] #Elimina el elemento de la posicion 0\n",
    "        del lista[-1] #Elimina el elemento de la ultima posicion\n",
    "    else:\n",
    "        del lista[:]\n",
    "    print('Lista eliminando el primer y último elemento ', lista)\n",
    "    return None\n",
    "chop([1,2,3,4]) #Conjunto de listas"
   ]
  },
  {
   "cell_type": "markdown",
   "id": "c61cc1bd",
   "metadata": {},
   "source": [
    "2. Escribir una función, llamada middle, que coja una lista y devuelva una nueva lista que contenga todos los elementos de la inicial menos el primero y el último."
   ]
  },
  {
   "cell_type": "code",
   "execution_count": 7,
   "id": "b23d90bb",
   "metadata": {},
   "outputs": [
    {
     "name": "stdout",
     "output_type": "stream",
     "text": [
      "La primera lista es [10, 20, 30, 40, 50, 60]\n",
      "La nueva lista es [20, 30, 40, 50]\n"
     ]
    }
   ],
   "source": [
    "def middle(lista):\n",
    "    nueva_lista = []\n",
    "    if len(lista)>1: # calcula la longitud de la lista\n",
    "        print('La primera lista es', lista)\n",
    "        nueva_lista = lista[1:len(lista)-1] #Elimina elemento inicial y el ultimo\n",
    "    print('La nueva lista es', nueva_lista) #Imprime la nueva lista\n",
    "    return None\n",
    "middle([10,20,30,40,50,60])\n",
    "    "
   ]
  },
  {
   "cell_type": "code",
   "execution_count": null,
   "id": "5695f775",
   "metadata": {},
   "outputs": [],
   "source": [
    "3. Meter el siguiente texto en una variable:\n",
    "But soft what light through yonder window breaks\n",
    "It is the east and Juliet is the sun\n",
    "Arise fair sun and kill the envious moon\n",
    "Who is already sick and pale with grief\"\n",
    "\n",
    "Crea una función que extraiga todas las palabras diferentes de una variable texto \n",
    "y las devuelva en una lista en orden alfabético.\n"
   ]
  },
  {
   "cell_type": "code",
   "execution_count": 5,
   "id": "d7439410",
   "metadata": {},
   "outputs": [
    {
     "name": "stdout",
     "output_type": "stream",
     "text": [
      "Escriba una palabra: soft\n",
      "['already', 'and', 'and', 'and', 'arise', 'breaks', 'but', 'east', 'envious', 'fair', 'grief', 'is', 'is', 'is', 'it', 'juliet', 'kill', 'light', 'moon', 'pale', 'sick', 'sun', 'sun', 'the', 'the', 'the', 'through', 'what', 'who', 'window', 'with', 'yonder']\n"
     ]
    }
   ],
   "source": [
    "texto = \"But soft what light through yonder window breaks It is the east and Juliet is the sun Arise fair sun and kill the envious moon Who is already sick and pale with grief\"\n",
    "def extraer_diferentes_palabras(palabra): # definimos la funcion \n",
    "    lista = texto.lower().split() # Lista es igual al texto y usamos el lower que devuelve la cadena en minuscula y split para dividir\n",
    "    lista.remove(palabra) # quitamos la palabra \n",
    "    lista.sort() # Ordenamos la lista con sort de forma ascendente\n",
    "    return lista # Retorna la lista\n",
    "palabra = input(\"Escriba una palabra: \") # Ingresar palabras\n",
    "lista = extraer_diferentes_palabras(palabra) # Lista es igual a la funcion extraer palabras\n",
    "print(lista) # Imprimir la lista\n"
   ]
  },
  {
   "cell_type": "markdown",
   "id": "fd3e651b",
   "metadata": {},
   "source": [
    "4. Escribe un programa que le pregunte al usuario por una lista de números e imprima el máximo y el mínimo de los números que ha introducido el usuario, después de que el usuario escriba fin. Nota: sin guardar nada en listas.\n"
   ]
  },
  {
   "cell_type": "code",
   "execution_count": 2,
   "id": "81f862fd",
   "metadata": {},
   "outputs": [
    {
     "name": "stdout",
     "output_type": "stream",
     "text": [
      "Para finalizar escriba fin, caso contrario escriba un número: 34\n",
      "Para finalizar escriba fin, caso contrario escriba un número: 5\n",
      "Para finalizar escriba fin, caso contrario escriba un número: 6\n",
      "Para finalizar escriba fin, caso contrario escriba un número: 7\n",
      "Para finalizar escriba fin, caso contrario escriba un número: 8\n",
      "Para finalizar escriba fin, caso contrario escriba un número: 5\n",
      "Para finalizar escriba fin, caso contrario escriba un número: 12\n",
      "Para finalizar escriba fin, caso contrario escriba un número: 23\n",
      "Para finalizar escriba fin, caso contrario escriba un número: fin\n",
      "El numero maximo es 34\n",
      "El numero minimo es 5\n"
     ]
    }
   ],
   "source": [
    "#Definir las variables\n",
    "opcion = \"\"  # opcion es igual a una cadena vacia\n",
    "maximo = 0 \n",
    "minimo = 0  \n",
    "inicio = True \n",
    "while opcion != \"fin\": #Mientras que opcion sea distinto de fin\n",
    "    opcion = input(\"Para finalizar escriba fin, caso contrario escriba un número: \") #ingresar fin o numero\n",
    "    if opcion.isnumeric(): # isnumeric es un método que se utiliza para el manejo de cadenas\n",
    "        numero = int(opcion) #convertir el valor ingresado en entero\n",
    "        if inicio:          # si al inicio maximo es igual a numero ingresado en la opcion\n",
    "            maximo = numero \n",
    "            minimo = numero # minimo es igual numero y numero es igual a la opcion ingresada\n",
    "            inicio = False  # inicio es igual false\n",
    "\n",
    "        if numero > maximo: #Si numero es mayor que maximo\n",
    "            maximo = numero # Maximo es igual a numero\n",
    "        elif numero < minimo: # si numero es menor que minimo\n",
    "            minimo = numero # minimo es igual a numero\n",
    "        \n",
    "    elif opcion.lower() == \"fin\": #convertir una cadena a minúsculas con lower\n",
    "        opcion = \"fin\" # \n",
    "    else:\n",
    "        print(\"El valor ingresado no es un número\") # imprimir el mensaje\n",
    "\n",
    "print(\"El numero maximo es\", maximo) # imprimir el numero maximo\n",
    "print(\"El numero minimo es\", minimo) # imprimir el numero minimo"
   ]
  },
  {
   "cell_type": "markdown",
   "id": "f5a19a9f",
   "metadata": {},
   "source": [
    "5. Reescriba el programa anterior para que vaya almacenando los números y usar la función max() \n",
    "y min() para calcular los máximos y mínimos de esa lista.\n"
   ]
  },
  {
   "cell_type": "code",
   "execution_count": 14,
   "id": "26ef9d07",
   "metadata": {},
   "outputs": [
    {
     "name": "stdout",
     "output_type": "stream",
     "text": [
      "Para finalizar escriba fin, caso contrario escriba un número: 4\n",
      "Para finalizar escriba fin, caso contrario escriba un número: 3\n",
      "Para finalizar escriba fin, caso contrario escriba un número: 2\n",
      "Para finalizar escriba fin, caso contrario escriba un número: 56\n",
      "Para finalizar escriba fin, caso contrario escriba un número: fin\n",
      "56\n",
      "2\n"
     ]
    }
   ],
   "source": [
    "opcion = \"\" \n",
    "lista = [] # definimos la lista\n",
    "while opcion != \"fin\": # mientras que la opcion sea diferente a fin\n",
    "    opcion = input(\"Para finalizar escriba fin, caso contrario escriba un número: \") #ingresar FIN o NUMERO\n",
    "    if opcion.isnumeric(): # isnumeric es un método que se utiliza para el manejo de cadenas\n",
    "        numero = int(opcion) # numero es opcion ingresada\n",
    "        lista.append(numero) # agregar elemento a la lista     \n",
    "    elif opcion.lower() == \"fin\": # verificar si opcion es diferente que fin\n",
    "        opcion = \"fin\"\n",
    "    else:                   # entonces \n",
    "        print(\"El valor ingresado no es un número\") # imprimir el valor ingresado\n",
    "\n",
    "print(max(lista)) # Imprimir el maximo de la lista\n",
    "print(min(lista)) # Imprimir el minimo de la lista"
   ]
  },
  {
   "cell_type": "markdown",
   "id": "7de69e65",
   "metadata": {},
   "source": [
    "6. Crea las funciones maximo() y minimo() y reescribe el ejercicio anterior con tus funciones.\n"
   ]
  },
  {
   "cell_type": "code",
   "execution_count": 4,
   "id": "c8f4d45e",
   "metadata": {},
   "outputs": [
    {
     "name": "stdout",
     "output_type": "stream",
     "text": [
      "Para finalizar escriba fin, caso contrario escriba un número: \n",
      "El valor ingresado no es un número\n",
      "Para finalizar escriba fin, caso contrario escriba un número: 6\n",
      "Para finalizar escriba fin, caso contrario escriba un número: 5\n",
      "Para finalizar escriba fin, caso contrario escriba un número: 5\n",
      "Para finalizar escriba fin, caso contrario escriba un número: 5\n",
      "Para finalizar escriba fin, caso contrario escriba un número: fin\n",
      "6\n",
      "5\n"
     ]
    }
   ],
   "source": [
    "def maximo(lista): # Definir la funcion maximo\n",
    "    max = 0        # maximo es igual a 0\n",
    "    for numero in lista: # Para el numero en lista\n",
    "        if numero > max: # si numero es mayor que maximo\n",
    "            max = numero # numero es igual a maximo\n",
    "    return max           # retornar el numero maximo\n",
    "def minimo(lista):       # Definir la funcion minimo \n",
    "    min = 0         # minimo es igual a 0       \n",
    "    inicio = True   # inicio es igual a true\n",
    "    for numero in lista: # para numero en lista \n",
    "        if numero < min or inicio: # si numero es menor que minimo o inicio\n",
    "            min = numero          # numero es igual a minimo\n",
    "            inicio = False \n",
    "    return min                 # retornar el minimo\n",
    "opcion = \"\"        # opcion es igual a cadena vacia\n",
    "lista = []         # lista\n",
    "while opcion != \"fin\": # Mientras opcion sea diferente a fin\n",
    "    opcion = input(\"Para finalizar escriba fin, caso contrario escriba un número: \") #ingresar FIN o NUMERO\n",
    "    if opcion.isnumeric(): # isnumeric es un método que se utiliza para el manejo de cadenas\n",
    "        numero = int(opcion) # numero es opcion ingresada\n",
    "        lista.append(numero) # agregar elemento a la lista            \n",
    "    elif opcion.lower() == \"fin\": # verificar si opcion es diferente que fin\n",
    "        opcion = \"fin\"\n",
    "    else: \n",
    "        print(\"El valor ingresado no es un número\")  # imprimir el valor ingresado\n",
    "print(maximo(lista)) # Imprimir el maximo de la lista\n",
    "print(minimo(lista)) # Imprimir el minimo de la lista\n"
   ]
  },
  {
   "cell_type": "markdown",
   "id": "45d440c6",
   "metadata": {},
   "source": [
    "7. Reescribe el ejercicio anterior para que, además, devuelva la media aritmética.\n"
   ]
  },
  {
   "cell_type": "code",
   "execution_count": 3,
   "id": "220a429f",
   "metadata": {},
   "outputs": [
    {
     "name": "stdout",
     "output_type": "stream",
     "text": [
      "Para finalizar escriba fin, caso contrario escriba un número: 4\n",
      "Para finalizar escriba fin, caso contrario escriba un número: 5\n",
      "Para finalizar escriba fin, caso contrario escriba un número: 6\n",
      "Para finalizar escriba fin, caso contrario escriba un número: 7\n",
      "Para finalizar escriba fin, caso contrario escriba un número: fin\n",
      "7\n",
      "4\n",
      "5.5\n"
     ]
    }
   ],
   "source": [
    "def maximo(lista): # \n",
    "    max = 0\n",
    "    for numero in lista:\n",
    "        if numero > max:\n",
    "            max = numero\n",
    "    return max\n",
    "def minimo(lista):\n",
    "    min = 0\n",
    "    inicio = True\n",
    "    for numero in lista:\n",
    "        if numero < min or inicio:\n",
    "            min = numero\n",
    "            inicio = False\n",
    "    return min\n",
    "def media_aritmetica(lista): # Defenimos la funcion media aritmetica\n",
    "    suma = 0\n",
    "    cantidad  = len(lista) # Len retorna la cantidad objetos dentro de una lista\n",
    "    for numero in lista: # para numero en lista \n",
    "        suma += numero   # agregamos el valor a la variable suma\n",
    "    return suma / cantidad # retorna la divicion de suma / cantidad\n",
    "opcion = \"\"\n",
    "lista = []\n",
    "while opcion != \"fin\": # Mientras opcion sea diferente a fin\n",
    "    #ingresar FIN o NUMERO\n",
    "    opcion = input(\"Para finalizar escriba fin, caso contrario escriba un número: \")\n",
    "    if opcion.isnumeric(): # isnumeric es un método que se utiliza para el manejo de cadenas\n",
    "        numero = int(opcion) # numero es opcion ingresada\n",
    "        lista.append(numero) # agregar elemento a la lista          \n",
    "    elif opcion.lower() == \"fin\": # verificar si opcion es diferente que fin\n",
    "        opcion = \"fin\"\n",
    "    else:\n",
    "        print(\"El valor ingresado no es un número\")  # imprimir el valor ingresado\n",
    "print(maximo(lista)) # Imprimir el maximo de la lista\n",
    "print(minimo(lista)) # Imprimir el minimo de la lista\n",
    "print(media_aritmetica(lista)) # Imprimir la media aritmetica"
   ]
  },
  {
   "cell_type": "markdown",
   "id": "fedc0d6b",
   "metadata": {},
   "source": [
    "8. Escribir una función más larga() que tome una lista de palabras y devuelva la más larga. "
   ]
  },
  {
   "cell_type": "code",
   "execution_count": 14,
   "id": "cea7f2c5",
   "metadata": {},
   "outputs": [
    {
     "name": "stdout",
     "output_type": "stream",
     "text": [
      "Para finalizar escriba fin, caso contrario escriba otra palabra: mesa\n",
      "Para finalizar escriba fin, caso contrario escriba otra palabra: tabla\n",
      "Para finalizar escriba fin, caso contrario escriba otra palabra: fin\n",
      "tabla\n"
     ]
    }
   ],
   "source": [
    "def larga(lista): # definir la funcion larga\n",
    "    resultado = \"\"\n",
    "    for palabra in lista: \n",
    "        # Len retorna la cantidad objetos dentro de una lista\n",
    "        if len(palabra) > len(resultado): # si la cantidad de palabras es mayor que el resultado\n",
    "            resultado = palabra           # resultado es igual a palabra\n",
    "    return resultado            # retorna el resultado\n",
    "opcion = \"\"\n",
    "lista = []\n",
    "while opcion != \"fin\":  # mientras que la opcion sea diferente a fin\n",
    "     #ingresar FIN o NUMERO\n",
    "    opcion = input(\"Para finalizar escriba fin, caso contrario escriba otra palabra: \") \n",
    "    if opcion.lower() == \"fin\": # verificar si opcion es diferente que fin\n",
    "        opcion = \"fin\"\n",
    "    else:\n",
    "        lista.append(opcion) # caso contrario agregar elemento a la lista\n",
    "print(larga(lista)) # imprimir la lista"
   ]
  },
  {
   "cell_type": "markdown",
   "id": "d0a4c3cf",
   "metadata": {},
   "source": [
    "Escribir una función filtrar palabras() que tome una lista de palabras y un entero n, y devuelva las palabras que tengan más de n caracteres.\n"
   ]
  },
  {
   "cell_type": "code",
   "execution_count": 1,
   "id": "4910fd77",
   "metadata": {},
   "outputs": [
    {
     "name": "stdout",
     "output_type": "stream",
     "text": [
      "Para finalizar escriba fin, caso contrario escriba otra palabra: 76\n",
      "Para finalizar escriba fin, caso contrario escriba otra palabra: 7\n",
      "Para finalizar escriba fin, caso contrario escriba otra palabra: 8\n",
      "Para finalizar escriba fin, caso contrario escriba otra palabra: 8\n",
      "Para finalizar escriba fin, caso contrario escriba otra palabra: fin\n",
      "Ingrese cantidad de caracteres: 6\n",
      "[]\n"
     ]
    }
   ],
   "source": [
    "def palabras(lista, caracteres): # Definir la funcion palabras\n",
    "    nueva_lista = []\n",
    "    for palabra in lista:        # Lista en palabra \n",
    "        # Len retorna la cantidad objetos dentro de una lista\n",
    "        if len(palabra) > caracteres: # si la cantidad de palabras es mayor que el resultado\n",
    "            nueva_lista.append(palabra) # agregar palabra nueva \n",
    "    return nueva_lista # retornar la nueva lista\n",
    "opcion = \"\"\n",
    "lista = []\n",
    "caracteres = 0\n",
    "while opcion != \"fin\": # mientras que la opcion sea diferente a fin\n",
    "     #ingresar FIN o NUMERO\n",
    "    opcion = input(\"Para finalizar escriba fin, caso contrario escriba otra palabra: \")\n",
    "    if opcion.lower() == \"fin\": # verificar si opcion es diferente que fin\n",
    "        # ingresar la cantidad de caracteres\n",
    "        caracteres = int(input(\"Ingrese cantidad de caracteres: \")) \n",
    "        opcion = \"fin\" \n",
    "    else:\n",
    "        lista.append(opcion) # agregar opcion \n",
    "print(palabras(lista, caracteres)) # Imprimir listas y caracteres"
   ]
  },
  {
   "cell_type": "markdown",
   "id": "70315e2d",
   "metadata": {},
   "source": [
    "9. Ordenación 1: Escribir un programa que dada una lista, devuelva otra que sea la misma ordenada de la siguiente forma: Coger el mínimo de la lista original e insertarlo al final de la lista nueva a devolver.\n"
   ]
  },
  {
   "cell_type": "code",
   "execution_count": 4,
   "id": "dbe2c4f6",
   "metadata": {},
   "outputs": [
    {
     "name": "stdout",
     "output_type": "stream",
     "text": [
      "[2, 3, 4, 5, 9, 1]\n"
     ]
    }
   ],
   "source": [
    "lista = [3, 4 , 5, 1, 9, 2]  # Definir listas\n",
    "lista.sort()                 # Ordenar la lista\n",
    "lista += [lista.pop(0)]      # Elimina en el índice 0\n",
    "print(lista)                 # Imprimir lista"
   ]
  },
  {
   "cell_type": "markdown",
   "id": "451d9030",
   "metadata": {},
   "source": [
    "10. Ordenación 2: Escribir un programa que dada una lista, devuelva otra que sea la misma ordenada de la siguiente forma: Coger cada uno de los elementos de la lista original e irlos insertando en una lista nueva en su posición correspondiente.\n"
   ]
  },
  {
   "cell_type": "code",
   "execution_count": 5,
   "id": "a05299d8",
   "metadata": {},
   "outputs": [
    {
     "name": "stdout",
     "output_type": "stream",
     "text": [
      "[2, 5, 4, 6, 9, 1]\n"
     ]
    }
   ],
   "source": [
    "lista = [2, 5, 4, 6, 9, 1] # Definicion de listas\n",
    "nueva_lista = []           # Nueva lista con elementos vacios\n",
    "for l in lista:            # Para l en la lista \n",
    "    nueva_lista.append(l)  # agregar l a la nueva lista\n",
    "print(nueva_lista)         # imprimir la nueva lista"
   ]
  },
  {
   "cell_type": "markdown",
   "id": "9ade439c",
   "metadata": {},
   "source": [
    "TUPLAS\n",
    "1 . Definir una tupla con 10 edades de personas. Imprimir la cantidad de personas con edades superiores a 20.\n"
   ]
  },
  {
   "cell_type": "code",
   "execution_count": 6,
   "id": "4c2edcd8",
   "metadata": {},
   "outputs": [
    {
     "name": "stdout",
     "output_type": "stream",
     "text": [
      "23\n",
      "24\n",
      "28\n",
      "30\n",
      "45\n"
     ]
    }
   ],
   "source": [
    "edades = (10, 14, 23, 24, 9, 18, 28, 30, 6, 45) # Definir la tupla edades\n",
    "for edad in edades:  # validar edad dentro de las tuplas\n",
    "    if edad > 20:  # si edad es mayor que 20\n",
    "        print(edad) # imprimir edad"
   ]
  },
  {
   "cell_type": "markdown",
   "id": "da207b9e",
   "metadata": {},
   "source": [
    "2. Definir una lista con un conjunto de tuplas, nombres y edades, e imprimir la cantidad de nombres que comienzan con la letra a. También se puede hacer elegir al usuario la letra a buscar.\n"
   ]
  },
  {
   "cell_type": "code",
   "execution_count": 9,
   "id": "85f53e2d",
   "metadata": {},
   "outputs": [
    {
     "name": "stdout",
     "output_type": "stream",
     "text": [
      "Escriba una letra: A\n"
     ]
    }
   ],
   "source": [
    "# Definir una lista con un conjunto de tuplas, nombres y edades\n",
    "personas = (('Abel', 10), ('Mario', 25), ('Carlos', 24), ('Diego', 18), ('Alejandro', 20)) \n",
    "# ingresar la letra \n",
    "letra = input('Escriba una letra: ')\n",
    "for persona in personas: # validar persona en la lista personas\n",
    "    if persona[0].lower().startswith(letra): # devuelve True si una cadena comienza con letra\n",
    "        print(persona[0]) # imprimir persona indice 0\n"
   ]
  },
  {
   "cell_type": "markdown",
   "id": "f90d7acb",
   "metadata": {},
   "source": [
    "3. Bloques de acciones. Dada la siguiente tabla, codificarla como lista de tuplas:\n",
    "\n",
    "Puchase Date\tPurchase Price\tShares\tSymbol\tCurrent Price\n",
    "25 Jan 2001\t43.50\t25\tCAT\t92.45\n",
    "25 Jan 2001\t42.80\t50\tDD\t51.19\n",
    "25 Jan 2001\t42.10\t75\tEK\t34.87\n",
    "25 Jan 2001\t37.58\t100\tGM\t37.58\n"
   ]
  },
  {
   "cell_type": "code",
   "execution_count": 10,
   "id": "4b578631",
   "metadata": {},
   "outputs": [
    {
     "name": "stdout",
     "output_type": "stream",
     "text": [
      "(('25 Jan 2001', 43.5, 25, 'CAT', 92.45), ('25 Jan 2001', 42.8, 50, 'DD', 51.19), ('25 Jan 2001', 42.1, 75, 'EK', 34.87), ('25 Jan 2001', 37.58, 100, 'GM', 37.58))\n"
     ]
    }
   ],
   "source": [
    "datos = ( # definir la lista de tuplas\n",
    "            (\"25 Jan 2001\", 43.50, 25, \"CAT\", 92.45), # \n",
    "            (\"25 Jan 2001\", 42.80, 50, \"DD\", 51.19), #\n",
    "            (\"25 Jan 2001\", 42.10, 75, \"EK\", 34.87), # \n",
    "            (\"25 Jan 2001\", 37.58, 100, \"GM\", 37.58) #\n",
    "        )\n",
    "print(datos) # imprimir datos \n"
   ]
  },
  {
   "cell_type": "markdown",
   "id": "28f2e89b",
   "metadata": {},
   "source": [
    "4. Escribe una función que examine cada campo, multiplique Shares por Purchase Price y y calcule el total de la cartera.\n",
    "Puchase Date\tPurchase Price\tShares\tSymbol\tCurrent Price\n",
    "25 Jan 2001\t43.50\t25\tCAT\t92.45\n",
    "25 Jan 2001\t42.80\t50\tDD\t51.19\n",
    "25 Jan 2001\t42.10\t75\tEK\t34.87\n",
    "25 Jan 2001\t37.58\t100\tGM\t37.58"
   ]
  },
  {
   "cell_type": "code",
   "execution_count": 11,
   "id": "5beccd9c",
   "metadata": {},
   "outputs": [
    {
     "name": "stdout",
     "output_type": "stream",
     "text": [
      "10143.0\n"
     ]
    }
   ],
   "source": [
    "datos = ( # definir la lista de tuplas\n",
    "            (\"25 Jan 2001\", 43.50, 25, \"CAT\", 92.45),\n",
    "            (\"25 Jan 2001\", 42.80, 50, \"DD\", 51.19),\n",
    "            (\"25 Jan 2001\", 42.10, 75, \"EK\", 34.87),\n",
    "            (\"25 Jan 2001\", 37.58, 100, \"GM\", 37.58)\n",
    "        )\n",
    "\n",
    "def calculo(datos): # definir la funcion calculo\n",
    "    total = 0\n",
    "    for dato in datos: # validar el dato en la tuplas datos\n",
    "        total += dato[1]*dato[2] # calculat la multiplicacion de Shares por Purchase Price\n",
    "    return total     # retornar el total\n",
    "print(calculo(datos))  # imprimir los datos"
   ]
  },
  {
   "cell_type": "markdown",
   "id": "f7f2f56e",
   "metadata": {},
   "source": [
    "5. Escribe una función que examine cada campo, multiplique Shares por Purchase Price y Shares por Current Price y calcule el total del dinero ganado o perdido.\n",
    "\n",
    "Puchase Date\tPurchase Price\tShares\tSymbol\tCurrent Price\n",
    "25 Jan 2001\t43.50\t25\tCAT\t92.45\n",
    "25 Jan 2001\t42.80\t50\tDD\t51.19\n",
    "25 Jan 2001\t42.10\t75\tEK\t34.87\n",
    "25 Jan 2001\t37.58\t100\tGM\t37.58"
   ]
  },
  {
   "cell_type": "code",
   "execution_count": 12,
   "id": "fe9331ad",
   "metadata": {},
   "outputs": [
    {
     "name": "stdout",
     "output_type": "stream",
     "text": [
      "1101.0\n"
     ]
    }
   ],
   "source": [
    "datos = ( # definir la lista de tuplas\n",
    "            (\"25 Jan 2001\", 43.50, 25, \"CAT\", 92.45),\n",
    "            (\"25 Jan 2001\", 42.80, 50, \"DD\", 51.19),\n",
    "            (\"25 Jan 2001\", 42.10, 75, \"EK\", 34.87),\n",
    "            (\"25 Jan 2001\", 37.58, 100, \"GM\", 37.58)\n",
    "        )\n",
    "def calculo(datos): # definir la funcion calculo\n",
    "    purchaseTotal = 0 \n",
    "    currentTotal = 0\n",
    "    for dato in datos: # # validar el dato en la tuplas datos\n",
    "        # calcular la multiplicacion Shares por Purchase Price\n",
    "        # Shares por Current Price y calcule el total del dinero\n",
    "        purchaseTotal += dato[1]*dato[2] \n",
    "        currentTotal += dato[2]*dato[4]\n",
    "    return currentTotal - purchaseTotal\n",
    "\n",
    "print(calculo(datos))  # retornar datos"
   ]
  },
  {
   "cell_type": "markdown",
   "id": "01e8b855",
   "metadata": {},
   "source": [
    "Diccionarios\n",
    "1. Dado el siguiente diccionario:\n"
   ]
  },
  {
   "cell_type": "code",
   "execution_count": 12,
   "id": "ab86a7e6",
   "metadata": {},
   "outputs": [],
   "source": [
    "inventory = {\n",
    "    'gold' : 500,\n",
    "    'pouch' : ['flint','twine ','gemstone'] ,\n",
    "    'backpack' : [ 'xylophone' , 'dagger' , 'bedroll' , 'bread loaf' ]\n",
    "}"
   ]
  },
  {
   "cell_type": "code",
   "execution_count": 13,
   "id": "311c352a",
   "metadata": {},
   "outputs": [
    {
     "data": {
      "text/plain": [
       "{'gold': 500,\n",
       " 'pouch': ['flint', 'twine ', 'gemstone'],\n",
       " 'backpack': ['xylophone', 'dagger', 'bedroll', 'bread loaf']}"
      ]
     },
     "execution_count": 13,
     "metadata": {},
     "output_type": "execute_result"
    }
   ],
   "source": [
    "inventory"
   ]
  },
  {
   "cell_type": "markdown",
   "id": "c10fe7c9",
   "metadata": {},
   "source": [
    "Haga lo siguiente:\n",
    "A. Añadir una clave llamada:. 'pocket'"
   ]
  },
  {
   "cell_type": "code",
   "execution_count": 4,
   "id": "3a739215",
   "metadata": {},
   "outputs": [],
   "source": [
    "inventory[\"pocket\"] =  [\"seashell\", \"strange berry\", \"lint\"]"
   ]
  },
  {
   "cell_type": "code",
   "execution_count": 13,
   "id": "4efc4649",
   "metadata": {},
   "outputs": [
    {
     "data": {
      "text/plain": [
       "{'gold': 500,\n",
       " 'pouch': ['flint', 'twine ', 'gemstone'],\n",
       " 'backpack': ['bedroll', 'bread loaf', 'dagger', 'xylophone'],\n",
       " 'pocket': ['seashell', 'strange berry', 'lint']}"
      ]
     },
     "execution_count": 13,
     "metadata": {},
     "output_type": "execute_result"
    }
   ],
   "source": [
    "inventory # imprimir y ver que si se agrego 'pocket"
   ]
  },
  {
   "cell_type": "markdown",
   "id": "e14d8029",
   "metadata": {},
   "source": [
    "B. Establecer el valor de 'pocket' a la lista de cadenas: 'seashell','strange berry' y 'lint'"
   ]
  },
  {
   "cell_type": "code",
   "execution_count": 16,
   "id": "c3588af8",
   "metadata": {},
   "outputs": [],
   "source": [
    "inventory[\"backpack\"].sort()"
   ]
  },
  {
   "cell_type": "code",
   "execution_count": 14,
   "id": "34192905",
   "metadata": {},
   "outputs": [
    {
     "data": {
      "text/plain": [
       "{'gold': 500,\n",
       " 'pouch': ['flint', 'twine ', 'gemstone'],\n",
       " 'backpack': ['bedroll', 'bread loaf', 'dagger', 'xylophone'],\n",
       " 'pocket': ['seashell', 'strange berry', 'lint']}"
      ]
     },
     "execution_count": 14,
     "metadata": {},
     "output_type": "execute_result"
    }
   ],
   "source": [
    "inventory"
   ]
  },
  {
   "cell_type": "markdown",
   "id": "d9943e2c",
   "metadata": {},
   "source": [
    "C. Ordenar los items de la lista dentro de la clave 'backpack'"
   ]
  },
  {
   "cell_type": "code",
   "execution_count": 21,
   "id": "4dbbcdc8",
   "metadata": {},
   "outputs": [],
   "source": [
    "# Ordenando la lista que se encuentra bajo la clave 'backpack'\n",
    "inventory['backpack'].sort() "
   ]
  },
  {
   "cell_type": "code",
   "execution_count": 22,
   "id": "63cce3fa",
   "metadata": {},
   "outputs": [
    {
     "data": {
      "text/plain": [
       "{'gold': 550,\n",
       " 'pouch': ['flint', 'twine ', 'gemstone'],\n",
       " 'backpack': ['bedroll', 'bread loaf', 'xylophone'],\n",
       " 'pocket': ['seashell', 'strange berry', 'lint']}"
      ]
     },
     "execution_count": 22,
     "metadata": {},
     "output_type": "execute_result"
    }
   ],
   "source": [
    "inventory"
   ]
  },
  {
   "cell_type": "markdown",
   "id": "5af5982d",
   "metadata": {},
   "source": [
    "D. Eliminar 'dagger' dentro de la lista de la clave 'backpack'\n"
   ]
  },
  {
   "cell_type": "code",
   "execution_count": 17,
   "id": "80612a8e",
   "metadata": {},
   "outputs": [],
   "source": [
    "inventory[\"backpack\"].remove(\"dagger\")  # Eliminar 'dagger"
   ]
  },
  {
   "cell_type": "code",
   "execution_count": 18,
   "id": "21d57acc",
   "metadata": {},
   "outputs": [
    {
     "data": {
      "text/plain": [
       "{'gold': 500,\n",
       " 'pouch': ['flint', 'twine ', 'gemstone'],\n",
       " 'backpack': ['bedroll', 'bread loaf', 'xylophone'],\n",
       " 'pocket': ['seashell', 'strange berry', 'lint']}"
      ]
     },
     "execution_count": 18,
     "metadata": {},
     "output_type": "execute_result"
    }
   ],
   "source": [
    "inventory # mostrar"
   ]
  },
  {
   "cell_type": "markdown",
   "id": "e53cdadb",
   "metadata": {},
   "source": [
    "E. Añadir 50 a los números almacenados bajo la clave 'gold'"
   ]
  },
  {
   "cell_type": "code",
   "execution_count": 19,
   "id": "65a84ac8",
   "metadata": {},
   "outputs": [],
   "source": [
    "inventory[\"gold\"] += 50 # Añadir 50 "
   ]
  },
  {
   "cell_type": "code",
   "execution_count": 20,
   "id": "28598b20",
   "metadata": {},
   "outputs": [
    {
     "data": {
      "text/plain": [
       "{'gold': 550,\n",
       " 'pouch': ['flint', 'twine ', 'gemstone'],\n",
       " 'backpack': ['bedroll', 'bread loaf', 'xylophone'],\n",
       " 'pocket': ['seashell', 'strange berry', 'lint']}"
      ]
     },
     "execution_count": 20,
     "metadata": {},
     "output_type": "execute_result"
    }
   ],
   "source": [
    "inventory # mostrar"
   ]
  },
  {
   "cell_type": "markdown",
   "id": "883da24f",
   "metadata": {},
   "source": [
    "2. Seguir los siguientes pasos:\n",
    "A. Crear un diccionario llamado 'prices' y otro 'stock' que estén vacíos.\n",
    "B. Poner estos valores en el diccionario prices:\n",
    "\"banana\" : 4,\n",
    "\"apple\": 2,\n",
    "\"orange\": 1.5,\n",
    "\"pear\":3\n",
    "\n",
    "y en stock:\n",
    "\"banana\" : 6\n",
    "\"apple\": 0\n",
    "\"orange\": 32\n",
    "\"pear\":15\n",
    "\n",
    "Imprime cada uno de los productos, indicando su precio y si stock en el siguiente formato:\n",
    "apple\n",
    "price:2\n",
    "stock:0\n",
    "\n",
    "Determinar cuánto dinero tenemos invertido en el almacén.\n"
   ]
  },
  {
   "cell_type": "code",
   "execution_count": null,
   "id": "27f513aa",
   "metadata": {},
   "outputs": [],
   "source": [
    "prices={}\n",
    "stock={}\n",
    "\n",
    "prices['banana']=4\n",
    "prices['apple']=2\n",
    "prices['orange']=1.5\n",
    "prices['pear']=3\n",
    "stock[\"banana\"]=6\n",
    "stock['apple']=0\n",
    "stock['orange']=32\n",
    "stock['pear']=15\n",
    "#print(prices)\n",
    "#print(stock)\n",
    "#print(\" \")\n",
    "pre=0\n",
    "for key in prices:\n",
    "    print(key)\n",
    "    print(\"price:\",prices[key])\n",
    "    print(\"stock:\",stock[key])\n",
    "    pre+=prices[key]\n",
    "print(\"Dinero invertido en el almacen: \",pre)\n"
   ]
  },
  {
   "cell_type": "markdown",
   "id": "fe095ce7",
   "metadata": {},
   "source": [
    "3. Crear un libro de calificaciones\n",
    "A. Crear tres diccionarios: lloyd, alice, y tyler\n",
    "B. Inserta en cada uno de ellos las claves: ”name”, ”homework”, ”quizzes”, y ”tests”. La clave ”name\" contiene el nombre del estudiante y el resto estarían vacías.\n",
    "C. Ahora copie este código:\n",
    "lloyd = {\n",
    "\t\"name\" : \"Lloyd\" ,\n",
    "\t\"homework\" : [ 90.0, 97.0, 75.0 , 92.0 ] ,\n",
    "\t\"quizzes\" : [ 88.0 , 40.0 , 94.0 ] ,\n",
    "\t\"tests\" : [ 75.0, 90.0 ]\n",
    "}\n",
    "alice = {\n",
    "\t\"name\" : \"Alice\" ,\n",
    "\t\"homework\" : [ 1 0 0 . 0 , 9 2. 0 , 9 8. 0 , 1 0 0 . 0 ] ,\n",
    "\t\"quizzes\" : [ 8 2 . 0 , 8 3. 0 , 9 1 . 0 ] ,\n",
    "\t\"tests\" : [ 8 9 . 0 , 9 7 . 0 ]\n",
    "}\n",
    "\n",
    "tyler = {\n",
    "\t\"name\" : \"Tyler\" ,\n",
    "\t\"homework\" : [ 0.0 , 87 0 , 75.0 , 22.0 ] ,\n",
    "\t\"quizzes\" : [ 0.0, 75.0 , 78.0 ],\n",
    "\t\"tests\" : [ 100.0, 100. 0 ]\n",
    "}\n",
    "\n",
    "D. Debajo del código, escribe una lista que contenga los nombres de los estudiantes: lloyd, alice, y tyler\n",
    "\n",
    "E. Crear una función que imprima la ficha de cada uno de los estudiantes con el nombre, homeworks, quizzes y tests (en líneas separadas).\n",
    "\n",
    "F. Crea una función que calcule la media de las calificaciones de cada uno de las claves de los estudiantes.\n",
    "\n",
    "G. Calcula la calificación final de cada uno de los estudiantes, ponderando la nota de los mismos: Homework es 10 %, quizzes es 30 % y tests es 60 %\n",
    "\n",
    "H. Definir una función llamada obtener letra() que dado una calificación nos diga a que letra de nota pertenecen función de la siguiente tabla:\n",
    "\n",
    "If score is 90 or above: return \"A\"\n",
    "Else if score is 80 or above: return \"B\"\n",
    "Else if score is 70 or above: return \"C\"\n",
    "Else if score is 60 or above: return \"D\"\n",
    "Otherwise: return \"F\""
   ]
  },
  {
   "cell_type": "code",
   "execution_count": null,
   "id": "d485ae3f",
   "metadata": {},
   "outputs": [],
   "source": [
    "lloyd={}\n",
    "alice={}\n",
    "tyler={}\n",
    "\n",
    "\n",
    "lloyd['name']=\"Lloyd\"\n",
    "lloyd['homework']=lloyd\n",
    "lloyd['quizzes']=lloyd\n",
    "lloyd['tests']=lloyd\n",
    "\n",
    "\n",
    "lloyd = {\n",
    "\"name\" : \"Lloyd\" ,\n",
    "\"homework\" : [ 90.0, 97.0, 75.0 , 92.0 ] ,\n",
    "\"quizzes\" : [ 88.0 , 40.0 , 94.0 ] ,\n",
    "\"tests\" : [ 75.0, 90.0 ]\n",
    "}\n",
    "alice = {\n",
    "\"name\" : \"Alice\" ,\n",
    "\"homework\" : [ 100.0, 92.0, 98.0 , 100.0 ] ,\n",
    "\"quizzes\" : [ 82.0 , 83.0 , 91.0 ] ,\n",
    "\"tests\" : [ 89.0 , 97.0 ]\n",
    "}\n",
    "\n",
    "tyler = {\n",
    "\"name\" : \"Tyler\" ,\n",
    "\"homework\" : [ 0.0 , 87.0 , 75.0 , 22.0 ] ,\n",
    "\"quizzes\" : [ 0.0, 75.0 , 78.0 ],\n",
    "\"tests\" : [ 100.0, 100.0 ]\n",
    "}\n",
    "\n",
    "\n",
    "listanombres=[\"lloyd\",\"alice\",\"tyler\"]\n",
    "\n",
    "def funcionimprimirseparado(listanombres,es1,es2,es3):\n",
    "    print(listanombres[0])\n",
    "    for key in es1:\n",
    "        print(key,\":\",es1[key])\n",
    "    print(listanombres[1])\n",
    "    for key2 in es2:\n",
    "        print(key2,\":\",es2[key2])\n",
    "    print(listanombres[2])\n",
    "    for key3 in es3:\n",
    "        print(key3,\":\",es3[key3])\n",
    "j=funcionimprimirseparado(listanombres,lloyd,alice,tyler)\n",
    "\n",
    "def mediacalif(estudiante):\n",
    "    ln=[]\n",
    "    c1=0\n",
    "    c2=0\n",
    "    c3=0\n",
    "    hw=estudiante[\"homework\"]\n",
    "    qz=estudiante[\"quizzes\"]\n",
    "    ts=estudiante[\"tests\"]\n",
    "    for x in hw:\n",
    "        c1+=x\n",
    "    prom1=c1/len(hw)\n",
    "    ln.append(prom1)\n",
    "    for y in qz:\n",
    "        c2+=y\n",
    "    prom2=c2/len(qz)\n",
    "    ln.append(prom2)\n",
    "    for z in ts:\n",
    "        c3+=z\n",
    "    prom3=c3/len(ts)\n",
    "    ln.append(prom3)\n",
    "    return ln\n",
    "\n",
    "califest1=mediacalif(lloyd)\n",
    "print(\"Lloys\")\n",
    "for cal in califest1:\n",
    "    print(cal)\n",
    "califest2=mediacalif(alice)\n",
    "print(\"Alice\")\n",
    "for cal2 in califest2:\n",
    "    print(cal2)\n",
    "califest3=mediacalif(tyler)\n",
    "print(\"Tyler\")\n",
    "for cal3 in califest3:\n",
    "    print(cal3)\n",
    "\n",
    "calfin_illoys=califest1[0]*0.1+califest1[1]*0.3+califest1[2]*0.6\n",
    "print(\"Calificacion final Iloys: \",calfin_illoys)\n",
    "calfin_alice=califest2[0]*0.1+califest2[1]*0.3+califest2[2]*0.6\n",
    "print(\"Calificacion final Alice: \",calfin_alice)\n",
    "calfin_tyler=califest3[0]*0.1+califest3[1]*0.3+califest3[2]*0.6\n",
    "print(\"Calificacion final Tyler: \",calfin_tyler)\n",
    "\n",
    "\n",
    "def obtenerletra(calificacion):\n",
    "    if (calificacion>90 or calificacion==90):\n",
    "        return \"A\"\n",
    "    if ((calificacion>80 or calificacion==80)and(calificacion<90)):\n",
    "        return \"B\"\n",
    "    if ((calificacion>70 or calificacion==70)and(calificacion<80)):\n",
    "        return \"C\"\n",
    "    if ((calificacion>60 or calificacion==60)and(calificacion<70)):\n",
    "        return \"D\"\n",
    "    else:\n",
    "        return \"F\"\n",
    "print(\"\")\n",
    "prueba1=obtenerletra(calfin_illoys)\n",
    "print(\"Iloys: \",prueba1)\n",
    "prueba2=obtenerletra(calfin_alice)\n",
    "print(\"Alice: \",prueba2)\n",
    "prueba3=obtenerletra(calfin_tyler)\n",
    "print(\"Tyler: \",prueba3)"
   ]
  }
 ],
 "metadata": {
  "hide_input": false,
  "kernelspec": {
   "display_name": "Python 3",
   "language": "python",
   "name": "python3"
  },
  "language_info": {
   "codemirror_mode": {
    "name": "ipython",
    "version": 3
   },
   "file_extension": ".py",
   "mimetype": "text/x-python",
   "name": "python",
   "nbconvert_exporter": "python",
   "pygments_lexer": "ipython3",
   "version": "3.8.8"
  },
  "nbTranslate": {
   "displayLangs": [
    "*"
   ],
   "hotkey": "alt-t",
   "langInMainMenu": true,
   "sourceLang": "en",
   "targetLang": "fr",
   "useGoogleTranslate": true
  },
  "toc": {
   "base_numbering": 1,
   "nav_menu": {},
   "number_sections": true,
   "sideBar": true,
   "skip_h1_title": false,
   "title_cell": "Table of Contents",
   "title_sidebar": "Contents",
   "toc_cell": false,
   "toc_position": {},
   "toc_section_display": true,
   "toc_window_display": false
  },
  "varInspector": {
   "cols": {
    "lenName": 16,
    "lenType": 16,
    "lenVar": 40
   },
   "kernels_config": {
    "python": {
     "delete_cmd_postfix": "",
     "delete_cmd_prefix": "del ",
     "library": "var_list.py",
     "varRefreshCmd": "print(var_dic_list())"
    },
    "r": {
     "delete_cmd_postfix": ") ",
     "delete_cmd_prefix": "rm(",
     "library": "var_list.r",
     "varRefreshCmd": "cat(var_dic_list()) "
    }
   },
   "types_to_exclude": [
    "module",
    "function",
    "builtin_function_or_method",
    "instance",
    "_Feature"
   ],
   "window_display": false
  }
 },
 "nbformat": 4,
 "nbformat_minor": 5
}
